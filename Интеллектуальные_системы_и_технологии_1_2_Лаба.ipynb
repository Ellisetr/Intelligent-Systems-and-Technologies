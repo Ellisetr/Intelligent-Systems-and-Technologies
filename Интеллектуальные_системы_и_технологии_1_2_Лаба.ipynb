{
  "nbformat": 4,
  "nbformat_minor": 0,
  "metadata": {
    "colab": {
      "provenance": [],
      "collapsed_sections": [],
      "authorship_tag": "ABX9TyO2Q54xgwAhBrye1U6TDlie",
      "include_colab_link": true
    },
    "kernelspec": {
      "name": "python3",
      "display_name": "Python 3"
    },
    "language_info": {
      "name": "python"
    }
  },
  "cells": [
    {
      "cell_type": "markdown",
      "metadata": {
        "id": "view-in-github",
        "colab_type": "text"
      },
      "source": [
        "<a href=\"https://colab.research.google.com/github/Ellisetr/Intelligent-Systems-and-Technologies/blob/main/%D0%98%D0%BD%D1%82%D0%B5%D0%BB%D0%BB%D0%B5%D0%BA%D1%82%D1%83%D0%B0%D0%BB%D1%8C%D0%BD%D1%8B%D0%B5_%D1%81%D0%B8%D1%81%D1%82%D0%B5%D0%BC%D1%8B_%D0%B8_%D1%82%D0%B5%D1%85%D0%BD%D0%BE%D0%BB%D0%BE%D0%B3%D0%B8%D0%B8_1_2_%D0%9B%D0%B0%D0%B1%D0%B0.ipynb\" target=\"_parent\"><img src=\"https://colab.research.google.com/assets/colab-badge.svg\" alt=\"Open In Colab\"/></a>"
      ]
    },
    {
      "cell_type": "markdown",
      "source": [
        "Установка либы в облако:"
      ],
      "metadata": {
        "id": "ZFsMLzs5JrdM"
      }
    },
    {
      "cell_type": "code",
      "source": [
        "%pip install --index-url https://test.pypi.org/simple/ PyARMViz\n",
        "%pip install apriori_python\n",
        "%pip install efficient-apriori\n",
        "%pip install fpgrowth_py"
      ],
      "metadata": {
        "id": "k95rAFqgJk55"
      },
      "execution_count": null,
      "outputs": []
    },
    {
      "cell_type": "markdown",
      "source": [
        "Проверка работы либы"
      ],
      "metadata": {
        "id": "pZpmgWDxJvEO"
      }
    },
    {
      "cell_type": "code",
      "execution_count": null,
      "metadata": {
        "id": "Sm-PAVup1j2z"
      },
      "outputs": [],
      "source": [
        "from PyARMViz import datasets\n",
        "from PyARMViz import *\n",
        "\n",
        "rules = datasets.load_shopping_rules()\n",
        "PyARMViz.generate_rule_graph_plotly(rules)"
      ]
    },
    {
      "cell_type": "markdown",
      "source": [
        "Открытие и получение dataset:"
      ],
      "metadata": {
        "id": "3G_KNFQ5K5qg"
      }
    },
    {
      "cell_type": "code",
      "source": [
        "import pandas as pd\n",
        "\n",
        "class Big_dataset:\n",
        "    def __init__(self) -> None:\n",
        "        self.df = pd.read_csv(\"dataset.csv\", usecols=['InvoiceNo', 'Description'])#, index_col=0)\n",
        "        self.df['Description'] = self.df['Description'].astype(str)\n",
        "        print(self.df)\n",
        "        print(self.df.shape[0])\n",
        "        print(list(self.df.iloc[0])) \n",
        "        ...\n",
        "\n",
        "    def agregate_transactions(self):\n",
        "\n",
        "        self.agregated_transactions = {}\n",
        "        for i in range(self.df.shape[0]):\n",
        "            if list(self.df.iloc[i])[0] not in self.agregated_transactions.keys():\n",
        "                self.agregated_transactions[list(self.df.iloc[i])[0]] = [list(self.df.iloc[i])[1]]\n",
        "            else:\n",
        "                self.agregated_transactions[list(self.df.iloc[i])[0]].append(list(self.df.iloc[i])[1])\n",
        "        \n",
        "        print(self.agregated_transactions)\n",
        "        self.agregated_transactions = list(self.agregated_transactions.values())"
      ],
      "metadata": {
        "id": "PRkPj4lkK5yx"
      },
      "execution_count": null,
      "outputs": []
    },
    {
      "cell_type": "markdown",
      "source": [
        "Apriori для данных из репозитория:"
      ],
      "metadata": {
        "id": "Ig-0V07PKbsH"
      }
    },
    {
      "cell_type": "code",
      "source": [
        "from apriori_python import apriori\n",
        "\n",
        "class Apriori:\n",
        "    def __init__(self, dataset) -> None:\n",
        "        self.transactions = dataset.agregated_transactions\n",
        "\n",
        "    def create_rules(self, min_sup: float, min_conf: float):\n",
        "        self.freq_item_set, self.rules = apriori(self.transactions, minSup=min_sup, minConf=min_conf)"
      ],
      "metadata": {
        "id": "FS8cw8sPLEuB"
      },
      "execution_count": null,
      "outputs": []
    },
    {
      "cell_type": "markdown",
      "source": [
        "Efficeint Apriori:"
      ],
      "metadata": {
        "id": "ucmVoyAGLKzB"
      }
    },
    {
      "cell_type": "code",
      "source": [
        "from efficient_apriori import apriori as ef_apriori\n",
        "\n",
        "class Efficient_apriori(Apriori):\n",
        "\n",
        "    def __init__(self, dataset) -> None:\n",
        "        super().__init__(dataset)\n",
        "\n",
        "    def create_rules(self, min_sup: float, min_conf: float):\n",
        "        self.freq_item_set, self.rules = ef_apriori(self.transactions, min_support=min_sup, min_confidence=min_conf)\n",
        "\n",
        "    def print_rules(self, lhs_len: int, rhs_len: int):\n",
        "        rules_rhs = filter(lambda rule: len(rule.lhs) == lhs_len and len(rule.rhs) == rhs_len, self.rules)\n",
        "        for rule in sorted(rules_rhs, key=lambda rule: rule.confidence): #Не сортирует\n",
        "            print(rule)"
      ],
      "metadata": {
        "id": "D-Lc3GVkLNjP"
      },
      "execution_count": null,
      "outputs": []
    },
    {
      "cell_type": "markdown",
      "source": [
        "FPGrowth:"
      ],
      "metadata": {
        "id": "7luTbjXiLTB_"
      }
    },
    {
      "cell_type": "code",
      "source": [
        "from fpgrowth_py import fpgrowth\n",
        "\n",
        "class Fpgrowth(Apriori):\n",
        "    def __init__(self, dataset) -> None:\n",
        "        super().__init__(dataset)\n",
        "    def create_rules(self, min_sup: float, min_conf: float):\n",
        "        self.freq_item_set, self.rules = fpgrowth(self.transactions, minSupRatio=min_sup, minConf=min_conf)"
      ],
      "metadata": {
        "id": "5XIX_PyPLVPp"
      },
      "execution_count": null,
      "outputs": []
    },
    {
      "cell_type": "markdown",
      "source": [
        "Вызов алгоритмов:"
      ],
      "metadata": {
        "id": "oC5ufiVWLf5K"
      }
    },
    {
      "cell_type": "code",
      "source": [
        "def standard_apriori(dataset):\n",
        "    Apr = Apriori(dataset)\n",
        "    Apr.create_rules(0.02, 0.6)\n",
        "    print(Apr.rules)\n",
        "    print(Apr.freq_item_set)\n",
        "    return Apr.rules\n",
        "\n",
        "\n",
        "def eff_apriori(dataset):\n",
        "    Ef_apr = Efficient_apriori(dataset)\n",
        "    Ef_apr.create_rules(0.02, 0.6)\n",
        "    Ef_apr.print_rules(2, 1)\n",
        "    return Ef_apr.rules\n",
        "    \n",
        "\n",
        "def fpg(dataset):\n",
        "    Fp = Fpgrowth(dataset)\n",
        "    Fp.create_rules(0.02, 0.6)\n",
        "    #print(Fp.freq_item_set)\n",
        "    print('RULES')\n",
        "    rules = [] \n",
        "    for rule in Fp.rules:\n",
        "        if rule not in rules:\n",
        "            rules.append(rule)\n",
        "    for r in rules:\n",
        "        print(r)\n",
        "    return Fp.rules"
      ],
      "metadata": {
        "id": "dMiJ-jQDLhna"
      },
      "execution_count": null,
      "outputs": []
    },
    {
      "cell_type": "markdown",
      "source": [
        "Тест алгоритмов:"
      ],
      "metadata": {
        "id": "8zKhRj5LLo-u"
      }
    },
    {
      "cell_type": "code",
      "source": [
        "def main():\n",
        "    Ds = Big_dataset()\n",
        "    Ds.agregate_transactions()\n",
        "\n",
        "    #fpg(Ds)\n",
        "    eff_apriori(Ds)\n",
        "    #standard_apriori(Ds)\n",
        "    PyARMViz.generate_rule_graph_plotly(eff_apriori(Ds))\n",
        "main()"
      ],
      "metadata": {
        "colab": {
          "base_uri": "https://localhost:8080/",
          "height": 1000
        },
        "id": "c40HpaWQLqqK",
        "outputId": "b60814e0-2af4-49d7-97a3-d56e53eeee4c"
      },
      "execution_count": null,
      "outputs": [
        {
          "output_type": "stream",
          "name": "stdout",
          "text": [
            "       InvoiceNo                          Description\n",
            "0         536365   WHITE HANGING HEART T-LIGHT HOLDER\n",
            "1         536365                  WHITE METAL LANTERN\n",
            "2         536365       CREAM CUPID HEARTS COAT HANGER\n",
            "3         536365  KNITTED UNION FLAG HOT WATER BOTTLE\n",
            "4         536365       RED WOOLLY HOTTIE WHITE HEART.\n",
            "...          ...                                  ...\n",
            "541904    581587          PACK OF 20 SPACEBOY NAPKINS\n",
            "541905    581587         CHILDREN'S APRON DOLLY GIRL \n",
            "541906    581587        CHILDRENS CUTLERY DOLLY GIRL \n",
            "541907    581587      CHILDRENS CUTLERY CIRCUS PARADE\n",
            "541908    581587        BAKING SET 9 PIECE RETROSPOT \n",
            "\n",
            "[541909 rows x 2 columns]\n",
            "541909\n",
            "['536365', 'WHITE HANGING HEART T-LIGHT HOLDER']\n"
          ]
        },
        {
          "output_type": "stream",
          "name": "stderr",
          "text": [
            "IOPub data rate exceeded.\n",
            "The notebook server will temporarily stop sending output\n",
            "to the client in order to avoid crashing it.\n",
            "To change this limit, set the config variable\n",
            "`--NotebookApp.iopub_data_rate_limit`.\n",
            "\n",
            "Current values:\n",
            "NotebookApp.iopub_data_rate_limit=1000000.0 (bytes/sec)\n",
            "NotebookApp.rate_limit_window=3.0 (secs)\n",
            "\n"
          ]
        },
        {
          "output_type": "stream",
          "name": "stdout",
          "text": [
            "{GREEN REGENCY TEACUP AND SAUCER, ROSES REGENCY TEACUP AND SAUCER } -> {PINK REGENCY TEACUP AND SAUCER} (conf: 0.700, supp: 0.021, lift: 22.642, conv: 3.233)\n",
            "{GREEN REGENCY TEACUP AND SAUCER, PINK REGENCY TEACUP AND SAUCER} -> {ROSES REGENCY TEACUP AND SAUCER } (conf: 0.852, supp: 0.021, lift: 19.714, conv: 6.486)\n",
            "{PINK REGENCY TEACUP AND SAUCER, ROSES REGENCY TEACUP AND SAUCER } -> {GREEN REGENCY TEACUP AND SAUCER} (conf: 0.894, supp: 0.021, lift: 21.909, conv: 9.061)\n",
            "{GREEN REGENCY TEACUP AND SAUCER, ROSES REGENCY TEACUP AND SAUCER } -> {PINK REGENCY TEACUP AND SAUCER} (conf: 0.700, supp: 0.021, lift: 22.642, conv: 3.233)\n",
            "{GREEN REGENCY TEACUP AND SAUCER, PINK REGENCY TEACUP AND SAUCER} -> {ROSES REGENCY TEACUP AND SAUCER } (conf: 0.852, supp: 0.021, lift: 19.714, conv: 6.486)\n",
            "{PINK REGENCY TEACUP AND SAUCER, ROSES REGENCY TEACUP AND SAUCER } -> {GREEN REGENCY TEACUP AND SAUCER} (conf: 0.894, supp: 0.021, lift: 21.909, conv: 9.061)\n"
          ]
        },
        {
          "output_type": "display_data",
          "data": {
            "text/html": [
              "<html>\n",
              "<head><meta charset=\"utf-8\" /></head>\n",
              "<body>\n",
              "    <div>            <script src=\"https://cdnjs.cloudflare.com/ajax/libs/mathjax/2.7.5/MathJax.js?config=TeX-AMS-MML_SVG\"></script><script type=\"text/javascript\">if (window.MathJax) {MathJax.Hub.Config({SVG: {font: \"STIX-Web\"}});}</script>                <script type=\"text/javascript\">window.PlotlyConfig = {MathJaxConfig: 'local'};</script>\n",
              "        <script src=\"https://cdn.plot.ly/plotly-2.8.3.min.js\"></script>                <div id=\"3a4a7709-119c-40e5-972d-ae088a226585\" class=\"plotly-graph-div\" style=\"height:525px; width:100%;\"></div>            <script type=\"text/javascript\">                                    window.PLOTLYENV=window.PLOTLYENV || {};                                    if (document.getElementById(\"3a4a7709-119c-40e5-972d-ae088a226585\")) {                    Plotly.newPlot(                        \"3a4a7709-119c-40e5-972d-ae088a226585\",                        [{\"hoverinfo\":\"none\",\"line\":{\"color\":\"#888\",\"width\":0.5},\"mode\":\"lines\",\"x\":[0.44089003034822066,0.5498315439297253,null,0.3680004227164167,0.44089003034822066,null,-0.699786103298246,-0.7385128359670685,null,-0.6125889590418424,-0.699786103298246,null,-0.37706268021029077,-0.3726735376033223,null,-0.3601860059312863,-0.37706268021029077,null,0.6851961356298636,0.79003373895747,null,0.6549958403812891,0.6851961356298636,null,-0.020310989444414593,-0.01463880963303558,null,-0.006573561574478958,-0.020310989444414593,null,-0.006573561574478958,0.04800877390734008,null,-0.006573561574478958,-0.06063294145835667,null,-0.006573561574478958,0.02069264786845109,null,-0.006573561574478958,-0.021950832323288882,null,-0.01463880963303558,-0.0374658237897932,null,-0.01463880963303558,-0.05060603109841768,null,-0.01463880963303558,0.021487722600316055,null,-0.01463880963303558,0.02069264786845109,null,-0.0374658237897932,-0.006573561574478958,null,0.028977648581044624,-0.01463880963303558,null,-0.0016107591147309878,0.028977648581044624,null,-0.0016107591147309878,-0.06063294145835667,null,-0.0016107591147309878,0.021487722600316055,null,-0.05060603109841768,-0.0016107591147309878,null,-0.0024488301284437573,-0.03714589701339757,null,0.039917980139112824,-0.0024488301284437573,null,-0.022206797558089342,-0.03714589701339757,null,-0.011030261453258621,-0.022206797558089342,null,-0.024858308522817996,-0.03714589701339757,null,0.00113565353157544,-0.024858308522817996,null,-0.06394588586087577,-0.03714589701339757,null,-0.09037859553848553,-0.06394588586087577,null,-0.05238573743828608,-0.03714589701339757,null,-0.05391851038368918,-0.05238573743828608,null,0.027231201976068868,0.037814468137298385,null,0.018704885681724334,0.027231201976068868,null,0.04800877390734008,-0.0016107591147309878,null,-0.06063294145835667,-0.01463880963303558,null,0.021487722600316055,-0.006573561574478958,null,0.02069264786845109,-0.0016107591147309878,null,-0.021950832323288882,-0.01463880963303558,null,-0.021950832323288882,-0.0016107591147309878,null],\"y\":[0.4370378265772172,0.5181225873338169,null,0.37548012973474204,0.4370378265772172,null,0.32327323419253773,0.33719230591735705,null,0.2879303189333417,0.32327323419253773,null,-0.7966538909172753,-0.8294689858685959,null,-0.7281207191262177,-0.7966538909172753,null,0.15003501658160245,0.1554767487515353,null,0.1415087802895151,0.15003501658160245,null,-0.4206320974325418,-0.37055932851410367,null,-0.356878723068001,-0.4206320974325418,null,-0.356878723068001,-0.37873494086786735,null,-0.356878723068001,-0.34662812125765136,null,-0.356878723068001,-0.3214356811064506,null,-0.356878723068001,-0.3351934449670666,null,-0.37055932851410367,-0.39463523135363493,null,-0.37055932851410367,-0.37349179022335766,null,-0.37055932851410367,-0.39654081228913024,null,-0.37055932851410367,-0.3214356811064506,null,-0.39463523135363493,-0.356878723068001,null,-0.35115947981281875,-0.37055932851410367,null,-0.36696583820408035,-0.35115947981281875,null,-0.36696583820408035,-0.34662812125765136,null,-0.36696583820408035,-0.39654081228913024,null,-0.37349179022335766,-0.36696583820408035,null,0.6578107345431283,0.6944570681463559,null,0.6494466241097078,0.6578107345431283,null,0.5897968934775154,0.6944570681463559,null,0.5033026247785389,0.5897968934775154,null,0.6613417714543719,0.6944570681463559,null,0.6113448740971896,0.6613417714543719,null,0.6454320062101009,0.6944570681463559,null,0.599481623919099,0.6454320062101009,null,0.6595395522592259,0.6944570681463559,null,0.5802064327022661,0.6595395522592259,null,-0.9361872803524063,-1.0,null,-0.8749307886479653,-0.9361872803524063,null,-0.37873494086786735,-0.36696583820408035,null,-0.34662812125765136,-0.37055932851410367,null,-0.39654081228913024,-0.356878723068001,null,-0.3214356811064506,-0.36696583820408035,null,-0.3351934449670666,-0.37055932851410367,null,-0.3351934449670666,-0.36696583820408035,null],\"type\":\"scatter\"},{\"hoverinfo\":\"text\",\"marker\":{\"color\":[],\"colorbar\":{\"thickness\":15,\"title\":{\"side\":\"right\",\"text\":\"Node Connections\"},\"xanchor\":\"left\"},\"colorscale\":[[0.0,\"rgb(255,255,217)\"],[0.125,\"rgb(237,248,177)\"],[0.25,\"rgb(199,233,180)\"],[0.375,\"rgb(127,205,187)\"],[0.5,\"rgb(65,182,196)\"],[0.625,\"rgb(29,145,192)\"],[0.75,\"rgb(34,94,168)\"],[0.875,\"rgb(37,52,148)\"],[1.0,\"rgb(8,29,88)\"]],\"line\":{\"width\":2},\"reversescale\":true,\"showscale\":true,\"size\":10},\"mode\":\"markers\",\"text\":[\"0\",\"ALARM CLOCK BAKELIKE GREEN\",\"ALARM CLOCK BAKELIKE RED \",\"1\",\"CHARLOTTE BAG PINK POLKADOT\",\"RED RETROSPOT CHARLOTTE BAG\",\"2\",\"DOLLY GIRL LUNCH BOX\",\"SPACEBOY LUNCH BOX \",\"3\",\"GARDENERS KNEELING PAD CUP OF TEA \",\"GARDENERS KNEELING PAD KEEP CALM \",\"4\",\"PINK REGENCY TEACUP AND SAUCER\",\"GREEN REGENCY TEACUP AND SAUCER\",\"5\",\"6\",\"ROSES REGENCY TEACUP AND SAUCER \",\"7\",\"8\",\"JUMBO  BAG BAROQUE BLACK WHITE\",\"JUMBO BAG RED RETROSPOT\",\"9\",\"JUMBO BAG PINK POLKADOT\",\"10\",\"JUMBO BAG STRAWBERRY\",\"11\",\"JUMBO BAG WOODLAND ANIMALS\",\"12\",\"JUMBO STORAGE BAG SUKI\",\"13\",\"PAPER CHAIN KIT VINTAGE CHRISTMAS\",\"PAPER CHAIN KIT 50'S CHRISTMAS \",\"14\",\"15\",\"16\",\"17\",\"18\"],\"x\":[0.44089003034822066,0.3680004227164167,0.5498315439297253,-0.699786103298246,-0.6125889590418424,-0.7385128359670685,-0.37706268021029077,-0.3601860059312863,-0.3726735376033223,0.6851961356298636,0.6549958403812891,0.79003373895747,-0.020310989444414593,-0.006573561574478958,-0.01463880963303558,-0.0374658237897932,0.028977648581044624,-0.0016107591147309878,-0.05060603109841768,-0.0024488301284437573,0.039917980139112824,-0.03714589701339757,-0.022206797558089342,-0.011030261453258621,-0.024858308522817996,0.00113565353157544,-0.06394588586087577,-0.09037859553848553,-0.05238573743828608,-0.05391851038368918,0.027231201976068868,0.018704885681724334,0.037814468137298385,0.04800877390734008,-0.06063294145835667,0.021487722600316055,0.02069264786845109,-0.021950832323288882],\"y\":[0.4370378265772172,0.37548012973474204,0.5181225873338169,0.32327323419253773,0.2879303189333417,0.33719230591735705,-0.7966538909172753,-0.7281207191262177,-0.8294689858685959,0.15003501658160245,0.1415087802895151,0.1554767487515353,-0.4206320974325418,-0.356878723068001,-0.37055932851410367,-0.39463523135363493,-0.35115947981281875,-0.36696583820408035,-0.37349179022335766,0.6578107345431283,0.6494466241097078,0.6944570681463559,0.5897968934775154,0.5033026247785389,0.6613417714543719,0.6113448740971896,0.6454320062101009,0.599481623919099,0.6595395522592259,0.5802064327022661,-0.9361872803524063,-0.8749307886479653,-1.0,-0.37873494086786735,-0.34662812125765136,-0.39654081228913024,-0.3214356811064506,-0.3351934449670666],\"type\":\"scatter\"}],                        {\"annotations\":[{\"showarrow\":false,\"text\":\"Python code: <a href='https://plotly.com/ipython-notebooks/network-graphs/'> https://plotly.com/ipython-notebooks/network-graphs/</a>\",\"x\":0.005,\"xref\":\"paper\",\"y\":-0.002,\"yref\":\"paper\"}],\"hovermode\":\"closest\",\"margin\":{\"b\":20,\"l\":5,\"r\":5,\"t\":40},\"showlegend\":false,\"title\":{\"font\":{\"size\":16},\"text\":\"<br>Network graph made with Python\"},\"xaxis\":{\"showgrid\":false,\"showticklabels\":false,\"zeroline\":false},\"yaxis\":{\"showgrid\":false,\"showticklabels\":false,\"zeroline\":false},\"template\":{\"data\":{\"bar\":[{\"error_x\":{\"color\":\"#2a3f5f\"},\"error_y\":{\"color\":\"#2a3f5f\"},\"marker\":{\"line\":{\"color\":\"#E5ECF6\",\"width\":0.5},\"pattern\":{\"fillmode\":\"overlay\",\"size\":10,\"solidity\":0.2}},\"type\":\"bar\"}],\"barpolar\":[{\"marker\":{\"line\":{\"color\":\"#E5ECF6\",\"width\":0.5},\"pattern\":{\"fillmode\":\"overlay\",\"size\":10,\"solidity\":0.2}},\"type\":\"barpolar\"}],\"carpet\":[{\"aaxis\":{\"endlinecolor\":\"#2a3f5f\",\"gridcolor\":\"white\",\"linecolor\":\"white\",\"minorgridcolor\":\"white\",\"startlinecolor\":\"#2a3f5f\"},\"baxis\":{\"endlinecolor\":\"#2a3f5f\",\"gridcolor\":\"white\",\"linecolor\":\"white\",\"minorgridcolor\":\"white\",\"startlinecolor\":\"#2a3f5f\"},\"type\":\"carpet\"}],\"choropleth\":[{\"colorbar\":{\"outlinewidth\":0,\"ticks\":\"\"},\"type\":\"choropleth\"}],\"contour\":[{\"colorbar\":{\"outlinewidth\":0,\"ticks\":\"\"},\"colorscale\":[[0.0,\"#0d0887\"],[0.1111111111111111,\"#46039f\"],[0.2222222222222222,\"#7201a8\"],[0.3333333333333333,\"#9c179e\"],[0.4444444444444444,\"#bd3786\"],[0.5555555555555556,\"#d8576b\"],[0.6666666666666666,\"#ed7953\"],[0.7777777777777778,\"#fb9f3a\"],[0.8888888888888888,\"#fdca26\"],[1.0,\"#f0f921\"]],\"type\":\"contour\"}],\"contourcarpet\":[{\"colorbar\":{\"outlinewidth\":0,\"ticks\":\"\"},\"type\":\"contourcarpet\"}],\"heatmap\":[{\"colorbar\":{\"outlinewidth\":0,\"ticks\":\"\"},\"colorscale\":[[0.0,\"#0d0887\"],[0.1111111111111111,\"#46039f\"],[0.2222222222222222,\"#7201a8\"],[0.3333333333333333,\"#9c179e\"],[0.4444444444444444,\"#bd3786\"],[0.5555555555555556,\"#d8576b\"],[0.6666666666666666,\"#ed7953\"],[0.7777777777777778,\"#fb9f3a\"],[0.8888888888888888,\"#fdca26\"],[1.0,\"#f0f921\"]],\"type\":\"heatmap\"}],\"heatmapgl\":[{\"colorbar\":{\"outlinewidth\":0,\"ticks\":\"\"},\"colorscale\":[[0.0,\"#0d0887\"],[0.1111111111111111,\"#46039f\"],[0.2222222222222222,\"#7201a8\"],[0.3333333333333333,\"#9c179e\"],[0.4444444444444444,\"#bd3786\"],[0.5555555555555556,\"#d8576b\"],[0.6666666666666666,\"#ed7953\"],[0.7777777777777778,\"#fb9f3a\"],[0.8888888888888888,\"#fdca26\"],[1.0,\"#f0f921\"]],\"type\":\"heatmapgl\"}],\"histogram\":[{\"marker\":{\"pattern\":{\"fillmode\":\"overlay\",\"size\":10,\"solidity\":0.2}},\"type\":\"histogram\"}],\"histogram2d\":[{\"colorbar\":{\"outlinewidth\":0,\"ticks\":\"\"},\"colorscale\":[[0.0,\"#0d0887\"],[0.1111111111111111,\"#46039f\"],[0.2222222222222222,\"#7201a8\"],[0.3333333333333333,\"#9c179e\"],[0.4444444444444444,\"#bd3786\"],[0.5555555555555556,\"#d8576b\"],[0.6666666666666666,\"#ed7953\"],[0.7777777777777778,\"#fb9f3a\"],[0.8888888888888888,\"#fdca26\"],[1.0,\"#f0f921\"]],\"type\":\"histogram2d\"}],\"histogram2dcontour\":[{\"colorbar\":{\"outlinewidth\":0,\"ticks\":\"\"},\"colorscale\":[[0.0,\"#0d0887\"],[0.1111111111111111,\"#46039f\"],[0.2222222222222222,\"#7201a8\"],[0.3333333333333333,\"#9c179e\"],[0.4444444444444444,\"#bd3786\"],[0.5555555555555556,\"#d8576b\"],[0.6666666666666666,\"#ed7953\"],[0.7777777777777778,\"#fb9f3a\"],[0.8888888888888888,\"#fdca26\"],[1.0,\"#f0f921\"]],\"type\":\"histogram2dcontour\"}],\"mesh3d\":[{\"colorbar\":{\"outlinewidth\":0,\"ticks\":\"\"},\"type\":\"mesh3d\"}],\"parcoords\":[{\"line\":{\"colorbar\":{\"outlinewidth\":0,\"ticks\":\"\"}},\"type\":\"parcoords\"}],\"pie\":[{\"automargin\":true,\"type\":\"pie\"}],\"scatter\":[{\"marker\":{\"colorbar\":{\"outlinewidth\":0,\"ticks\":\"\"}},\"type\":\"scatter\"}],\"scatter3d\":[{\"line\":{\"colorbar\":{\"outlinewidth\":0,\"ticks\":\"\"}},\"marker\":{\"colorbar\":{\"outlinewidth\":0,\"ticks\":\"\"}},\"type\":\"scatter3d\"}],\"scattercarpet\":[{\"marker\":{\"colorbar\":{\"outlinewidth\":0,\"ticks\":\"\"}},\"type\":\"scattercarpet\"}],\"scattergeo\":[{\"marker\":{\"colorbar\":{\"outlinewidth\":0,\"ticks\":\"\"}},\"type\":\"scattergeo\"}],\"scattergl\":[{\"marker\":{\"colorbar\":{\"outlinewidth\":0,\"ticks\":\"\"}},\"type\":\"scattergl\"}],\"scattermapbox\":[{\"marker\":{\"colorbar\":{\"outlinewidth\":0,\"ticks\":\"\"}},\"type\":\"scattermapbox\"}],\"scatterpolar\":[{\"marker\":{\"colorbar\":{\"outlinewidth\":0,\"ticks\":\"\"}},\"type\":\"scatterpolar\"}],\"scatterpolargl\":[{\"marker\":{\"colorbar\":{\"outlinewidth\":0,\"ticks\":\"\"}},\"type\":\"scatterpolargl\"}],\"scatterternary\":[{\"marker\":{\"colorbar\":{\"outlinewidth\":0,\"ticks\":\"\"}},\"type\":\"scatterternary\"}],\"surface\":[{\"colorbar\":{\"outlinewidth\":0,\"ticks\":\"\"},\"colorscale\":[[0.0,\"#0d0887\"],[0.1111111111111111,\"#46039f\"],[0.2222222222222222,\"#7201a8\"],[0.3333333333333333,\"#9c179e\"],[0.4444444444444444,\"#bd3786\"],[0.5555555555555556,\"#d8576b\"],[0.6666666666666666,\"#ed7953\"],[0.7777777777777778,\"#fb9f3a\"],[0.8888888888888888,\"#fdca26\"],[1.0,\"#f0f921\"]],\"type\":\"surface\"}],\"table\":[{\"cells\":{\"fill\":{\"color\":\"#EBF0F8\"},\"line\":{\"color\":\"white\"}},\"header\":{\"fill\":{\"color\":\"#C8D4E3\"},\"line\":{\"color\":\"white\"}},\"type\":\"table\"}]},\"layout\":{\"annotationdefaults\":{\"arrowcolor\":\"#2a3f5f\",\"arrowhead\":0,\"arrowwidth\":1},\"autotypenumbers\":\"strict\",\"coloraxis\":{\"colorbar\":{\"outlinewidth\":0,\"ticks\":\"\"}},\"colorscale\":{\"diverging\":[[0,\"#8e0152\"],[0.1,\"#c51b7d\"],[0.2,\"#de77ae\"],[0.3,\"#f1b6da\"],[0.4,\"#fde0ef\"],[0.5,\"#f7f7f7\"],[0.6,\"#e6f5d0\"],[0.7,\"#b8e186\"],[0.8,\"#7fbc41\"],[0.9,\"#4d9221\"],[1,\"#276419\"]],\"sequential\":[[0.0,\"#0d0887\"],[0.1111111111111111,\"#46039f\"],[0.2222222222222222,\"#7201a8\"],[0.3333333333333333,\"#9c179e\"],[0.4444444444444444,\"#bd3786\"],[0.5555555555555556,\"#d8576b\"],[0.6666666666666666,\"#ed7953\"],[0.7777777777777778,\"#fb9f3a\"],[0.8888888888888888,\"#fdca26\"],[1.0,\"#f0f921\"]],\"sequentialminus\":[[0.0,\"#0d0887\"],[0.1111111111111111,\"#46039f\"],[0.2222222222222222,\"#7201a8\"],[0.3333333333333333,\"#9c179e\"],[0.4444444444444444,\"#bd3786\"],[0.5555555555555556,\"#d8576b\"],[0.6666666666666666,\"#ed7953\"],[0.7777777777777778,\"#fb9f3a\"],[0.8888888888888888,\"#fdca26\"],[1.0,\"#f0f921\"]]},\"colorway\":[\"#636efa\",\"#EF553B\",\"#00cc96\",\"#ab63fa\",\"#FFA15A\",\"#19d3f3\",\"#FF6692\",\"#B6E880\",\"#FF97FF\",\"#FECB52\"],\"font\":{\"color\":\"#2a3f5f\"},\"geo\":{\"bgcolor\":\"white\",\"lakecolor\":\"white\",\"landcolor\":\"#E5ECF6\",\"showlakes\":true,\"showland\":true,\"subunitcolor\":\"white\"},\"hoverlabel\":{\"align\":\"left\"},\"hovermode\":\"closest\",\"mapbox\":{\"style\":\"light\"},\"paper_bgcolor\":\"white\",\"plot_bgcolor\":\"#E5ECF6\",\"polar\":{\"angularaxis\":{\"gridcolor\":\"white\",\"linecolor\":\"white\",\"ticks\":\"\"},\"bgcolor\":\"#E5ECF6\",\"radialaxis\":{\"gridcolor\":\"white\",\"linecolor\":\"white\",\"ticks\":\"\"}},\"scene\":{\"xaxis\":{\"backgroundcolor\":\"#E5ECF6\",\"gridcolor\":\"white\",\"gridwidth\":2,\"linecolor\":\"white\",\"showbackground\":true,\"ticks\":\"\",\"zerolinecolor\":\"white\"},\"yaxis\":{\"backgroundcolor\":\"#E5ECF6\",\"gridcolor\":\"white\",\"gridwidth\":2,\"linecolor\":\"white\",\"showbackground\":true,\"ticks\":\"\",\"zerolinecolor\":\"white\"},\"zaxis\":{\"backgroundcolor\":\"#E5ECF6\",\"gridcolor\":\"white\",\"gridwidth\":2,\"linecolor\":\"white\",\"showbackground\":true,\"ticks\":\"\",\"zerolinecolor\":\"white\"}},\"shapedefaults\":{\"line\":{\"color\":\"#2a3f5f\"}},\"ternary\":{\"aaxis\":{\"gridcolor\":\"white\",\"linecolor\":\"white\",\"ticks\":\"\"},\"baxis\":{\"gridcolor\":\"white\",\"linecolor\":\"white\",\"ticks\":\"\"},\"bgcolor\":\"#E5ECF6\",\"caxis\":{\"gridcolor\":\"white\",\"linecolor\":\"white\",\"ticks\":\"\"}},\"title\":{\"x\":0.05},\"xaxis\":{\"automargin\":true,\"gridcolor\":\"white\",\"linecolor\":\"white\",\"ticks\":\"\",\"title\":{\"standoff\":15},\"zerolinecolor\":\"white\",\"zerolinewidth\":2},\"yaxis\":{\"automargin\":true,\"gridcolor\":\"white\",\"linecolor\":\"white\",\"ticks\":\"\",\"title\":{\"standoff\":15},\"zerolinecolor\":\"white\",\"zerolinewidth\":2}}}},                        {\"responsive\": true}                    ).then(function(){\n",
              "                            \n",
              "var gd = document.getElementById('3a4a7709-119c-40e5-972d-ae088a226585');\n",
              "var x = new MutationObserver(function (mutations, observer) {{\n",
              "        var display = window.getComputedStyle(gd).display;\n",
              "        if (!display || display === 'none') {{\n",
              "            console.log([gd, 'removed!']);\n",
              "            Plotly.purge(gd);\n",
              "            observer.disconnect();\n",
              "        }}\n",
              "}});\n",
              "\n",
              "// Listen for the removal of the full notebook cells\n",
              "var notebookContainer = gd.closest('#notebook-container');\n",
              "if (notebookContainer) {{\n",
              "    x.observe(notebookContainer, {childList: true});\n",
              "}}\n",
              "\n",
              "// Listen for the clearing of the current output cell\n",
              "var outputEl = gd.closest('.output');\n",
              "if (outputEl) {{\n",
              "    x.observe(outputEl, {childList: true});\n",
              "}}\n",
              "\n",
              "                        })                };                            </script>        </div>\n",
              "</body>\n",
              "</html>"
            ]
          },
          "metadata": {}
        }
      ]
    }
  ]
}