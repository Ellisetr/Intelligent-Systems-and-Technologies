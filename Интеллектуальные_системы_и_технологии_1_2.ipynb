{
  "nbformat": 4,
  "nbformat_minor": 0,
  "metadata": {
    "colab": {
      "provenance": [],
      "collapsed_sections": [],
      "authorship_tag": "ABX9TyMcoeMDmwbl5o2WfehCiecI",
      "include_colab_link": true
    },
    "kernelspec": {
      "name": "python3",
      "display_name": "Python 3"
    },
    "language_info": {
      "name": "python"
    }
  },
  "cells": [
    {
      "cell_type": "markdown",
      "metadata": {
        "id": "view-in-github",
        "colab_type": "text"
      },
      "source": [
        "<a href=\"https://colab.research.google.com/github/Ellisetr/Intelligent-Systems-and-Technologies/blob/main/%D0%98%D0%BD%D1%82%D0%B5%D0%BB%D0%BB%D0%B5%D0%BA%D1%82%D1%83%D0%B0%D0%BB%D1%8C%D0%BD%D1%8B%D0%B5_%D1%81%D0%B8%D1%81%D1%82%D0%B5%D0%BC%D1%8B_%D0%B8_%D1%82%D0%B5%D1%85%D0%BD%D0%BE%D0%BB%D0%BE%D0%B3%D0%B8%D0%B8_1_2.ipynb\" target=\"_parent\"><img src=\"https://colab.research.google.com/assets/colab-badge.svg\" alt=\"Open In Colab\"/></a>"
      ]
    },
    {
      "cell_type": "markdown",
      "source": [
        "# Лабораторная 1-2\n",
        "1. Применить для тестовых вариантов и вариантов из репозиториев различные алгоритмы поиска ассоциативных правил при одинаковых начальных\n",
        "условиях (при одинаковых пороговых значениях для поддержки и достоверности) и сравнить полученные результаты. Для тестовых вариантов выполнить\n",
        "ручные расчеты (например, с применением MS Excel) и расчеты с применением\n",
        "программных библиотек на языке Python. Для вариантов из репозиториев выполнить расчеты с применением программных библиотек на языке Python.\n",
        "В качестве алгоритмов поиска ассоциативных правил использовать алгоритмы:\n",
        "\n",
        "*   Apriori;\n",
        "*   Efficient Apriori;\n",
        "*   FPGrowth.\n",
        "\n",
        "2. Сформировать базы ассоциативных правил с уровнем минимальной достоверности 60% и 80%. Вычислить для ассоциативных правил поддержку, достоверность, значимость.\n",
        "3. Оценить время формирования искомых ассоциативных правил с применением различных алгоритмов и построить диаграммы, позволяющие выполнить сравнительный анализ.\n",
        "4. Выполнить визуализацию ассоциативных правил."
      ],
      "metadata": {
        "id": "niupzeyGRyTO"
      }
    },
    {
      "cell_type": "markdown",
      "source": [
        "Установка либы в облако:"
      ],
      "metadata": {
        "id": "ZFsMLzs5JrdM"
      }
    },
    {
      "cell_type": "code",
      "source": [
        "%pip install --index-url https://test.pypi.org/simple/ PyARMViz\n",
        "%pip install apriori_python\n",
        "%pip install efficient-apriori\n",
        "%pip install fpgrowth_py"
      ],
      "metadata": {
        "id": "k95rAFqgJk55",
        "colab": {
          "base_uri": "https://localhost:8080/"
        },
        "outputId": "9ecaef24-92d0-43c1-d782-7165e09715dd"
      },
      "execution_count": null,
      "outputs": [
        {
          "output_type": "stream",
          "name": "stdout",
          "text": [
            "Looking in indexes: https://test.pypi.org/simple/, https://us-python.pkg.dev/colab-wheels/public/simple/\n",
            "Requirement already satisfied: PyARMViz in /usr/local/lib/python3.7/dist-packages (0.1.3)\n",
            "Requirement already satisfied: numpy in /usr/local/lib/python3.7/dist-packages (from PyARMViz) (1.21.6)\n",
            "Requirement already satisfied: networkx in /usr/local/lib/python3.7/dist-packages (from PyARMViz) (2.6.3)\n",
            "Requirement already satisfied: plotly in /usr/local/lib/python3.7/dist-packages (from PyARMViz) (5.5.0)\n",
            "Requirement already satisfied: tenacity>=6.2.0 in /usr/local/lib/python3.7/dist-packages (from plotly->PyARMViz) (8.0.1)\n",
            "Requirement already satisfied: six in /usr/local/lib/python3.7/dist-packages (from plotly->PyARMViz) (1.15.0)\n",
            "Looking in indexes: https://pypi.org/simple, https://us-python.pkg.dev/colab-wheels/public/simple/\n",
            "Requirement already satisfied: apriori_python in /usr/local/lib/python3.7/dist-packages (1.0.4)\n",
            "Looking in indexes: https://pypi.org/simple, https://us-python.pkg.dev/colab-wheels/public/simple/\n",
            "Requirement already satisfied: efficient-apriori in /usr/local/lib/python3.7/dist-packages (2.0.1)\n",
            "Looking in indexes: https://pypi.org/simple, https://us-python.pkg.dev/colab-wheels/public/simple/\n",
            "Requirement already satisfied: fpgrowth_py in /usr/local/lib/python3.7/dist-packages (1.0.0)\n"
          ]
        }
      ]
    },
    {
      "cell_type": "markdown",
      "source": [
        "Открытие и получение dataset:"
      ],
      "metadata": {
        "id": "3G_KNFQ5K5qg"
      }
    },
    {
      "cell_type": "code",
      "source": [
        "import pandas as pd\n",
        "\n",
        "class dataset:\n",
        "    def __init__(self, url, cols):\n",
        "        if url.split('.')[-1] == 'csv':\n",
        "            self.df = pd.read_csv(url, usecols = cols)\n",
        "        else:\n",
        "            self.df = pd.read_excel(url, usecols = cols)\n",
        "        self.df[cols[1]] = self.df[cols[1]].astype(str)\n",
        "\n",
        "    def agregate_transactions(self):\n",
        "        self.agregated_transactions = {}\n",
        "        for i in range(self.df.shape[0]):\n",
        "            if list(self.df.iloc[i])[0] not in self.agregated_transactions.keys():\n",
        "                self.agregated_transactions[list(self.df.iloc[i])[0]] = [list(self.df.iloc[i])[1]]\n",
        "            else:\n",
        "                self.agregated_transactions[list(self.df.iloc[i])[0]].append(list(self.df.iloc[i])[1])\n",
        "        self.agregated_transactions = list(self.agregated_transactions.values())"
      ],
      "metadata": {
        "id": "PRkPj4lkK5yx"
      },
      "execution_count": null,
      "outputs": []
    },
    {
      "cell_type": "markdown",
      "source": [
        "Apriori:"
      ],
      "metadata": {
        "id": "Ig-0V07PKbsH"
      }
    },
    {
      "cell_type": "code",
      "source": [
        "from apriori_python import apriori\n",
        "\n",
        "class Apriori:\n",
        "    def __init__(self, dataset):\n",
        "        self.transactions = dataset.agregated_transactions\n",
        "\n",
        "    def create_rules(self, min_sup, min_conf):\n",
        "        self.freq_item_set, self.rules = apriori(self.transactions, minSup=min_sup, minConf=min_conf)\n",
        "\n",
        "    def return_rules(self):\n",
        "        return self.freq_item_set, self.rules\n",
        "\n",
        "    def print_rules(self):\n",
        "        print(\"Apriori rules:\",self.rules)\n",
        "        print(\"Apriori freq:\",self.freq_item_set)"
      ],
      "metadata": {
        "id": "FS8cw8sPLEuB"
      },
      "execution_count": null,
      "outputs": []
    },
    {
      "cell_type": "markdown",
      "source": [
        "Efficeint Apriori:"
      ],
      "metadata": {
        "id": "ucmVoyAGLKzB"
      }
    },
    {
      "cell_type": "code",
      "source": [
        "from efficient_apriori import apriori as ef_apriori\n",
        "\n",
        "class Efficient_apriori(Apriori):\n",
        "    def __init__(self, dataset):\n",
        "        super().__init__(dataset)\n",
        "\n",
        "    def create_rules(self, min_sup, min_conf):\n",
        "        self.freq_item_set, self.rules = ef_apriori(self.transactions, min_support=min_sup, min_confidence=min_conf)\n",
        "    \n",
        "    def return_rules(self):\n",
        "        return self.freq_item_set, self.rules\n",
        "\n",
        "    def print_rules(self):\n",
        "        self.print_rules_help(2,1)\n",
        "        print(\"Efficient apriori freq:\",self.freq_item_set)\n",
        "\n",
        "    def print_rules_help(self, lhs_len: int, rhs_len: int):\n",
        "        rules_rhs = filter(lambda rule: len(rule.lhs) == lhs_len and len(rule.rhs) == rhs_len, self.rules)\n",
        "        for rule in sorted(rules_rhs, key=lambda rule: rule.confidence):\n",
        "            print(rule)"
      ],
      "metadata": {
        "id": "D-Lc3GVkLNjP"
      },
      "execution_count": null,
      "outputs": []
    },
    {
      "cell_type": "markdown",
      "source": [
        "FPGrowth:"
      ],
      "metadata": {
        "id": "7luTbjXiLTB_"
      }
    },
    {
      "cell_type": "code",
      "source": [
        "from fpgrowth_py import fpgrowth\n",
        "\n",
        "class Fpgrowth(Apriori):\n",
        "    def __init__(self, dataset):\n",
        "        super().__init__(dataset)\n",
        "\n",
        "    def create_rules(self, min_sup, min_conf):\n",
        "        self.freq_item_set, self.rules = fpgrowth(self.transactions, minSupRatio=min_sup, minConf=min_conf)\n",
        "\n",
        "    def return_rules(self):\n",
        "        return self.freq_item_set, self.rules\n",
        "    \n",
        "    def print_rules(self):\n",
        "        print(\"FPGrowth rules:\",self.rules)\n",
        "        print(\"FPGrowth freq:\",self.freq_item_set)"
      ],
      "metadata": {
        "id": "5XIX_PyPLVPp"
      },
      "execution_count": null,
      "outputs": []
    },
    {
      "cell_type": "markdown",
      "source": [
        "Конфигурация для данных из интернета"
      ],
      "metadata": {
        "id": "XwaR0keGkCZ-"
      }
    },
    {
      "cell_type": "code",
      "source": [
        "from PyARMViz import PyARMViz\n",
        "from PyARMViz import *\n",
        "\n",
        "class lab:\n",
        "  def __init__(self, url, cols, min_sup, min_conf):    \n",
        "    self.min_sup = 0.02\n",
        "    self.min_conf = 0.6\n",
        "    # Открытие таблицы и инициализация\n",
        "    self.Ds = dataset(url, cols)\n",
        "    self.Ds.agregate_transactions()\n",
        "\n",
        "  def fpg_out(self):\n",
        "    self.fpg = Fpgrowth(self.Ds)\n",
        "    self.fpg.create_rules(self.min_sup, self.min_conf)\n",
        "    self.fpg.print_rules()\n",
        "\n",
        "  def std_apr_out(self):\n",
        "    self.std_apriori = Apriori(self.Ds)\n",
        "    self.std_apriori.create_rules(self.min_sup, self.min_conf)\n",
        "    self.std_apriori.print_rules()\n",
        "\n",
        "  def eff_apr_out(self):\n",
        "    self.eff_apriori = Efficient_apriori(self.Ds)\n",
        "    self.eff_apriori.create_rules(self.min_sup, self.min_conf)\n",
        "    self.eff_apriori.print_rules()\n",
        "\n",
        "  def PyARM_out(self):\n",
        "    PyARMViz.generate_rule_graph_plotly(self.eff_apriori.rules)"
      ],
      "metadata": {
        "id": "Y2UiJVOckFfh"
      },
      "execution_count": null,
      "outputs": []
    },
    {
      "cell_type": "code",
      "source": [
        "internet = lab(\"https://raw.githubusercontent.com/viktree/curly-octo-chainsaw/master/BreadBasket_DMS.csv\", ['Transaction', 'Item'],0.02, 0.6)"
      ],
      "metadata": {
        "id": "qEv8racsM60k"
      },
      "execution_count": null,
      "outputs": []
    },
    {
      "cell_type": "code",
      "source": [
        "internet2 = lab(\"https://archive.ics.uci.edu/ml/machine-learning-databases/00352/Online%20Retail.xlsx\",['InvoiceNo', 'Description'], 0.02, 0.6)"
      ],
      "metadata": {
        "id": "rNsdkpAiN698"
      },
      "execution_count": null,
      "outputs": []
    },
    {
      "cell_type": "markdown",
      "source": [
        "FPGrowth"
      ],
      "metadata": {
        "id": "MiDRup5SkP-Z"
      }
    },
    {
      "cell_type": "code",
      "source": [
        "internet.fpg_out()"
      ],
      "metadata": {
        "colab": {
          "base_uri": "https://localhost:8080/"
        },
        "id": "-zhGbZkQNXXa",
        "outputId": "8ec3ed0c-45ab-445a-da3b-be0590dc9251"
      },
      "execution_count": null,
      "outputs": [
        {
          "output_type": "stream",
          "name": "stdout",
          "text": [
            "FPGrowth rules: [[{'Toast'}, {'Coffee'}, 0.7044025157232704]]\n",
            "FPGrowth freq: [{'Truffles'}, {'Scandinavian'}, {'Toast'}, {'Toast', 'Coffee'}, {'Scone'}, {'Coffee', 'Scone'}, {'Soup'}, {'Coffee', 'Soup'}, {'Juice'}, {'Coffee', 'Juice'}, {'Alfajores'}, {'Alfajores', 'Coffee'}, {'Muffin'}, {'Coffee', 'Muffin'}, {'Farm House'}, {'Brownie'}, {'Coffee', 'Brownie'}, {'Cookies'}, {'Coffee', 'Cookies'}, {'Hot chocolate'}, {'Coffee', 'Hot chocolate'}, {'Medialuna'}, {'Coffee', 'Medialuna'}, {'Sandwich'}, {'Sandwich', 'Bread'}, {'Sandwich', 'Coffee'}, {'NONE'}, {'NONE', 'Bread'}, {'NONE', 'Coffee'}, {'Pastry'}, {'Pastry', 'Bread'}, {'Pastry', 'Coffee'}, {'Cake'}, {'Bread', 'Cake'}, {'Tea', 'Cake'}, {'Coffee', 'Cake'}, {'Coffee', 'Cake'}, {'Tea'}, {'Bread', 'Tea'}, {'Coffee', 'Tea'}, {'Bread'}, {'Bread'}, {'Coffee', 'Bread'}, {'Coffee'}, {'Coffee'}]\n"
          ]
        }
      ]
    },
    {
      "cell_type": "code",
      "source": [
        "internet2.fpg_out()"
      ],
      "metadata": {
        "colab": {
          "base_uri": "https://localhost:8080/"
        },
        "id": "jb7yGEAkkSyS",
        "outputId": "20204598-e839-4507-9f44-9cf252462501"
      },
      "execution_count": null,
      "outputs": [
        {
          "output_type": "stream",
          "name": "stdout",
          "text": [
            "FPGrowth rules: [[{'RED HANGING HEART T-LIGHT HOLDER'}, {'WHITE HANGING HEART T-LIGHT HOLDER'}, 0.6631299734748011], [{'CHARLOTTE BAG PINK POLKADOT'}, {'RED RETROSPOT CHARLOTTE BAG'}, 0.6921052631578948], [{'GARDENERS KNEELING PAD CUP OF TEA '}, {'GARDENERS KNEELING PAD KEEP CALM '}, 0.7176470588235294], [{'PINK REGENCY TEACUP AND SAUCER'}, {'ROSES REGENCY TEACUP AND SAUCER '}, 0.766541822721598], [{'PINK REGENCY TEACUP AND SAUCER'}, {'ROSES REGENCY TEACUP AND SAUCER ', 'GREEN REGENCY TEACUP AND SAUCER'}, 0.6853932584269663], [{'PINK REGENCY TEACUP AND SAUCER', 'ROSES REGENCY TEACUP AND SAUCER '}, {'GREEN REGENCY TEACUP AND SAUCER'}, 0.8941368078175895], [{'PINK REGENCY TEACUP AND SAUCER', 'GREEN REGENCY TEACUP AND SAUCER'}, {'ROSES REGENCY TEACUP AND SAUCER '}, 0.8524844720496895], [{'ROSES REGENCY TEACUP AND SAUCER ', 'GREEN REGENCY TEACUP AND SAUCER'}, {'PINK REGENCY TEACUP AND SAUCER'}, 0.7002551020408163], [{'PINK REGENCY TEACUP AND SAUCER'}, {'ROSES REGENCY TEACUP AND SAUCER ', 'GREEN REGENCY TEACUP AND SAUCER'}, 0.6853932584269663], [{'PINK REGENCY TEACUP AND SAUCER', 'ROSES REGENCY TEACUP AND SAUCER '}, {'GREEN REGENCY TEACUP AND SAUCER'}, 0.8941368078175895], [{'PINK REGENCY TEACUP AND SAUCER', 'GREEN REGENCY TEACUP AND SAUCER'}, {'ROSES REGENCY TEACUP AND SAUCER '}, 0.8524844720496895], [{'ROSES REGENCY TEACUP AND SAUCER ', 'GREEN REGENCY TEACUP AND SAUCER'}, {'PINK REGENCY TEACUP AND SAUCER'}, 0.7002551020408163], [{'PINK REGENCY TEACUP AND SAUCER'}, {'ROSES REGENCY TEACUP AND SAUCER ', 'GREEN REGENCY TEACUP AND SAUCER'}, 0.6853932584269663], [{'PINK REGENCY TEACUP AND SAUCER', 'ROSES REGENCY TEACUP AND SAUCER '}, {'GREEN REGENCY TEACUP AND SAUCER'}, 0.8941368078175895], [{'PINK REGENCY TEACUP AND SAUCER', 'GREEN REGENCY TEACUP AND SAUCER'}, {'ROSES REGENCY TEACUP AND SAUCER '}, 0.8524844720496895], [{'ROSES REGENCY TEACUP AND SAUCER ', 'GREEN REGENCY TEACUP AND SAUCER'}, {'PINK REGENCY TEACUP AND SAUCER'}, 0.7002551020408163], [{'PINK REGENCY TEACUP AND SAUCER'}, {'ROSES REGENCY TEACUP AND SAUCER ', 'GREEN REGENCY TEACUP AND SAUCER'}, 0.6853932584269663], [{'PINK REGENCY TEACUP AND SAUCER', 'ROSES REGENCY TEACUP AND SAUCER '}, {'GREEN REGENCY TEACUP AND SAUCER'}, 0.8941368078175895], [{'PINK REGENCY TEACUP AND SAUCER', 'GREEN REGENCY TEACUP AND SAUCER'}, {'ROSES REGENCY TEACUP AND SAUCER '}, 0.8524844720496895], [{'ROSES REGENCY TEACUP AND SAUCER ', 'GREEN REGENCY TEACUP AND SAUCER'}, {'PINK REGENCY TEACUP AND SAUCER'}, 0.7002551020408163], [{'PINK REGENCY TEACUP AND SAUCER'}, {'ROSES REGENCY TEACUP AND SAUCER ', 'GREEN REGENCY TEACUP AND SAUCER'}, 0.6853932584269663], [{'PINK REGENCY TEACUP AND SAUCER', 'ROSES REGENCY TEACUP AND SAUCER '}, {'GREEN REGENCY TEACUP AND SAUCER'}, 0.8941368078175895], [{'PINK REGENCY TEACUP AND SAUCER', 'GREEN REGENCY TEACUP AND SAUCER'}, {'ROSES REGENCY TEACUP AND SAUCER '}, 0.8524844720496895], [{'ROSES REGENCY TEACUP AND SAUCER ', 'GREEN REGENCY TEACUP AND SAUCER'}, {'PINK REGENCY TEACUP AND SAUCER'}, 0.7002551020408163], [{'PINK REGENCY TEACUP AND SAUCER'}, {'ROSES REGENCY TEACUP AND SAUCER ', 'GREEN REGENCY TEACUP AND SAUCER'}, 0.6853932584269663], [{'PINK REGENCY TEACUP AND SAUCER', 'ROSES REGENCY TEACUP AND SAUCER '}, {'GREEN REGENCY TEACUP AND SAUCER'}, 0.8941368078175895], [{'PINK REGENCY TEACUP AND SAUCER', 'GREEN REGENCY TEACUP AND SAUCER'}, {'ROSES REGENCY TEACUP AND SAUCER '}, 0.8524844720496895], [{'ROSES REGENCY TEACUP AND SAUCER ', 'GREEN REGENCY TEACUP AND SAUCER'}, {'PINK REGENCY TEACUP AND SAUCER'}, 0.7002551020408163], [{'PINK REGENCY TEACUP AND SAUCER'}, {'ROSES REGENCY TEACUP AND SAUCER ', 'GREEN REGENCY TEACUP AND SAUCER'}, 0.6853932584269663], [{'PINK REGENCY TEACUP AND SAUCER', 'ROSES REGENCY TEACUP AND SAUCER '}, {'GREEN REGENCY TEACUP AND SAUCER'}, 0.8941368078175895], [{'PINK REGENCY TEACUP AND SAUCER', 'GREEN REGENCY TEACUP AND SAUCER'}, {'ROSES REGENCY TEACUP AND SAUCER '}, 0.8524844720496895], [{'ROSES REGENCY TEACUP AND SAUCER ', 'GREEN REGENCY TEACUP AND SAUCER'}, {'PINK REGENCY TEACUP AND SAUCER'}, 0.7002551020408163], [{'PINK REGENCY TEACUP AND SAUCER'}, {'ROSES REGENCY TEACUP AND SAUCER ', 'GREEN REGENCY TEACUP AND SAUCER'}, 0.6853932584269663], [{'PINK REGENCY TEACUP AND SAUCER', 'ROSES REGENCY TEACUP AND SAUCER '}, {'GREEN REGENCY TEACUP AND SAUCER'}, 0.8941368078175895], [{'PINK REGENCY TEACUP AND SAUCER', 'GREEN REGENCY TEACUP AND SAUCER'}, {'ROSES REGENCY TEACUP AND SAUCER '}, 0.8524844720496895], [{'ROSES REGENCY TEACUP AND SAUCER ', 'GREEN REGENCY TEACUP AND SAUCER'}, {'PINK REGENCY TEACUP AND SAUCER'}, 0.7002551020408163], [{'PINK REGENCY TEACUP AND SAUCER'}, {'ROSES REGENCY TEACUP AND SAUCER ', 'GREEN REGENCY TEACUP AND SAUCER'}, 0.6853932584269663], [{'PINK REGENCY TEACUP AND SAUCER', 'ROSES REGENCY TEACUP AND SAUCER '}, {'GREEN REGENCY TEACUP AND SAUCER'}, 0.8941368078175895], [{'PINK REGENCY TEACUP AND SAUCER', 'GREEN REGENCY TEACUP AND SAUCER'}, {'ROSES REGENCY TEACUP AND SAUCER '}, 0.8524844720496895], [{'ROSES REGENCY TEACUP AND SAUCER ', 'GREEN REGENCY TEACUP AND SAUCER'}, {'PINK REGENCY TEACUP AND SAUCER'}, 0.7002551020408163], [{'PINK REGENCY TEACUP AND SAUCER'}, {'ROSES REGENCY TEACUP AND SAUCER ', 'GREEN REGENCY TEACUP AND SAUCER'}, 0.6853932584269663], [{'PINK REGENCY TEACUP AND SAUCER', 'ROSES REGENCY TEACUP AND SAUCER '}, {'GREEN REGENCY TEACUP AND SAUCER'}, 0.8941368078175895], [{'PINK REGENCY TEACUP AND SAUCER', 'GREEN REGENCY TEACUP AND SAUCER'}, {'ROSES REGENCY TEACUP AND SAUCER '}, 0.8524844720496895], [{'ROSES REGENCY TEACUP AND SAUCER ', 'GREEN REGENCY TEACUP AND SAUCER'}, {'PINK REGENCY TEACUP AND SAUCER'}, 0.7002551020408163], [{'PINK REGENCY TEACUP AND SAUCER'}, {'ROSES REGENCY TEACUP AND SAUCER ', 'GREEN REGENCY TEACUP AND SAUCER'}, 0.6853932584269663], [{'PINK REGENCY TEACUP AND SAUCER', 'ROSES REGENCY TEACUP AND SAUCER '}, {'GREEN REGENCY TEACUP AND SAUCER'}, 0.8941368078175895], [{'PINK REGENCY TEACUP AND SAUCER', 'GREEN REGENCY TEACUP AND SAUCER'}, {'ROSES REGENCY TEACUP AND SAUCER '}, 0.8524844720496895], [{'ROSES REGENCY TEACUP AND SAUCER ', 'GREEN REGENCY TEACUP AND SAUCER'}, {'PINK REGENCY TEACUP AND SAUCER'}, 0.7002551020408163], [{'PINK REGENCY TEACUP AND SAUCER'}, {'GREEN REGENCY TEACUP AND SAUCER'}, 0.8039950062421972], [{'GREEN REGENCY TEACUP AND SAUCER'}, {'PINK REGENCY TEACUP AND SAUCER'}, 0.609271523178808], [{'PINK REGENCY TEACUP AND SAUCER'}, {'GREEN REGENCY TEACUP AND SAUCER'}, 0.8039950062421972], [{'GREEN REGENCY TEACUP AND SAUCER'}, {'PINK REGENCY TEACUP AND SAUCER'}, 0.609271523178808], [{'PINK REGENCY TEACUP AND SAUCER'}, {'GREEN REGENCY TEACUP AND SAUCER'}, 0.8039950062421972], [{'GREEN REGENCY TEACUP AND SAUCER'}, {'PINK REGENCY TEACUP AND SAUCER'}, 0.609271523178808], [{'PINK REGENCY TEACUP AND SAUCER'}, {'GREEN REGENCY TEACUP AND SAUCER'}, 0.8039950062421972], [{'GREEN REGENCY TEACUP AND SAUCER'}, {'PINK REGENCY TEACUP AND SAUCER'}, 0.609271523178808], [{'PINK REGENCY TEACUP AND SAUCER'}, {'GREEN REGENCY TEACUP AND SAUCER'}, 0.8039950062421972], [{'GREEN REGENCY TEACUP AND SAUCER'}, {'PINK REGENCY TEACUP AND SAUCER'}, 0.609271523178808], [{'PINK REGENCY TEACUP AND SAUCER'}, {'GREEN REGENCY TEACUP AND SAUCER'}, 0.8039950062421972], [{'GREEN REGENCY TEACUP AND SAUCER'}, {'PINK REGENCY TEACUP AND SAUCER'}, 0.609271523178808], [{'PINK REGENCY TEACUP AND SAUCER'}, {'GREEN REGENCY TEACUP AND SAUCER'}, 0.8039950062421972], [{'GREEN REGENCY TEACUP AND SAUCER'}, {'PINK REGENCY TEACUP AND SAUCER'}, 0.609271523178808], [{'PINK REGENCY TEACUP AND SAUCER'}, {'GREEN REGENCY TEACUP AND SAUCER'}, 0.8039950062421972], [{'GREEN REGENCY TEACUP AND SAUCER'}, {'PINK REGENCY TEACUP AND SAUCER'}, 0.609271523178808], [{'PINK REGENCY TEACUP AND SAUCER'}, {'GREEN REGENCY TEACUP AND SAUCER'}, 0.8039950062421972], [{'GREEN REGENCY TEACUP AND SAUCER'}, {'PINK REGENCY TEACUP AND SAUCER'}, 0.609271523178808], [{'PINK REGENCY TEACUP AND SAUCER'}, {'GREEN REGENCY TEACUP AND SAUCER'}, 0.8039950062421972], [{'GREEN REGENCY TEACUP AND SAUCER'}, {'PINK REGENCY TEACUP AND SAUCER'}, 0.609271523178808], [{'PAPER CHAIN KIT VINTAGE CHRISTMAS'}, {\"PAPER CHAIN KIT 50'S CHRISTMAS \"}, 0.6670673076923077], [{'JUMBO BAG STRAWBERRY'}, {'JUMBO BAG RED RETROSPOT'}, 0.6503579952267303], [{'WOODLAND CHARLOTTE BAG'}, {'RED RETROSPOT CHARLOTTE BAG'}, 0.6014234875444839], [{'JUMBO BAG WOODLAND ANIMALS'}, {'JUMBO BAG RED RETROSPOT'}, 0.6169724770642202], [{'DOLLY GIRL LUNCH BOX'}, {'SPACEBOY LUNCH BOX '}, 0.6255813953488372], [{'JUMBO  BAG BAROQUE BLACK WHITE'}, {'JUMBO BAG RED RETROSPOT'}, 0.6261879619852164], [{'ALARM CLOCK BAKELIKE GREEN'}, {'ALARM CLOCK BAKELIKE RED '}, 0.6453546453546454], [{'ROSES REGENCY TEACUP AND SAUCER '}, {'GREEN REGENCY TEACUP AND SAUCER'}, 0.7], [{'GREEN REGENCY TEACUP AND SAUCER'}, {'ROSES REGENCY TEACUP AND SAUCER '}, 0.7417218543046358], [{'JUMBO STORAGE BAG SUKI'}, {'JUMBO BAG RED RETROSPOT'}, 0.6103247293921732], [{'JUMBO BAG PINK POLKADOT'}, {'JUMBO BAG RED RETROSPOT'}, 0.6766856214459789]]\n",
            "FPGrowth freq: [{'WHITE SKULL HOT WATER BOTTLE '}, {'JUMBO BAG DOILEY PATTERNS'}, {'ASSORTED COLOURS SILK FAN'}, {'ENAMEL FLOWER JUG CREAM'}, {'PACK OF 12 LONDON TISSUES '}, {'SPACEBOY BIRTHDAY CARD'}, {'SET/6 RED SPOTTY PAPER PLATES'}, {'JUMBO BAG TOYS '}, {'SUKI  SHOULDER BAG'}, {'PHOTO FRAME CORNICE'}, {'SET OF 20 KIDS COOKIE CUTTERS'}, {'PLASTERS IN TIN STRONGMAN'}, {'PACK OF 60 SPACEBOY CAKE CASES'}, {'WOODEN STAR CHRISTMAS SCANDINAVIAN'}, {'CREAM HEART CARD HOLDER'}, {'PINK BLUE FELT CRAFT TRINKET BOX'}, {'WORLD WAR 2 GLIDERS ASSTD DESIGNS'}, {'SWEETHEART CERAMIC TRINKET BOX'}, {'RED RETROSPOT PICNIC BAG'}, {'SMALL DOLLY MIX DESIGN ORANGE BOWL'}, {'POTTERING IN THE SHED METAL SIGN'}, {'EDWARDIAN PARASOL NATURAL'}, {'ZINC METAL HEART DECORATION'}, {'CREAM SWEETHEART MINI CHEST'}, {'WOODEN HEART CHRISTMAS SCANDINAVIAN'}, {'TRAVEL CARD WALLET KEEP CALM'}, {'LOVEBIRD HANGING DECORATION WHITE '}, {'CHRISTMAS CRAFT LITTLE FRIENDS'}, {'SET OF 12 FAIRY CAKE BAKING CASES'}, {'FELTCRAFT 6 FLOWER FRIENDS'}, {'Manual'}, {'CHILDRENS APRON SPACEBOY DESIGN'}, {'HAND WARMER BIRD DESIGN'}, {'RED KITCHEN SCALES'}, {'RED RETROSPOT CAKE STAND'}, {'HAND WARMER SCOTTY DOG DESIGN'}, {'SMALL GLASS HEART TRINKET POT'}, {'RED RETROSPOT SHOPPER BAG'}, {'PLASTERS IN TIN VINTAGE PAISLEY '}, {'PLASTERS IN TIN CIRCUS PARADE '}, {'PLASTERS IN TIN SKULLS'}, {'LARGE WHITE HEART OF WICKER'}, {'ALARM CLOCK BAKELIKE IVORY'}, {'CHARLOTTE BAG APPLES DESIGN'}, {'GREY HEART HOT WATER BOTTLE'}, {'STRAWBERRY LUNCH BOX WITH CUTLERY'}, {'DOORMAT HEARTS'}, {'WOOD 2 DRAWER CABINET WHITE FINISH'}, {'BOX OF 24 COCKTAIL PARASOLS'}, {'WOODEN BOX OF DOMINOES'}, {'DOORMAT NEW ENGLAND'}, {'JUMBO BAG PEARS'}, {'SMALL POPCORN HOLDER'}, {'ROUND SNACK BOXES SET OF 4 FRUITS '}, {'HANGING HEART ZINC T-LIGHT HOLDER'}, {'BLUE HARMONICA IN BOX '}, {'VINTAGE HEADS AND TAILS CARD GAME '}, {'PAPER CHAIN KIT RETROSPOT'}, {'LUNCH BAG VINTAGE DOILY '}, {'TRADITIONAL KNITTING NANCY'}, {'DOORMAT UNION FLAG'}, {'PINK CREAM FELT CRAFT TRINKET BOX '}, {'COLOUR GLASS T-LIGHT HOLDER HANGING'}, {'SET OF 20 VINTAGE CHRISTMAS NAPKINS'}, {'PACK OF 60 DINOSAUR CAKE CASES'}, {'BATHROOM METAL SIGN'}, {'HOT BATHS METAL SIGN'}, {'72 SWEETHEART FAIRY CAKE CASES'}, {'60 CAKE CASES VINTAGE CHRISTMAS'}, {'HOMEMADE JAM SCENTED CANDLES'}, {'RETROSPOT HEART HOT WATER BOTTLE'}, {'LOVE BUILDING BLOCK WORD'}, {'HOT WATER BOTTLE TEA AND SYMPATHY'}, {'SMALL WHITE HEART OF WICKER'}, {'SET OF 60 PANTRY DESIGN CAKE CASES '}, {'JUMBO BAG OWLS'}, {'JUMBO BAG SCANDINAVIAN BLUE PAISLEY'}, {'RED  HARMONICA IN BOX '}, {'PACK OF 72 SKULL CAKE CASES'}, {'CHILLI LIGHTS'}, {'HOT WATER BOTTLE I AM SO POORLY'}, {'HAND OVER THE CHOCOLATE   SIGN '}, {'HAND WARMER OWL DESIGN'}, {'GINGERBREAD MAN COOKIE CUTTER'}, {'LUNCH BAG VINTAGE LEAF DESIGN'}, {'PLASTERS IN TIN SPACEBOY'}, {'WOOD BLACK BOARD ANT WHITE FINISH'}, {'SET OF 3 HEART COOKIE CUTTERS'}, {'JUMBO BAG SPACEBOY DESIGN'}, {'LUNCH BAG DOLLY GIRL DESIGN'}, {'SET OF 3 BUTTERFLY COOKIE CUTTERS'}, {'DOORMAT RED RETROSPOT'}, {'PACK OF 20 NAPKINS PANTRY DESIGN'}, {'DOTCOM POSTAGE'}, {'ANTIQUE SILVER T-LIGHT GLASS'}, {'JUMBO STORAGE BAG SKULLS'}, {'GUMBALL COAT RACK'}, {'PLASTERS IN TIN WOODLAND ANIMALS'}, {'JUMBO BAG VINTAGE DOILY '}, {\"JUMBO BAG 50'S CHRISTMAS \"}, {'IVORY KITCHEN SCALES'}, {'STRAWBERRY CHARLOTTE BAG'}, {'DOORMAT KEEP CALM AND COME IN'}, {'COOK WITH WINE METAL SIGN '}, {'LUNCH BOX I LOVE LONDON'}, {'RECYCLING BAG RETROSPOT '}, {'ROUND SNACK BOXES SET OF4 WOODLAND '}, {'HANGING HEART JAR T-LIGHT HOLDER'}, {'STRAWBERRY CERAMIC TRINKET BOX'}, {'RED HANGING HEART T-LIGHT HOLDER'}, {'RED HANGING HEART T-LIGHT HOLDER', 'WHITE HANGING HEART T-LIGHT HOLDER'}, {'GIN + TONIC DIET METAL SIGN'}, {'CHARLOTTE BAG PINK POLKADOT'}, {'CHARLOTTE BAG PINK POLKADOT', 'RED RETROSPOT CHARLOTTE BAG'}, {'LUNCH BAG ALPHABET DESIGN'}, {'GARDENERS KNEELING PAD CUP OF TEA '}, {'GARDENERS KNEELING PAD KEEP CALM ', 'GARDENERS KNEELING PAD CUP OF TEA '}, {'CLOTHES PEGS RETROSPOT PACK 24 '}, {'SCOTTIE DOG HOT WATER BOTTLE'}, {'HOME BUILDING BLOCK WORD'}, {'ALARM CLOCK BAKELIKE PINK'}, {'PAPER BUNTING RETROSPOT'}, {'HOT WATER BOTTLE KEEP CALM'}, {'PINK REGENCY TEACUP AND SAUCER'}, {'PINK REGENCY TEACUP AND SAUCER', 'ROSES REGENCY TEACUP AND SAUCER '}, {'PINK REGENCY TEACUP AND SAUCER', 'ROSES REGENCY TEACUP AND SAUCER ', 'GREEN REGENCY TEACUP AND SAUCER'}, {'PINK REGENCY TEACUP AND SAUCER', 'ROSES REGENCY TEACUP AND SAUCER ', 'GREEN REGENCY TEACUP AND SAUCER'}, {'PINK REGENCY TEACUP AND SAUCER', 'ROSES REGENCY TEACUP AND SAUCER ', 'GREEN REGENCY TEACUP AND SAUCER'}, {'PINK REGENCY TEACUP AND SAUCER', 'ROSES REGENCY TEACUP AND SAUCER ', 'GREEN REGENCY TEACUP AND SAUCER'}, {'PINK REGENCY TEACUP AND SAUCER', 'ROSES REGENCY TEACUP AND SAUCER ', 'GREEN REGENCY TEACUP AND SAUCER'}, {'PINK REGENCY TEACUP AND SAUCER', 'ROSES REGENCY TEACUP AND SAUCER ', 'GREEN REGENCY TEACUP AND SAUCER'}, {'PINK REGENCY TEACUP AND SAUCER', 'ROSES REGENCY TEACUP AND SAUCER ', 'GREEN REGENCY TEACUP AND SAUCER'}, {'PINK REGENCY TEACUP AND SAUCER', 'ROSES REGENCY TEACUP AND SAUCER ', 'GREEN REGENCY TEACUP AND SAUCER'}, {'PINK REGENCY TEACUP AND SAUCER', 'ROSES REGENCY TEACUP AND SAUCER ', 'GREEN REGENCY TEACUP AND SAUCER'}, {'PINK REGENCY TEACUP AND SAUCER', 'ROSES REGENCY TEACUP AND SAUCER ', 'GREEN REGENCY TEACUP AND SAUCER'}, {'PINK REGENCY TEACUP AND SAUCER', 'ROSES REGENCY TEACUP AND SAUCER ', 'GREEN REGENCY TEACUP AND SAUCER'}, {'PINK REGENCY TEACUP AND SAUCER', 'GREEN REGENCY TEACUP AND SAUCER'}, {'PINK REGENCY TEACUP AND SAUCER', 'GREEN REGENCY TEACUP AND SAUCER'}, {'PINK REGENCY TEACUP AND SAUCER', 'GREEN REGENCY TEACUP AND SAUCER'}, {'PINK REGENCY TEACUP AND SAUCER', 'GREEN REGENCY TEACUP AND SAUCER'}, {'PINK REGENCY TEACUP AND SAUCER', 'GREEN REGENCY TEACUP AND SAUCER'}, {'PINK REGENCY TEACUP AND SAUCER', 'GREEN REGENCY TEACUP AND SAUCER'}, {'PINK REGENCY TEACUP AND SAUCER', 'GREEN REGENCY TEACUP AND SAUCER'}, {'PINK REGENCY TEACUP AND SAUCER', 'GREEN REGENCY TEACUP AND SAUCER'}, {'PINK REGENCY TEACUP AND SAUCER', 'GREEN REGENCY TEACUP AND SAUCER'}, {'PINK REGENCY TEACUP AND SAUCER', 'GREEN REGENCY TEACUP AND SAUCER'}, {'PAPER CHAIN KIT VINTAGE CHRISTMAS'}, {\"PAPER CHAIN KIT 50'S CHRISTMAS \", 'PAPER CHAIN KIT VINTAGE CHRISTMAS'}, {'JUMBO BAG STRAWBERRY'}, {'JUMBO BAG RED RETROSPOT', 'JUMBO BAG STRAWBERRY'}, {'WOODLAND CHARLOTTE BAG'}, {'WOODLAND CHARLOTTE BAG', 'RED RETROSPOT CHARLOTTE BAG'}, {'POPCORN HOLDER'}, {'SET OF 6 SPICE TINS PANTRY DESIGN'}, {'60 TEATIME FAIRY CAKE CASES'}, {'RED TOADSTOOL LED NIGHT LIGHT'}, {'PLEASE ONE PERSON METAL SIGN'}, {'JUMBO BAG WOODLAND ANIMALS'}, {'JUMBO BAG WOODLAND ANIMALS', 'JUMBO BAG RED RETROSPOT'}, {'DOLLY GIRL LUNCH BOX'}, {'SPACEBOY LUNCH BOX ', 'DOLLY GIRL LUNCH BOX'}, {'JUMBO BAG PINK VINTAGE PAISLEY'}, {'JUMBO BAG RED RETROSPOT', 'JUMBO BAG PINK VINTAGE PAISLEY'}, {'CHOCOLATE HOT WATER BOTTLE'}, {'JUMBO BAG VINTAGE LEAF'}, {'PACK OF 60 PINK PAISLEY CAKE CASES'}, {'CHARLOTTE BAG SUKI DESIGN'}, {'CHARLOTTE BAG SUKI DESIGN', 'RED RETROSPOT CHARLOTTE BAG'}, {'SET OF 3 REGENCY CAKE TINS'}, {'SPACEBOY LUNCH BOX '}, {'JUMBO BAG ALPHABET'}, {'SET/5 RED RETROSPOT LID GLASS BOWLS'}, {'GARDENERS KNEELING PAD KEEP CALM '}, {'VINTAGE SNAP CARDS'}, {'JUMBO  BAG BAROQUE BLACK WHITE'}, {'JUMBO BAG RED RETROSPOT', 'JUMBO  BAG BAROQUE BLACK WHITE'}, {'HEART OF WICKER LARGE'}, {'REX CASH+CARRY JUMBO SHOPPER'}, {'BAKING SET 9 PIECE RETROSPOT '}, {'6 RIBBONS RUSTIC CHARM'}, {'RETROSPOT TEA SET CERAMIC 11 PC '}, {'WOODEN FRAME ANTIQUE WHITE '}, {'WOODEN FRAME ANTIQUE WHITE ', 'WOODEN PICTURE FRAME WHITE FINISH'}, {'JUMBO BAG APPLES'}, {'JUMBO BAG RED RETROSPOT', 'JUMBO BAG APPLES'}, {'SET/20 RED RETROSPOT PAPER NAPKINS '}, {'ALARM CLOCK BAKELIKE GREEN'}, {'ALARM CLOCK BAKELIKE GREEN', 'ALARM CLOCK BAKELIKE RED '}, {'RABBIT NIGHT LIGHT'}, {'LUNCH BAG WOODLAND'}, {'LUNCH BAG RED RETROSPOT', 'LUNCH BAG WOODLAND'}, {'RED RETROSPOT CHARLOTTE BAG'}, {'VICTORIAN GLASS HANGING T-LIGHT'}, {'LUNCH BAG APPLE DESIGN'}, {'LUNCH BAG RED RETROSPOT', 'LUNCH BAG APPLE DESIGN'}, {'GREEN REGENCY TEACUP AND SAUCER'}, {'REGENCY CAKESTAND 3 TIER', 'GREEN REGENCY TEACUP AND SAUCER'}, {'ROSES REGENCY TEACUP AND SAUCER ', 'GREEN REGENCY TEACUP AND SAUCER'}, {'ALARM CLOCK BAKELIKE RED '}, {'SET OF 4 PANTRY JELLY MOULDS'}, {'WOODEN PICTURE FRAME WHITE FINISH'}, {'LUNCH BAG PINK POLKADOT'}, {'LUNCH BAG PINK POLKADOT', 'LUNCH BAG CARS BLUE'}, {'LUNCH BAG PINK POLKADOT', 'LUNCH BAG  BLACK SKULL.'}, {'LUNCH BAG RED RETROSPOT', 'LUNCH BAG PINK POLKADOT'}, {'ROSES REGENCY TEACUP AND SAUCER '}, {'REGENCY CAKESTAND 3 TIER', 'ROSES REGENCY TEACUP AND SAUCER '}, {'LUNCH BAG SUKI DESIGN '}, {'LUNCH BAG  BLACK SKULL.', 'LUNCH BAG SUKI DESIGN '}, {'LUNCH BAG RED RETROSPOT', 'LUNCH BAG SUKI DESIGN '}, {'SPOTTY BUNTING'}, {'RECIPE BOX PANTRY YELLOW DESIGN'}, {'JAM MAKING SET PRINTED'}, {'LUNCH BAG SPACEBOY DESIGN '}, {'LUNCH BAG SPACEBOY DESIGN ', 'LUNCH BAG CARS BLUE'}, {'LUNCH BAG SPACEBOY DESIGN ', 'LUNCH BAG  BLACK SKULL.'}, {'LUNCH BAG RED RETROSPOT', 'LUNCH BAG SPACEBOY DESIGN '}, {'LUNCH BAG CARS BLUE'}, {'LUNCH BAG  BLACK SKULL.', 'LUNCH BAG CARS BLUE'}, {'LUNCH BAG RED RETROSPOT', 'LUNCH BAG CARS BLUE'}, {'JUMBO SHOPPER VINTAGE RED PAISLEY'}, {'JUMBO STORAGE BAG SUKI', 'JUMBO SHOPPER VINTAGE RED PAISLEY'}, {'JUMBO BAG RED RETROSPOT', 'JUMBO SHOPPER VINTAGE RED PAISLEY'}, {\"PAPER CHAIN KIT 50'S CHRISTMAS \"}, {'JUMBO STORAGE BAG SUKI'}, {'JUMBO STORAGE BAG SUKI', 'JUMBO BAG PINK POLKADOT'}, {'JUMBO BAG RED RETROSPOT', 'JUMBO STORAGE BAG SUKI'}, {'JAM MAKING SET WITH JARS'}, {'HEART OF WICKER SMALL'}, {'JUMBO BAG PINK POLKADOT'}, {'JUMBO BAG RED RETROSPOT', 'JUMBO BAG PINK POLKADOT'}, {'POSTAGE'}, {'NATURAL SLATE HEART CHALKBOARD '}, {'LUNCH BAG  BLACK SKULL.'}, {'LUNCH BAG RED RETROSPOT', 'LUNCH BAG  BLACK SKULL.'}, {'PACK OF 72 RETROSPOT CAKE CASES'}, {'nan'}, {'SET OF 3 CAKE TINS PANTRY DESIGN '}, {'ASSORTED COLOUR BIRD ORNAMENT'}, {'LUNCH BAG RED RETROSPOT'}, {'LUNCH BAG RED RETROSPOT', 'JUMBO BAG RED RETROSPOT'}, {'PARTY BUNTING'}, {'JUMBO BAG RED RETROSPOT'}, {'REGENCY CAKESTAND 3 TIER'}, {'WHITE HANGING HEART T-LIGHT HOLDER'}]\n"
          ]
        }
      ]
    },
    {
      "cell_type": "markdown",
      "source": [
        "Apriori"
      ],
      "metadata": {
        "id": "Vgps-4AykTJO"
      }
    },
    {
      "cell_type": "code",
      "source": [
        "internet.std_apr_out()"
      ],
      "metadata": {
        "colab": {
          "base_uri": "https://localhost:8080/"
        },
        "id": "yaAO_nlSNaOr",
        "outputId": "6f742b28-4a65-4035-a185-8c65fe293b7b"
      },
      "execution_count": null,
      "outputs": [
        {
          "output_type": "stream",
          "name": "stdout",
          "text": [
            "Apriori rules: [[{'Toast'}, {'Coffee'}, 0.7044025157232704]]\n",
            "Apriori freq: {1: {frozenset({'Pastry'}), frozenset({'Bread'}), frozenset({'Sandwich'}), frozenset({'Farm House'}), frozenset({'Scone'}), frozenset({'Brownie'}), frozenset({'Cookies'}), frozenset({'Hot chocolate'}), frozenset({'Juice'}), frozenset({'Soup'}), frozenset({'Alfajores'}), frozenset({'Muffin'}), frozenset({'Toast'}), frozenset({'Tea'}), frozenset({'Coffee'}), frozenset({'Medialuna'}), frozenset({'NONE'}), frozenset({'Cake'}), frozenset({'Truffles'}), frozenset({'Scandinavian'})}, 2: {frozenset({'Coffee', 'Bread'}), frozenset({'Bread', 'Tea'}), frozenset({'Tea', 'Cake'}), frozenset({'Coffee', 'Tea'}), frozenset({'Coffee', 'Cake'}), frozenset({'Pastry', 'Coffee'}), frozenset({'Coffee', 'Medialuna'}), frozenset({'Coffee', 'NONE'}), frozenset({'Toast', 'Coffee'}), frozenset({'Pastry', 'Bread'}), frozenset({'Bread', 'Cake'}), frozenset({'NONE', 'Bread'}), frozenset({'Coffee', 'Juice'}), frozenset({'Coffee', 'Cookies'}), frozenset({'Sandwich', 'Coffee'}), frozenset({'Coffee', 'Hot chocolate'})}}\n"
          ]
        }
      ]
    },
    {
      "cell_type": "code",
      "source": [
        "internet2.std_apr_out()"
      ],
      "metadata": {
        "id": "Q6RfqfjLkZHm",
        "colab": {
          "base_uri": "https://localhost:8080/",
          "height": 311
        },
        "outputId": "dad002ac-7254-4681-bff6-8e3e9f15fc80"
      },
      "execution_count": null,
      "outputs": [
        {
          "output_type": "error",
          "ename": "KeyboardInterrupt",
          "evalue": "ignored",
          "traceback": [
            "\u001b[0;31m---------------------------------------------------------------------------\u001b[0m",
            "\u001b[0;31mKeyboardInterrupt\u001b[0m                         Traceback (most recent call last)",
            "\u001b[0;32m<ipython-input-13-f89b4c991fb8>\u001b[0m in \u001b[0;36m<module>\u001b[0;34m\u001b[0m\n\u001b[0;32m----> 1\u001b[0;31m \u001b[0minternet2\u001b[0m\u001b[0;34m.\u001b[0m\u001b[0mstd_apr_out\u001b[0m\u001b[0;34m(\u001b[0m\u001b[0;34m)\u001b[0m\u001b[0;34m\u001b[0m\u001b[0;34m\u001b[0m\u001b[0m\n\u001b[0m",
            "\u001b[0;32m<ipython-input-7-9a2e4decfb5f>\u001b[0m in \u001b[0;36mstd_apr_out\u001b[0;34m(self)\u001b[0m\n\u001b[1;32m     17\u001b[0m   \u001b[0;32mdef\u001b[0m \u001b[0mstd_apr_out\u001b[0m\u001b[0;34m(\u001b[0m\u001b[0mself\u001b[0m\u001b[0;34m)\u001b[0m\u001b[0;34m:\u001b[0m\u001b[0;34m\u001b[0m\u001b[0;34m\u001b[0m\u001b[0m\n\u001b[1;32m     18\u001b[0m     \u001b[0mself\u001b[0m\u001b[0;34m.\u001b[0m\u001b[0mstd_apriori\u001b[0m \u001b[0;34m=\u001b[0m \u001b[0mApriori\u001b[0m\u001b[0;34m(\u001b[0m\u001b[0mself\u001b[0m\u001b[0;34m.\u001b[0m\u001b[0mDs\u001b[0m\u001b[0;34m)\u001b[0m\u001b[0;34m\u001b[0m\u001b[0;34m\u001b[0m\u001b[0m\n\u001b[0;32m---> 19\u001b[0;31m     \u001b[0mself\u001b[0m\u001b[0;34m.\u001b[0m\u001b[0mstd_apriori\u001b[0m\u001b[0;34m.\u001b[0m\u001b[0mcreate_rules\u001b[0m\u001b[0;34m(\u001b[0m\u001b[0mself\u001b[0m\u001b[0;34m.\u001b[0m\u001b[0mmin_sup\u001b[0m\u001b[0;34m,\u001b[0m \u001b[0mself\u001b[0m\u001b[0;34m.\u001b[0m\u001b[0mmin_conf\u001b[0m\u001b[0;34m)\u001b[0m\u001b[0;34m\u001b[0m\u001b[0;34m\u001b[0m\u001b[0m\n\u001b[0m\u001b[1;32m     20\u001b[0m     \u001b[0mself\u001b[0m\u001b[0;34m.\u001b[0m\u001b[0mstd_apriori\u001b[0m\u001b[0;34m.\u001b[0m\u001b[0mprint_rules\u001b[0m\u001b[0;34m(\u001b[0m\u001b[0;34m)\u001b[0m\u001b[0;34m\u001b[0m\u001b[0;34m\u001b[0m\u001b[0m\n\u001b[1;32m     21\u001b[0m \u001b[0;34m\u001b[0m\u001b[0m\n",
            "\u001b[0;32m<ipython-input-4-febbe103b4ae>\u001b[0m in \u001b[0;36mcreate_rules\u001b[0;34m(self, min_sup, min_conf)\u001b[0m\n\u001b[1;32m      6\u001b[0m \u001b[0;34m\u001b[0m\u001b[0m\n\u001b[1;32m      7\u001b[0m     \u001b[0;32mdef\u001b[0m \u001b[0mcreate_rules\u001b[0m\u001b[0;34m(\u001b[0m\u001b[0mself\u001b[0m\u001b[0;34m,\u001b[0m \u001b[0mmin_sup\u001b[0m\u001b[0;34m,\u001b[0m \u001b[0mmin_conf\u001b[0m\u001b[0;34m)\u001b[0m\u001b[0;34m:\u001b[0m\u001b[0;34m\u001b[0m\u001b[0;34m\u001b[0m\u001b[0m\n\u001b[0;32m----> 8\u001b[0;31m         \u001b[0mself\u001b[0m\u001b[0;34m.\u001b[0m\u001b[0mfreq_item_set\u001b[0m\u001b[0;34m,\u001b[0m \u001b[0mself\u001b[0m\u001b[0;34m.\u001b[0m\u001b[0mrules\u001b[0m \u001b[0;34m=\u001b[0m \u001b[0mapriori\u001b[0m\u001b[0;34m(\u001b[0m\u001b[0mself\u001b[0m\u001b[0;34m.\u001b[0m\u001b[0mtransactions\u001b[0m\u001b[0;34m,\u001b[0m \u001b[0mminSup\u001b[0m\u001b[0;34m=\u001b[0m\u001b[0mmin_sup\u001b[0m\u001b[0;34m,\u001b[0m \u001b[0mminConf\u001b[0m\u001b[0;34m=\u001b[0m\u001b[0mmin_conf\u001b[0m\u001b[0;34m)\u001b[0m\u001b[0;34m\u001b[0m\u001b[0;34m\u001b[0m\u001b[0m\n\u001b[0m\u001b[1;32m      9\u001b[0m \u001b[0;34m\u001b[0m\u001b[0m\n\u001b[1;32m     10\u001b[0m     \u001b[0;32mdef\u001b[0m \u001b[0mreturn_rules\u001b[0m\u001b[0;34m(\u001b[0m\u001b[0mself\u001b[0m\u001b[0;34m)\u001b[0m\u001b[0;34m:\u001b[0m\u001b[0;34m\u001b[0m\u001b[0;34m\u001b[0m\u001b[0m\n",
            "\u001b[0;32m/usr/local/lib/python3.7/dist-packages/apriori_python/apriori.py\u001b[0m in \u001b[0;36mapriori\u001b[0;34m(itemSetList, minSup, minConf)\u001b[0m\n\u001b[1;32m     13\u001b[0m \u001b[0;34m\u001b[0m\u001b[0m\n\u001b[1;32m     14\u001b[0m     L1ItemSet = getAboveMinSup(\n\u001b[0;32m---> 15\u001b[0;31m         C1ItemSet, itemSetList, minSup, globalItemSetWithSup)\n\u001b[0m\u001b[1;32m     16\u001b[0m     \u001b[0mcurrentLSet\u001b[0m \u001b[0;34m=\u001b[0m \u001b[0mL1ItemSet\u001b[0m\u001b[0;34m\u001b[0m\u001b[0;34m\u001b[0m\u001b[0m\n\u001b[1;32m     17\u001b[0m     \u001b[0mk\u001b[0m \u001b[0;34m=\u001b[0m \u001b[0;36m2\u001b[0m\u001b[0;34m\u001b[0m\u001b[0;34m\u001b[0m\u001b[0m\n",
            "\u001b[0;32m/usr/local/lib/python3.7/dist-packages/apriori_python/utils.py\u001b[0m in \u001b[0;36mgetAboveMinSup\u001b[0;34m(itemSet, itemSetList, minSup, globalItemSetWithSup)\u001b[0m\n\u001b[1;32m     47\u001b[0m     \u001b[0;32mfor\u001b[0m \u001b[0mitem\u001b[0m \u001b[0;32min\u001b[0m \u001b[0mitemSet\u001b[0m\u001b[0;34m:\u001b[0m\u001b[0;34m\u001b[0m\u001b[0;34m\u001b[0m\u001b[0m\n\u001b[1;32m     48\u001b[0m         \u001b[0;32mfor\u001b[0m \u001b[0mitemSet\u001b[0m \u001b[0;32min\u001b[0m \u001b[0mitemSetList\u001b[0m\u001b[0;34m:\u001b[0m\u001b[0;34m\u001b[0m\u001b[0;34m\u001b[0m\u001b[0m\n\u001b[0;32m---> 49\u001b[0;31m             \u001b[0;32mif\u001b[0m \u001b[0mitem\u001b[0m\u001b[0;34m.\u001b[0m\u001b[0missubset\u001b[0m\u001b[0;34m(\u001b[0m\u001b[0mitemSet\u001b[0m\u001b[0;34m)\u001b[0m\u001b[0;34m:\u001b[0m\u001b[0;34m\u001b[0m\u001b[0;34m\u001b[0m\u001b[0m\n\u001b[0m\u001b[1;32m     50\u001b[0m                 \u001b[0mglobalItemSetWithSup\u001b[0m\u001b[0;34m[\u001b[0m\u001b[0mitem\u001b[0m\u001b[0;34m]\u001b[0m \u001b[0;34m+=\u001b[0m \u001b[0;36m1\u001b[0m\u001b[0;34m\u001b[0m\u001b[0;34m\u001b[0m\u001b[0m\n\u001b[1;32m     51\u001b[0m                 \u001b[0mlocalItemSetWithSup\u001b[0m\u001b[0;34m[\u001b[0m\u001b[0mitem\u001b[0m\u001b[0;34m]\u001b[0m \u001b[0;34m+=\u001b[0m \u001b[0;36m1\u001b[0m\u001b[0;34m\u001b[0m\u001b[0;34m\u001b[0m\u001b[0m\n",
            "\u001b[0;31mKeyboardInterrupt\u001b[0m: "
          ]
        }
      ]
    },
    {
      "cell_type": "markdown",
      "source": [
        "Efficient Apriori"
      ],
      "metadata": {
        "id": "l5pDxp6pkUrM"
      }
    },
    {
      "cell_type": "code",
      "source": [
        "internet.eff_apr_out()\n",
        "internet.PyARM_out()"
      ],
      "metadata": {
        "colab": {
          "base_uri": "https://localhost:8080/",
          "height": 579
        },
        "id": "rjY5Hd7UNcfN",
        "outputId": "844797d7-38df-450b-afde-be78826b66d9"
      },
      "execution_count": null,
      "outputs": [
        {
          "output_type": "stream",
          "name": "stdout",
          "text": [
            "Efficient apriori freq: {1: {('Bread',): 3097, ('Scandinavian',): 275, ('Hot chocolate',): 552, ('Cookies',): 515, ('Muffin',): 364, ('Coffee',): 4528, ('Pastry',): 815, ('Medialuna',): 585, ('Tea',): 1350, ('NONE',): 753, ('Farm House',): 371, ('Juice',): 365, ('Soup',): 326, ('Cake',): 983, ('Sandwich',): 680, ('Alfajores',): 344, ('Brownie',): 379, ('Truffles',): 192, ('Toast',): 318, ('Scone',): 327}, 2: {('Bread', 'Cake'): 221, ('Bread', 'Coffee'): 852, ('Bread', 'NONE'): 196, ('Bread', 'Pastry'): 276, ('Bread', 'Tea'): 266, ('Cake', 'Coffee'): 518, ('Cake', 'Tea'): 225, ('Coffee', 'Cookies'): 267, ('Coffee', 'Hot chocolate'): 280, ('Coffee', 'Juice'): 195, ('Coffee', 'Medialuna'): 333, ('Coffee', 'NONE'): 401, ('Coffee', 'Pastry'): 450, ('Coffee', 'Sandwich'): 362, ('Coffee', 'Tea'): 472, ('Coffee', 'Toast'): 224}}\n"
          ]
        },
        {
          "output_type": "display_data",
          "data": {
            "text/html": [
              "<html>\n",
              "<head><meta charset=\"utf-8\" /></head>\n",
              "<body>\n",
              "    <div>            <script src=\"https://cdnjs.cloudflare.com/ajax/libs/mathjax/2.7.5/MathJax.js?config=TeX-AMS-MML_SVG\"></script><script type=\"text/javascript\">if (window.MathJax) {MathJax.Hub.Config({SVG: {font: \"STIX-Web\"}});}</script>                <script type=\"text/javascript\">window.PlotlyConfig = {MathJaxConfig: 'local'};</script>\n",
              "        <script src=\"https://cdn.plot.ly/plotly-2.8.3.min.js\"></script>                <div id=\"49b83d11-58b1-4383-a88b-56be9b0760fe\" class=\"plotly-graph-div\" style=\"height:525px; width:100%;\"></div>            <script type=\"text/javascript\">                                    window.PLOTLYENV=window.PLOTLYENV || {};                                    if (document.getElementById(\"49b83d11-58b1-4383-a88b-56be9b0760fe\")) {                    Plotly.newPlot(                        \"49b83d11-58b1-4383-a88b-56be9b0760fe\",                        [{\"hoverinfo\":\"none\",\"line\":{\"color\":\"#888\",\"width\":0.5},\"mode\":\"lines\",\"x\":[0.035177722087317065,-1.0,null,0.9648222779126832,0.035177722087317065,null],\"y\":[-0.001608085262640899,-0.2839386629984489,null,0.2855467482610904,-0.001608085262640899,null],\"type\":\"scatter\"},{\"hoverinfo\":\"text\",\"marker\":{\"color\":[],\"colorbar\":{\"thickness\":15,\"title\":{\"side\":\"right\",\"text\":\"Node Connections\"},\"xanchor\":\"left\"},\"colorscale\":[[0.0,\"rgb(255,255,217)\"],[0.125,\"rgb(237,248,177)\"],[0.25,\"rgb(199,233,180)\"],[0.375,\"rgb(127,205,187)\"],[0.5,\"rgb(65,182,196)\"],[0.625,\"rgb(29,145,192)\"],[0.75,\"rgb(34,94,168)\"],[0.875,\"rgb(37,52,148)\"],[1.0,\"rgb(8,29,88)\"]],\"line\":{\"width\":2},\"reversescale\":true,\"showscale\":true,\"size\":10},\"mode\":\"markers\",\"text\":[\"0\",\"Toast\",\"Coffee\"],\"x\":[0.035177722087317065,0.9648222779126832,-1.0],\"y\":[-0.001608085262640899,0.2855467482610904,-0.2839386629984489],\"type\":\"scatter\"}],                        {\"annotations\":[{\"showarrow\":false,\"text\":\"Python code: <a href='https://plotly.com/ipython-notebooks/network-graphs/'> https://plotly.com/ipython-notebooks/network-graphs/</a>\",\"x\":0.005,\"xref\":\"paper\",\"y\":-0.002,\"yref\":\"paper\"}],\"hovermode\":\"closest\",\"margin\":{\"b\":20,\"l\":5,\"r\":5,\"t\":40},\"showlegend\":false,\"title\":{\"font\":{\"size\":16},\"text\":\"<br>Network graph made with Python\"},\"xaxis\":{\"showgrid\":false,\"showticklabels\":false,\"zeroline\":false},\"yaxis\":{\"showgrid\":false,\"showticklabels\":false,\"zeroline\":false},\"template\":{\"data\":{\"bar\":[{\"error_x\":{\"color\":\"#2a3f5f\"},\"error_y\":{\"color\":\"#2a3f5f\"},\"marker\":{\"line\":{\"color\":\"#E5ECF6\",\"width\":0.5},\"pattern\":{\"fillmode\":\"overlay\",\"size\":10,\"solidity\":0.2}},\"type\":\"bar\"}],\"barpolar\":[{\"marker\":{\"line\":{\"color\":\"#E5ECF6\",\"width\":0.5},\"pattern\":{\"fillmode\":\"overlay\",\"size\":10,\"solidity\":0.2}},\"type\":\"barpolar\"}],\"carpet\":[{\"aaxis\":{\"endlinecolor\":\"#2a3f5f\",\"gridcolor\":\"white\",\"linecolor\":\"white\",\"minorgridcolor\":\"white\",\"startlinecolor\":\"#2a3f5f\"},\"baxis\":{\"endlinecolor\":\"#2a3f5f\",\"gridcolor\":\"white\",\"linecolor\":\"white\",\"minorgridcolor\":\"white\",\"startlinecolor\":\"#2a3f5f\"},\"type\":\"carpet\"}],\"choropleth\":[{\"colorbar\":{\"outlinewidth\":0,\"ticks\":\"\"},\"type\":\"choropleth\"}],\"contour\":[{\"colorbar\":{\"outlinewidth\":0,\"ticks\":\"\"},\"colorscale\":[[0.0,\"#0d0887\"],[0.1111111111111111,\"#46039f\"],[0.2222222222222222,\"#7201a8\"],[0.3333333333333333,\"#9c179e\"],[0.4444444444444444,\"#bd3786\"],[0.5555555555555556,\"#d8576b\"],[0.6666666666666666,\"#ed7953\"],[0.7777777777777778,\"#fb9f3a\"],[0.8888888888888888,\"#fdca26\"],[1.0,\"#f0f921\"]],\"type\":\"contour\"}],\"contourcarpet\":[{\"colorbar\":{\"outlinewidth\":0,\"ticks\":\"\"},\"type\":\"contourcarpet\"}],\"heatmap\":[{\"colorbar\":{\"outlinewidth\":0,\"ticks\":\"\"},\"colorscale\":[[0.0,\"#0d0887\"],[0.1111111111111111,\"#46039f\"],[0.2222222222222222,\"#7201a8\"],[0.3333333333333333,\"#9c179e\"],[0.4444444444444444,\"#bd3786\"],[0.5555555555555556,\"#d8576b\"],[0.6666666666666666,\"#ed7953\"],[0.7777777777777778,\"#fb9f3a\"],[0.8888888888888888,\"#fdca26\"],[1.0,\"#f0f921\"]],\"type\":\"heatmap\"}],\"heatmapgl\":[{\"colorbar\":{\"outlinewidth\":0,\"ticks\":\"\"},\"colorscale\":[[0.0,\"#0d0887\"],[0.1111111111111111,\"#46039f\"],[0.2222222222222222,\"#7201a8\"],[0.3333333333333333,\"#9c179e\"],[0.4444444444444444,\"#bd3786\"],[0.5555555555555556,\"#d8576b\"],[0.6666666666666666,\"#ed7953\"],[0.7777777777777778,\"#fb9f3a\"],[0.8888888888888888,\"#fdca26\"],[1.0,\"#f0f921\"]],\"type\":\"heatmapgl\"}],\"histogram\":[{\"marker\":{\"pattern\":{\"fillmode\":\"overlay\",\"size\":10,\"solidity\":0.2}},\"type\":\"histogram\"}],\"histogram2d\":[{\"colorbar\":{\"outlinewidth\":0,\"ticks\":\"\"},\"colorscale\":[[0.0,\"#0d0887\"],[0.1111111111111111,\"#46039f\"],[0.2222222222222222,\"#7201a8\"],[0.3333333333333333,\"#9c179e\"],[0.4444444444444444,\"#bd3786\"],[0.5555555555555556,\"#d8576b\"],[0.6666666666666666,\"#ed7953\"],[0.7777777777777778,\"#fb9f3a\"],[0.8888888888888888,\"#fdca26\"],[1.0,\"#f0f921\"]],\"type\":\"histogram2d\"}],\"histogram2dcontour\":[{\"colorbar\":{\"outlinewidth\":0,\"ticks\":\"\"},\"colorscale\":[[0.0,\"#0d0887\"],[0.1111111111111111,\"#46039f\"],[0.2222222222222222,\"#7201a8\"],[0.3333333333333333,\"#9c179e\"],[0.4444444444444444,\"#bd3786\"],[0.5555555555555556,\"#d8576b\"],[0.6666666666666666,\"#ed7953\"],[0.7777777777777778,\"#fb9f3a\"],[0.8888888888888888,\"#fdca26\"],[1.0,\"#f0f921\"]],\"type\":\"histogram2dcontour\"}],\"mesh3d\":[{\"colorbar\":{\"outlinewidth\":0,\"ticks\":\"\"},\"type\":\"mesh3d\"}],\"parcoords\":[{\"line\":{\"colorbar\":{\"outlinewidth\":0,\"ticks\":\"\"}},\"type\":\"parcoords\"}],\"pie\":[{\"automargin\":true,\"type\":\"pie\"}],\"scatter\":[{\"marker\":{\"colorbar\":{\"outlinewidth\":0,\"ticks\":\"\"}},\"type\":\"scatter\"}],\"scatter3d\":[{\"line\":{\"colorbar\":{\"outlinewidth\":0,\"ticks\":\"\"}},\"marker\":{\"colorbar\":{\"outlinewidth\":0,\"ticks\":\"\"}},\"type\":\"scatter3d\"}],\"scattercarpet\":[{\"marker\":{\"colorbar\":{\"outlinewidth\":0,\"ticks\":\"\"}},\"type\":\"scattercarpet\"}],\"scattergeo\":[{\"marker\":{\"colorbar\":{\"outlinewidth\":0,\"ticks\":\"\"}},\"type\":\"scattergeo\"}],\"scattergl\":[{\"marker\":{\"colorbar\":{\"outlinewidth\":0,\"ticks\":\"\"}},\"type\":\"scattergl\"}],\"scattermapbox\":[{\"marker\":{\"colorbar\":{\"outlinewidth\":0,\"ticks\":\"\"}},\"type\":\"scattermapbox\"}],\"scatterpolar\":[{\"marker\":{\"colorbar\":{\"outlinewidth\":0,\"ticks\":\"\"}},\"type\":\"scatterpolar\"}],\"scatterpolargl\":[{\"marker\":{\"colorbar\":{\"outlinewidth\":0,\"ticks\":\"\"}},\"type\":\"scatterpolargl\"}],\"scatterternary\":[{\"marker\":{\"colorbar\":{\"outlinewidth\":0,\"ticks\":\"\"}},\"type\":\"scatterternary\"}],\"surface\":[{\"colorbar\":{\"outlinewidth\":0,\"ticks\":\"\"},\"colorscale\":[[0.0,\"#0d0887\"],[0.1111111111111111,\"#46039f\"],[0.2222222222222222,\"#7201a8\"],[0.3333333333333333,\"#9c179e\"],[0.4444444444444444,\"#bd3786\"],[0.5555555555555556,\"#d8576b\"],[0.6666666666666666,\"#ed7953\"],[0.7777777777777778,\"#fb9f3a\"],[0.8888888888888888,\"#fdca26\"],[1.0,\"#f0f921\"]],\"type\":\"surface\"}],\"table\":[{\"cells\":{\"fill\":{\"color\":\"#EBF0F8\"},\"line\":{\"color\":\"white\"}},\"header\":{\"fill\":{\"color\":\"#C8D4E3\"},\"line\":{\"color\":\"white\"}},\"type\":\"table\"}]},\"layout\":{\"annotationdefaults\":{\"arrowcolor\":\"#2a3f5f\",\"arrowhead\":0,\"arrowwidth\":1},\"autotypenumbers\":\"strict\",\"coloraxis\":{\"colorbar\":{\"outlinewidth\":0,\"ticks\":\"\"}},\"colorscale\":{\"diverging\":[[0,\"#8e0152\"],[0.1,\"#c51b7d\"],[0.2,\"#de77ae\"],[0.3,\"#f1b6da\"],[0.4,\"#fde0ef\"],[0.5,\"#f7f7f7\"],[0.6,\"#e6f5d0\"],[0.7,\"#b8e186\"],[0.8,\"#7fbc41\"],[0.9,\"#4d9221\"],[1,\"#276419\"]],\"sequential\":[[0.0,\"#0d0887\"],[0.1111111111111111,\"#46039f\"],[0.2222222222222222,\"#7201a8\"],[0.3333333333333333,\"#9c179e\"],[0.4444444444444444,\"#bd3786\"],[0.5555555555555556,\"#d8576b\"],[0.6666666666666666,\"#ed7953\"],[0.7777777777777778,\"#fb9f3a\"],[0.8888888888888888,\"#fdca26\"],[1.0,\"#f0f921\"]],\"sequentialminus\":[[0.0,\"#0d0887\"],[0.1111111111111111,\"#46039f\"],[0.2222222222222222,\"#7201a8\"],[0.3333333333333333,\"#9c179e\"],[0.4444444444444444,\"#bd3786\"],[0.5555555555555556,\"#d8576b\"],[0.6666666666666666,\"#ed7953\"],[0.7777777777777778,\"#fb9f3a\"],[0.8888888888888888,\"#fdca26\"],[1.0,\"#f0f921\"]]},\"colorway\":[\"#636efa\",\"#EF553B\",\"#00cc96\",\"#ab63fa\",\"#FFA15A\",\"#19d3f3\",\"#FF6692\",\"#B6E880\",\"#FF97FF\",\"#FECB52\"],\"font\":{\"color\":\"#2a3f5f\"},\"geo\":{\"bgcolor\":\"white\",\"lakecolor\":\"white\",\"landcolor\":\"#E5ECF6\",\"showlakes\":true,\"showland\":true,\"subunitcolor\":\"white\"},\"hoverlabel\":{\"align\":\"left\"},\"hovermode\":\"closest\",\"mapbox\":{\"style\":\"light\"},\"paper_bgcolor\":\"white\",\"plot_bgcolor\":\"#E5ECF6\",\"polar\":{\"angularaxis\":{\"gridcolor\":\"white\",\"linecolor\":\"white\",\"ticks\":\"\"},\"bgcolor\":\"#E5ECF6\",\"radialaxis\":{\"gridcolor\":\"white\",\"linecolor\":\"white\",\"ticks\":\"\"}},\"scene\":{\"xaxis\":{\"backgroundcolor\":\"#E5ECF6\",\"gridcolor\":\"white\",\"gridwidth\":2,\"linecolor\":\"white\",\"showbackground\":true,\"ticks\":\"\",\"zerolinecolor\":\"white\"},\"yaxis\":{\"backgroundcolor\":\"#E5ECF6\",\"gridcolor\":\"white\",\"gridwidth\":2,\"linecolor\":\"white\",\"showbackground\":true,\"ticks\":\"\",\"zerolinecolor\":\"white\"},\"zaxis\":{\"backgroundcolor\":\"#E5ECF6\",\"gridcolor\":\"white\",\"gridwidth\":2,\"linecolor\":\"white\",\"showbackground\":true,\"ticks\":\"\",\"zerolinecolor\":\"white\"}},\"shapedefaults\":{\"line\":{\"color\":\"#2a3f5f\"}},\"ternary\":{\"aaxis\":{\"gridcolor\":\"white\",\"linecolor\":\"white\",\"ticks\":\"\"},\"baxis\":{\"gridcolor\":\"white\",\"linecolor\":\"white\",\"ticks\":\"\"},\"bgcolor\":\"#E5ECF6\",\"caxis\":{\"gridcolor\":\"white\",\"linecolor\":\"white\",\"ticks\":\"\"}},\"title\":{\"x\":0.05},\"xaxis\":{\"automargin\":true,\"gridcolor\":\"white\",\"linecolor\":\"white\",\"ticks\":\"\",\"title\":{\"standoff\":15},\"zerolinecolor\":\"white\",\"zerolinewidth\":2},\"yaxis\":{\"automargin\":true,\"gridcolor\":\"white\",\"linecolor\":\"white\",\"ticks\":\"\",\"title\":{\"standoff\":15},\"zerolinecolor\":\"white\",\"zerolinewidth\":2}}}},                        {\"responsive\": true}                    ).then(function(){\n",
              "                            \n",
              "var gd = document.getElementById('49b83d11-58b1-4383-a88b-56be9b0760fe');\n",
              "var x = new MutationObserver(function (mutations, observer) {{\n",
              "        var display = window.getComputedStyle(gd).display;\n",
              "        if (!display || display === 'none') {{\n",
              "            console.log([gd, 'removed!']);\n",
              "            Plotly.purge(gd);\n",
              "            observer.disconnect();\n",
              "        }}\n",
              "}});\n",
              "\n",
              "// Listen for the removal of the full notebook cells\n",
              "var notebookContainer = gd.closest('#notebook-container');\n",
              "if (notebookContainer) {{\n",
              "    x.observe(notebookContainer, {childList: true});\n",
              "}}\n",
              "\n",
              "// Listen for the clearing of the current output cell\n",
              "var outputEl = gd.closest('.output');\n",
              "if (outputEl) {{\n",
              "    x.observe(outputEl, {childList: true});\n",
              "}}\n",
              "\n",
              "                        })                };                            </script>        </div>\n",
              "</body>\n",
              "</html>"
            ]
          },
          "metadata": {}
        }
      ]
    },
    {
      "cell_type": "code",
      "source": [
        "internet2.eff_apr_out()\n",
        "internet2.PyARM_out()"
      ],
      "metadata": {
        "colab": {
          "base_uri": "https://localhost:8080/",
          "height": 631
        },
        "id": "YC_tjErJkWzQ",
        "outputId": "cc2c9d41-3af1-4903-dc36-3b3880323034"
      },
      "execution_count": null,
      "outputs": [
        {
          "output_type": "stream",
          "name": "stdout",
          "text": [
            "{GREEN REGENCY TEACUP AND SAUCER, ROSES REGENCY TEACUP AND SAUCER } -> {PINK REGENCY TEACUP AND SAUCER} (conf: 0.700, supp: 0.021, lift: 22.642, conv: 3.233)\n",
            "{GREEN REGENCY TEACUP AND SAUCER, PINK REGENCY TEACUP AND SAUCER} -> {ROSES REGENCY TEACUP AND SAUCER } (conf: 0.852, supp: 0.021, lift: 19.714, conv: 6.486)\n",
            "{PINK REGENCY TEACUP AND SAUCER, ROSES REGENCY TEACUP AND SAUCER } -> {GREEN REGENCY TEACUP AND SAUCER} (conf: 0.894, supp: 0.021, lift: 21.909, conv: 9.061)\n",
            "Efficient apriori freq: {1: {('WHITE HANGING HEART T-LIGHT HOLDER',): 2302, ('ASSORTED COLOUR BIRD ORNAMENT',): 1467, ('HOME BUILDING BLOCK WORD',): 787, ('LOVE BUILDING BLOCK WORD',): 631, ('DOORMAT NEW ENGLAND',): 602, ('JAM MAKING SET WITH JARS',): 1220, ('ALARM CLOCK BAKELIKE PINK',): 799, ('ALARM CLOCK BAKELIKE RED ',): 1081, ('ALARM CLOCK BAKELIKE GREEN',): 1001, ('VINTAGE HEADS AND TAILS CARD GAME ',): 611, ('ROUND SNACK BOXES SET OF4 WOODLAND ',): 749, ('SPACEBOY LUNCH BOX ',): 908, ('LUNCH BOX I LOVE LONDON',): 725, ('RED TOADSTOOL LED NIGHT LIGHT',): 861, ('POSTAGE',): 1250, (\"PAPER CHAIN KIT 50'S CHRISTMAS \",): 1170, ('WOOD 2 DRAWER CABINET WHITE FINISH',): 583, ('WOODEN PICTURE FRAME WHITE FINISH',): 1118, ('WOODEN FRAME ANTIQUE WHITE ',): 987, ('HOT WATER BOTTLE TEA AND SYMPATHY',): 648, ('RED HANGING HEART T-LIGHT HOLDER',): 754, ('JUMBO BAG PINK POLKADOT',): 1231, ('JUMBO  BAG BAROQUE BLACK WHITE',): 947, ('STRAWBERRY CHARLOTTE BAG',): 734, ('SET/6 RED SPOTTY PAPER PLATES',): 527, ('LUNCH BAG RED RETROSPOT',): 1607, ('STRAWBERRY LUNCH BOX WITH CUTLERY',): 585, ('PACK OF 72 RETROSPOT CAKE CASES',): 1334, ('PACK OF 60 DINOSAUR CAKE CASES',): 604, ('PACK OF 60 PINK PAISLEY CAKE CASES',): 875, ('60 TEATIME FAIRY CAKE CASES',): 836, ('JUMBO STORAGE BAG SUKI',): 1201, ('JUMBO BAG PINK VINTAGE PAISLEY',): 877, ('JAM MAKING SET PRINTED',): 1174, ('RETROSPOT TEA SET CERAMIC 11 PC ',): 978, ('JUMBO SHOPPER VINTAGE RED PAISLEY',): 1187, ('COOK WITH WINE METAL SIGN ',): 734, ('GIN + TONIC DIET METAL SIGN',): 766, ('PAPER CHAIN KIT RETROSPOT',): 615, ('EDWARDIAN PARASOL NATURAL',): 547, ('RECYCLING BAG RETROSPOT ',): 753, ('WOOD BLACK BOARD ANT WHITE FINISH',): 696, ('COLOUR GLASS T-LIGHT HOLDER HANGING',): 633, ('NATURAL SLATE HEART CHALKBOARD ',): 1266, ('HEART OF WICKER SMALL',): 1212, ('HEART OF WICKER LARGE',): 942, ('CREAM HEART CARD HOLDER',): 529, ('ENAMEL FLOWER JUG CREAM',): 522, ('LUNCH BAG DOLLY GIRL DESIGN',): 690, ('JUMBO BAG RED RETROSPOT',): 2135, ('CHILLI LIGHTS',): 669, ('HOMEMADE JAM SCENTED CANDLES',): 654, ('HANGING HEART ZINC T-LIGHT HOLDER',): 609, ('PAPER CHAIN KIT VINTAGE CHRISTMAS',): 832, ('SMALL POPCORN HOLDER',): 603, ('SET/20 RED RETROSPOT PAPER NAPKINS ',): 988, ('RETROSPOT HEART HOT WATER BOTTLE',): 631, ('PLASTERS IN TIN CIRCUS PARADE ',): 581, ('PLASTERS IN TIN VINTAGE PAISLEY ',): 570, ('PLASTERS IN TIN SKULLS',): 568, ('WOODEN BOX OF DOMINOES',): 590, ('HAND WARMER SCOTTY DOG DESIGN',): 553, ('HAND WARMER OWL DESIGN',): 665, ('CLOTHES PEGS RETROSPOT PACK 24 ',): 783, ('HAND OVER THE CHOCOLATE   SIGN ',): 680, ('SMALL GLASS HEART TRINKET POT',): 581, ('ALARM CLOCK BAKELIKE IVORY',): 583, ('HAND WARMER BIRD DESIGN',): 560, ('STRAWBERRY CERAMIC TRINKET BOX',): 758, ('HOT WATER BOTTLE I AM SO POORLY',): 663, ('CHOCOLATE HOT WATER BOTTLE',): 866, ('SCOTTIE DOG HOT WATER BOTTLE',): 778, ('PHOTO FRAME CORNICE',): 520, ('BATHROOM METAL SIGN',): 636, ('LUNCH BAG SPACEBOY DESIGN ',): 1170, ('LUNCH BAG WOODLAND',): 1037, ('LUNCH BAG PINK POLKADOT',): 1110, ('GUMBALL COAT RACK',): 711, ('SET OF 3 BUTTERFLY COOKIE CUTTERS',): 696, ('SET OF 3 HEART COOKIE CUTTERS',): 689, ('PACK OF 72 SKULL CAKE CASES',): 664, ('PACK OF 60 SPACEBOY CAKE CASES',): 522, ('72 SWEETHEART FAIRY CAKE CASES',): 619, ('LUNCH BAG CARS BLUE',): 1173, ('LUNCH BAG  BLACK SKULL.',): 1295, ('SET/5 RED RETROSPOT LID GLASS BOWLS',): 913, ('RED  HARMONICA IN BOX ',): 670, ('BLUE HARMONICA IN BOX ',): 605, ('SET OF 20 KIDS COOKIE CUTTERS',): 520, ('VICTORIAN GLASS HANGING T-LIGHT',): 1062, ('DOORMAT RED RETROSPOT',): 704, ('DOORMAT HEARTS',): 595, ('LOVEBIRD HANGING DECORATION WHITE ',): 547, ('JUMBO BAG OWLS',): 663, ('JUMBO BAG STRAWBERRY',): 838, ('ROUND SNACK BOXES SET OF 4 FRUITS ',): 597, ('DOLLY GIRL LUNCH BOX',): 860, ('6 RIBBONS RUSTIC CHARM',): 961, ('CHRISTMAS CRAFT LITTLE FRIENDS',): 547, ('REX CASH+CARRY JUMBO SHOPPER',): 874, ('nan',): 1454, ('60 CAKE CASES VINTAGE CHRISTMAS',): 622, ('SET OF 20 VINTAGE CHRISTMAS NAPKINS',): 617, ('VINTAGE SNAP CARDS',): 929, ('FELTCRAFT 6 FLOWER FRIENDS',): 556, ('CHILDRENS APRON SPACEBOY DESIGN',): 563, ('PLASTERS IN TIN SPACEBOY',): 681, ('PLASTERS IN TIN WOODLAND ANIMALS',): 709, ('GREY HEART HOT WATER BOTTLE',): 565, ('ZINC METAL HEART DECORATION',): 537, ('WOODEN HEART CHRISTMAS SCANDINAVIAN',): 540, ('REGENCY CAKESTAND 3 TIER',): 2169, ('JUMBO STORAGE BAG SKULLS',): 708, ('PINK CREAM FELT CRAFT TRINKET BOX ',): 618, ('PACK OF 20 NAPKINS PANTRY DESIGN',): 676, ('ROSES REGENCY TEACUP AND SAUCER ',): 1120, ('GREEN REGENCY TEACUP AND SAUCER',): 1057, ('RED KITCHEN SCALES',): 570, ('IVORY KITCHEN SCALES',): 724, ('JUMBO BAG WOODLAND ANIMALS',): 872, ('BOX OF 24 COCKTAIL PARASOLS',): 590, ('PLASTERS IN TIN STRONGMAN',): 519, ('GINGERBREAD MAN COOKIE CUTTER',): 672, ('RECIPE BOX PANTRY YELLOW DESIGN',): 1164, ('RED RETROSPOT CAKE STAND',): 581, ('DOORMAT UNION FLAG',): 623, ('CHARLOTTE BAG SUKI DESIGN',): 894, ('JUMBO BAG TOYS ',): 530, ('SUKI  SHOULDER BAG',): 531, ('PAPER BUNTING RETROSPOT',): 806, ('CHARLOTTE BAG PINK POLKADOT',): 760, ('HOT BATHS METAL SIGN',): 617, ('DOTCOM POSTAGE',): 709, ('WOODLAND CHARLOTTE BAG',): 843, ('RED RETROSPOT CHARLOTTE BAG',): 1050, ('PINK BLUE FELT CRAFT TRINKET BOX',): 526, ('POTTERING IN THE SHED METAL SIGN',): 538, ('SWEETHEART CERAMIC TRINKET BOX',): 536, ('PLEASE ONE PERSON METAL SIGN',): 855, ('Manual',): 518, ('RED RETROSPOT SHOPPER BAG',): 580, ('SPACEBOY BIRTHDAY CARD',): 528, ('WORLD WAR 2 GLIDERS ASSTD DESIGNS',): 540, ('JUMBO BAG SPACEBOY DESIGN',): 692, ('ASSORTED COLOURS SILK FAN',): 522, ('CREAM SWEETHEART MINI CHEST',): 544, ('TRADITIONAL KNITTING NANCY',): 613, ('PARTY BUNTING',): 1706, ('RED RETROSPOT PICNIC BAG',): 543, ('HANGING HEART JAR T-LIGHT HOLDER',): 758, ('SMALL DOLLY MIX DESIGN ORANGE BOWL',): 528, ('BAKING SET 9 PIECE RETROSPOT ',): 961, ('PINK REGENCY TEACUP AND SAUCER',): 801, ('SET OF 6 SPICE TINS PANTRY DESIGN',): 846, ('SET OF 3 CAKE TINS PANTRY DESIGN ',): 1458, ('SET OF 4 PANTRY JELLY MOULDS',): 1082, ('TRAVEL CARD WALLET KEEP CALM',): 545, ('LUNCH BAG SUKI DESIGN ',): 1103, ('JUMBO BAG SCANDINAVIAN BLUE PAISLEY',): 670, ('ANTIQUE SILVER T-LIGHT GLASS',): 712, ('JUMBO BAG ALPHABET',): 920, ('LUNCH BAG ALPHABET DESIGN',): 753, ('JUMBO BAG APPLES',): 999, ('LUNCH BAG APPLE DESIGN',): 1049, ('CHARLOTTE BAG APPLES DESIGN',): 591, ('LUNCH BAG VINTAGE LEAF DESIGN',): 672, ('DOORMAT KEEP CALM AND COME IN',): 735, ('SPOTTY BUNTING',): 1153, ('JUMBO BAG VINTAGE LEAF',): 885, ('JUMBO BAG PEARS',): 601, ('JUMBO BAG DOILEY PATTERNS',): 518, ('RABBIT NIGHT LIGHT',): 1009, ('GARDENERS KNEELING PAD KEEP CALM ',): 924, ('GARDENERS KNEELING PAD CUP OF TEA ',): 765, ('SET OF 60 PANTRY DESIGN CAKE CASES ',): 634, ('SET OF 3 REGENCY CAKE TINS',): 910, ('SMALL WHITE HEART OF WICKER',): 633, ('LARGE WHITE HEART OF WICKER',): 572, ('POPCORN HOLDER',): 839, (\"JUMBO BAG 50'S CHRISTMAS \",): 723, ('SET OF 12 FAIRY CAKE BAKING CASES',): 557, ('JUMBO BAG VINTAGE DOILY ',): 724, ('LUNCH BAG VINTAGE DOILY ',): 608, ('HOT WATER BOTTLE KEEP CALM',): 790}, 2: {('ALARM CLOCK BAKELIKE GREEN', 'ALARM CLOCK BAKELIKE RED '): 646, ('CHARLOTTE BAG PINK POLKADOT', 'RED RETROSPOT CHARLOTTE BAG'): 526, ('DOLLY GIRL LUNCH BOX', 'SPACEBOY LUNCH BOX '): 538, ('GARDENERS KNEELING PAD CUP OF TEA ', 'GARDENERS KNEELING PAD KEEP CALM '): 549, ('GREEN REGENCY TEACUP AND SAUCER', 'PINK REGENCY TEACUP AND SAUCER'): 644, ('GREEN REGENCY TEACUP AND SAUCER', 'REGENCY CAKESTAND 3 TIER'): 518, ('GREEN REGENCY TEACUP AND SAUCER', 'ROSES REGENCY TEACUP AND SAUCER '): 784, ('JUMBO  BAG BAROQUE BLACK WHITE', 'JUMBO BAG RED RETROSPOT'): 593, ('JUMBO BAG APPLES', 'JUMBO BAG RED RETROSPOT'): 555, ('JUMBO BAG PINK POLKADOT', 'JUMBO BAG RED RETROSPOT'): 833, ('JUMBO BAG PINK POLKADOT', 'JUMBO STORAGE BAG SUKI'): 518, ('JUMBO BAG PINK VINTAGE PAISLEY', 'JUMBO BAG RED RETROSPOT'): 522, ('JUMBO BAG RED RETROSPOT', 'JUMBO BAG STRAWBERRY'): 545, ('JUMBO BAG RED RETROSPOT', 'JUMBO BAG WOODLAND ANIMALS'): 538, ('JUMBO BAG RED RETROSPOT', 'JUMBO SHOPPER VINTAGE RED PAISLEY'): 683, ('JUMBO BAG RED RETROSPOT', 'JUMBO STORAGE BAG SUKI'): 733, ('JUMBO BAG RED RETROSPOT', 'LUNCH BAG RED RETROSPOT'): 588, ('JUMBO SHOPPER VINTAGE RED PAISLEY', 'JUMBO STORAGE BAG SUKI'): 525, ('LUNCH BAG  BLACK SKULL.', 'LUNCH BAG CARS BLUE'): 526, ('LUNCH BAG  BLACK SKULL.', 'LUNCH BAG PINK POLKADOT'): 547, ('LUNCH BAG  BLACK SKULL.', 'LUNCH BAG RED RETROSPOT'): 648, ('LUNCH BAG  BLACK SKULL.', 'LUNCH BAG SUKI DESIGN '): 518, ('LUNCH BAG CARS BLUE', 'LUNCH BAG RED RETROSPOT'): 561, ('LUNCH BAG PINK POLKADOT', 'LUNCH BAG RED RETROSPOT'): 613, ('LUNCH BAG RED RETROSPOT', 'LUNCH BAG SPACEBOY DESIGN '): 563, ('LUNCH BAG RED RETROSPOT', 'LUNCH BAG SUKI DESIGN '): 564, ('LUNCH BAG RED RETROSPOT', 'LUNCH BAG WOODLAND'): 532, (\"PAPER CHAIN KIT 50'S CHRISTMAS \", 'PAPER CHAIN KIT VINTAGE CHRISTMAS'): 555, ('PINK REGENCY TEACUP AND SAUCER', 'ROSES REGENCY TEACUP AND SAUCER '): 614, ('REGENCY CAKESTAND 3 TIER', 'ROSES REGENCY TEACUP AND SAUCER '): 537, ('WOODEN FRAME ANTIQUE WHITE ', 'WOODEN PICTURE FRAME WHITE FINISH'): 545}, 3: {('GREEN REGENCY TEACUP AND SAUCER', 'PINK REGENCY TEACUP AND SAUCER', 'ROSES REGENCY TEACUP AND SAUCER '): 549}}\n"
          ]
        },
        {
          "output_type": "display_data",
          "data": {
            "text/html": [
              "<html>\n",
              "<head><meta charset=\"utf-8\" /></head>\n",
              "<body>\n",
              "    <div>            <script src=\"https://cdnjs.cloudflare.com/ajax/libs/mathjax/2.7.5/MathJax.js?config=TeX-AMS-MML_SVG\"></script><script type=\"text/javascript\">if (window.MathJax) {MathJax.Hub.Config({SVG: {font: \"STIX-Web\"}});}</script>                <script type=\"text/javascript\">window.PlotlyConfig = {MathJaxConfig: 'local'};</script>\n",
              "        <script src=\"https://cdn.plot.ly/plotly-2.8.3.min.js\"></script>                <div id=\"156e13bd-9ecf-41dd-a0b8-5eeca902c982\" class=\"plotly-graph-div\" style=\"height:525px; width:100%;\"></div>            <script type=\"text/javascript\">                                    window.PLOTLYENV=window.PLOTLYENV || {};                                    if (document.getElementById(\"156e13bd-9ecf-41dd-a0b8-5eeca902c982\")) {                    Plotly.newPlot(                        \"156e13bd-9ecf-41dd-a0b8-5eeca902c982\",                        [{\"hoverinfo\":\"none\",\"line\":{\"color\":\"#888\",\"width\":0.5},\"mode\":\"lines\",\"x\":[0.26449291774228306,0.29600303679121914,null,0.29105415868853873,0.26449291774228306,null,-0.5857950026153604,-0.6334685638047011,null,-0.5565761439314566,-0.5857950026153604,null,0.8161525671773747,0.8558103719758084,null,0.7887964553683873,0.8161525671773747,null,0.6153804215332014,0.6058836110085121,null,0.5653207592390563,0.6153804215332014,null,0.033981995583334555,-0.010794856168022338,null,-0.0016487481499954653,0.033981995583334555,null,-0.0016487481499954653,0.007490635505937869,null,-0.0016487481499954653,0.02033456125289657,null,-0.0016487481499954653,-0.06684081333513499,null,-0.0016487481499954653,-0.037141825904348495,null,-0.010794856168022338,0.05103923306091829,null,-0.010794856168022338,-0.016564463101202142,null,-0.010794856168022338,-0.016383928820373192,null,-0.010794856168022338,-0.06684081333513499,null,0.05103923306091829,-0.0016487481499954653,null,-0.05122012230799661,-0.010794856168022338,null,-0.015481439675367368,-0.05122012230799661,null,-0.015481439675367368,0.02033456125289657,null,-0.015481439675367368,-0.016383928820373192,null,-0.016564463101202142,-0.015481439675367368,null,-0.3850549108108597,-0.39587668015335276,null,-0.3942226125910035,-0.3850549108108597,null,-0.3722861297663363,-0.39587668015335276,null,-0.3532003758662777,-0.3722861297663363,null,-0.3802708493676777,-0.39587668015335276,null,-0.35708155069405245,-0.3802708493676777,null,-0.42865197496974516,-0.39587668015335276,null,-0.4657182107127341,-0.42865197496974516,null,-0.4124908262085153,-0.39587668015335276,null,-0.4315690549906603,-0.4124908262085153,null,0.38446168533505615,0.405901888207957,null,0.3662347854746919,0.38446168533505615,null,0.007490635505937869,-0.015481439675367368,null,0.02033456125289657,-0.010794856168022338,null,-0.016383928820373192,-0.0016487481499954653,null,-0.06684081333513499,-0.015481439675367368,null,-0.037141825904348495,-0.010794856168022338,null,-0.037141825904348495,-0.015481439675367368,null],\"y\":[0.9008212325234161,1.0,null,0.9114838805896277,0.9008212325234161,null,0.8341622536308579,0.8967890169190822,null,0.7951693617327465,0.8341622536308579,null,0.16734649269128857,0.17191263229644196,null,0.18801500193805848,0.16734649269128857,null,-0.298563785514305,-0.33200527068366775,null,-0.2083249424605501,-0.298563785514305,null,0.15447103682272395,0.13019070726978071,null,0.13945430294187722,0.15447103682272395,null,0.13945430294187722,0.19812525910432174,null,0.13945430294187722,0.08763911139139252,null,0.13945430294187722,0.13586880193847517,null,0.13945430294187722,0.11264587424503893,null,0.13019070726978071,0.13061238992508,null,0.13019070726978071,0.09294105589225761,null,0.13019070726978071,0.18912932101673918,null,0.13019070726978071,0.13586880193847517,null,0.13061238992508,0.13945430294187722,null,0.16042120456968706,0.13019070726978071,null,0.14769776070534615,0.16042120456968706,null,0.14769776070534615,0.08763911139139252,null,0.14769776070534615,0.18912932101673918,null,0.09294105589225761,0.14769776070534615,null,-0.42280285504793996,-0.5388805275755308,null,-0.37255329059916614,-0.42280285504793996,null,-0.4897711803241061,-0.5388805275755308,null,-0.43983071984193667,-0.4897711803241061,null,-0.4667157714085772,-0.5388805275755308,null,-0.3895457023250949,-0.4667157714085772,null,-0.5081656795849686,-0.5388805275755308,null,-0.4633367744191275,-0.5081656795849686,null,-0.47407573273200304,-0.5388805275755308,null,-0.39959929594193183,-0.47407573273200304,null,-0.5813234528097962,-0.6107079394216669,null,-0.5486937774538706,-0.5813234528097962,null,0.19812525910432174,0.14769776070534615,null,0.08763911139139252,0.13019070726978071,null,0.18912932101673918,0.13945430294187722,null,0.13586880193847517,0.14769776070534615,null,0.11264587424503893,0.13019070726978071,null,0.11264587424503893,0.14769776070534615,null],\"type\":\"scatter\"},{\"hoverinfo\":\"text\",\"marker\":{\"color\":[],\"colorbar\":{\"thickness\":15,\"title\":{\"side\":\"right\",\"text\":\"Node Connections\"},\"xanchor\":\"left\"},\"colorscale\":[[0.0,\"rgb(255,255,217)\"],[0.125,\"rgb(237,248,177)\"],[0.25,\"rgb(199,233,180)\"],[0.375,\"rgb(127,205,187)\"],[0.5,\"rgb(65,182,196)\"],[0.625,\"rgb(29,145,192)\"],[0.75,\"rgb(34,94,168)\"],[0.875,\"rgb(37,52,148)\"],[1.0,\"rgb(8,29,88)\"]],\"line\":{\"width\":2},\"reversescale\":true,\"showscale\":true,\"size\":10},\"mode\":\"markers\",\"text\":[\"0\",\"ALARM CLOCK BAKELIKE GREEN\",\"ALARM CLOCK BAKELIKE RED \",\"1\",\"CHARLOTTE BAG PINK POLKADOT\",\"RED RETROSPOT CHARLOTTE BAG\",\"2\",\"DOLLY GIRL LUNCH BOX\",\"SPACEBOY LUNCH BOX \",\"3\",\"GARDENERS KNEELING PAD CUP OF TEA \",\"GARDENERS KNEELING PAD KEEP CALM \",\"4\",\"PINK REGENCY TEACUP AND SAUCER\",\"GREEN REGENCY TEACUP AND SAUCER\",\"5\",\"6\",\"ROSES REGENCY TEACUP AND SAUCER \",\"7\",\"8\",\"JUMBO  BAG BAROQUE BLACK WHITE\",\"JUMBO BAG RED RETROSPOT\",\"9\",\"JUMBO BAG PINK POLKADOT\",\"10\",\"JUMBO BAG STRAWBERRY\",\"11\",\"JUMBO BAG WOODLAND ANIMALS\",\"12\",\"JUMBO STORAGE BAG SUKI\",\"13\",\"PAPER CHAIN KIT VINTAGE CHRISTMAS\",\"PAPER CHAIN KIT 50'S CHRISTMAS \",\"14\",\"15\",\"16\",\"17\",\"18\"],\"x\":[0.26449291774228306,0.29105415868853873,0.29600303679121914,-0.5857950026153604,-0.5565761439314566,-0.6334685638047011,0.8161525671773747,0.7887964553683873,0.8558103719758084,0.6153804215332014,0.5653207592390563,0.6058836110085121,0.033981995583334555,-0.0016487481499954653,-0.010794856168022338,0.05103923306091829,-0.05122012230799661,-0.015481439675367368,-0.016564463101202142,-0.3850549108108597,-0.3942226125910035,-0.39587668015335276,-0.3722861297663363,-0.3532003758662777,-0.3802708493676777,-0.35708155069405245,-0.42865197496974516,-0.4657182107127341,-0.4124908262085153,-0.4315690549906603,0.38446168533505615,0.3662347854746919,0.405901888207957,0.007490635505937869,0.02033456125289657,-0.016383928820373192,-0.06684081333513499,-0.037141825904348495],\"y\":[0.9008212325234161,0.9114838805896277,1.0,0.8341622536308579,0.7951693617327465,0.8967890169190822,0.16734649269128857,0.18801500193805848,0.17191263229644196,-0.298563785514305,-0.2083249424605501,-0.33200527068366775,0.15447103682272395,0.13945430294187722,0.13019070726978071,0.13061238992508,0.16042120456968706,0.14769776070534615,0.09294105589225761,-0.42280285504793996,-0.37255329059916614,-0.5388805275755308,-0.4897711803241061,-0.43983071984193667,-0.4667157714085772,-0.3895457023250949,-0.5081656795849686,-0.4633367744191275,-0.47407573273200304,-0.39959929594193183,-0.5813234528097962,-0.5486937774538706,-0.6107079394216669,0.19812525910432174,0.08763911139139252,0.18912932101673918,0.13586880193847517,0.11264587424503893],\"type\":\"scatter\"}],                        {\"annotations\":[{\"showarrow\":false,\"text\":\"Python code: <a href='https://plotly.com/ipython-notebooks/network-graphs/'> https://plotly.com/ipython-notebooks/network-graphs/</a>\",\"x\":0.005,\"xref\":\"paper\",\"y\":-0.002,\"yref\":\"paper\"}],\"hovermode\":\"closest\",\"margin\":{\"b\":20,\"l\":5,\"r\":5,\"t\":40},\"showlegend\":false,\"title\":{\"font\":{\"size\":16},\"text\":\"<br>Network graph made with Python\"},\"xaxis\":{\"showgrid\":false,\"showticklabels\":false,\"zeroline\":false},\"yaxis\":{\"showgrid\":false,\"showticklabels\":false,\"zeroline\":false},\"template\":{\"data\":{\"bar\":[{\"error_x\":{\"color\":\"#2a3f5f\"},\"error_y\":{\"color\":\"#2a3f5f\"},\"marker\":{\"line\":{\"color\":\"#E5ECF6\",\"width\":0.5},\"pattern\":{\"fillmode\":\"overlay\",\"size\":10,\"solidity\":0.2}},\"type\":\"bar\"}],\"barpolar\":[{\"marker\":{\"line\":{\"color\":\"#E5ECF6\",\"width\":0.5},\"pattern\":{\"fillmode\":\"overlay\",\"size\":10,\"solidity\":0.2}},\"type\":\"barpolar\"}],\"carpet\":[{\"aaxis\":{\"endlinecolor\":\"#2a3f5f\",\"gridcolor\":\"white\",\"linecolor\":\"white\",\"minorgridcolor\":\"white\",\"startlinecolor\":\"#2a3f5f\"},\"baxis\":{\"endlinecolor\":\"#2a3f5f\",\"gridcolor\":\"white\",\"linecolor\":\"white\",\"minorgridcolor\":\"white\",\"startlinecolor\":\"#2a3f5f\"},\"type\":\"carpet\"}],\"choropleth\":[{\"colorbar\":{\"outlinewidth\":0,\"ticks\":\"\"},\"type\":\"choropleth\"}],\"contour\":[{\"colorbar\":{\"outlinewidth\":0,\"ticks\":\"\"},\"colorscale\":[[0.0,\"#0d0887\"],[0.1111111111111111,\"#46039f\"],[0.2222222222222222,\"#7201a8\"],[0.3333333333333333,\"#9c179e\"],[0.4444444444444444,\"#bd3786\"],[0.5555555555555556,\"#d8576b\"],[0.6666666666666666,\"#ed7953\"],[0.7777777777777778,\"#fb9f3a\"],[0.8888888888888888,\"#fdca26\"],[1.0,\"#f0f921\"]],\"type\":\"contour\"}],\"contourcarpet\":[{\"colorbar\":{\"outlinewidth\":0,\"ticks\":\"\"},\"type\":\"contourcarpet\"}],\"heatmap\":[{\"colorbar\":{\"outlinewidth\":0,\"ticks\":\"\"},\"colorscale\":[[0.0,\"#0d0887\"],[0.1111111111111111,\"#46039f\"],[0.2222222222222222,\"#7201a8\"],[0.3333333333333333,\"#9c179e\"],[0.4444444444444444,\"#bd3786\"],[0.5555555555555556,\"#d8576b\"],[0.6666666666666666,\"#ed7953\"],[0.7777777777777778,\"#fb9f3a\"],[0.8888888888888888,\"#fdca26\"],[1.0,\"#f0f921\"]],\"type\":\"heatmap\"}],\"heatmapgl\":[{\"colorbar\":{\"outlinewidth\":0,\"ticks\":\"\"},\"colorscale\":[[0.0,\"#0d0887\"],[0.1111111111111111,\"#46039f\"],[0.2222222222222222,\"#7201a8\"],[0.3333333333333333,\"#9c179e\"],[0.4444444444444444,\"#bd3786\"],[0.5555555555555556,\"#d8576b\"],[0.6666666666666666,\"#ed7953\"],[0.7777777777777778,\"#fb9f3a\"],[0.8888888888888888,\"#fdca26\"],[1.0,\"#f0f921\"]],\"type\":\"heatmapgl\"}],\"histogram\":[{\"marker\":{\"pattern\":{\"fillmode\":\"overlay\",\"size\":10,\"solidity\":0.2}},\"type\":\"histogram\"}],\"histogram2d\":[{\"colorbar\":{\"outlinewidth\":0,\"ticks\":\"\"},\"colorscale\":[[0.0,\"#0d0887\"],[0.1111111111111111,\"#46039f\"],[0.2222222222222222,\"#7201a8\"],[0.3333333333333333,\"#9c179e\"],[0.4444444444444444,\"#bd3786\"],[0.5555555555555556,\"#d8576b\"],[0.6666666666666666,\"#ed7953\"],[0.7777777777777778,\"#fb9f3a\"],[0.8888888888888888,\"#fdca26\"],[1.0,\"#f0f921\"]],\"type\":\"histogram2d\"}],\"histogram2dcontour\":[{\"colorbar\":{\"outlinewidth\":0,\"ticks\":\"\"},\"colorscale\":[[0.0,\"#0d0887\"],[0.1111111111111111,\"#46039f\"],[0.2222222222222222,\"#7201a8\"],[0.3333333333333333,\"#9c179e\"],[0.4444444444444444,\"#bd3786\"],[0.5555555555555556,\"#d8576b\"],[0.6666666666666666,\"#ed7953\"],[0.7777777777777778,\"#fb9f3a\"],[0.8888888888888888,\"#fdca26\"],[1.0,\"#f0f921\"]],\"type\":\"histogram2dcontour\"}],\"mesh3d\":[{\"colorbar\":{\"outlinewidth\":0,\"ticks\":\"\"},\"type\":\"mesh3d\"}],\"parcoords\":[{\"line\":{\"colorbar\":{\"outlinewidth\":0,\"ticks\":\"\"}},\"type\":\"parcoords\"}],\"pie\":[{\"automargin\":true,\"type\":\"pie\"}],\"scatter\":[{\"marker\":{\"colorbar\":{\"outlinewidth\":0,\"ticks\":\"\"}},\"type\":\"scatter\"}],\"scatter3d\":[{\"line\":{\"colorbar\":{\"outlinewidth\":0,\"ticks\":\"\"}},\"marker\":{\"colorbar\":{\"outlinewidth\":0,\"ticks\":\"\"}},\"type\":\"scatter3d\"}],\"scattercarpet\":[{\"marker\":{\"colorbar\":{\"outlinewidth\":0,\"ticks\":\"\"}},\"type\":\"scattercarpet\"}],\"scattergeo\":[{\"marker\":{\"colorbar\":{\"outlinewidth\":0,\"ticks\":\"\"}},\"type\":\"scattergeo\"}],\"scattergl\":[{\"marker\":{\"colorbar\":{\"outlinewidth\":0,\"ticks\":\"\"}},\"type\":\"scattergl\"}],\"scattermapbox\":[{\"marker\":{\"colorbar\":{\"outlinewidth\":0,\"ticks\":\"\"}},\"type\":\"scattermapbox\"}],\"scatterpolar\":[{\"marker\":{\"colorbar\":{\"outlinewidth\":0,\"ticks\":\"\"}},\"type\":\"scatterpolar\"}],\"scatterpolargl\":[{\"marker\":{\"colorbar\":{\"outlinewidth\":0,\"ticks\":\"\"}},\"type\":\"scatterpolargl\"}],\"scatterternary\":[{\"marker\":{\"colorbar\":{\"outlinewidth\":0,\"ticks\":\"\"}},\"type\":\"scatterternary\"}],\"surface\":[{\"colorbar\":{\"outlinewidth\":0,\"ticks\":\"\"},\"colorscale\":[[0.0,\"#0d0887\"],[0.1111111111111111,\"#46039f\"],[0.2222222222222222,\"#7201a8\"],[0.3333333333333333,\"#9c179e\"],[0.4444444444444444,\"#bd3786\"],[0.5555555555555556,\"#d8576b\"],[0.6666666666666666,\"#ed7953\"],[0.7777777777777778,\"#fb9f3a\"],[0.8888888888888888,\"#fdca26\"],[1.0,\"#f0f921\"]],\"type\":\"surface\"}],\"table\":[{\"cells\":{\"fill\":{\"color\":\"#EBF0F8\"},\"line\":{\"color\":\"white\"}},\"header\":{\"fill\":{\"color\":\"#C8D4E3\"},\"line\":{\"color\":\"white\"}},\"type\":\"table\"}]},\"layout\":{\"annotationdefaults\":{\"arrowcolor\":\"#2a3f5f\",\"arrowhead\":0,\"arrowwidth\":1},\"autotypenumbers\":\"strict\",\"coloraxis\":{\"colorbar\":{\"outlinewidth\":0,\"ticks\":\"\"}},\"colorscale\":{\"diverging\":[[0,\"#8e0152\"],[0.1,\"#c51b7d\"],[0.2,\"#de77ae\"],[0.3,\"#f1b6da\"],[0.4,\"#fde0ef\"],[0.5,\"#f7f7f7\"],[0.6,\"#e6f5d0\"],[0.7,\"#b8e186\"],[0.8,\"#7fbc41\"],[0.9,\"#4d9221\"],[1,\"#276419\"]],\"sequential\":[[0.0,\"#0d0887\"],[0.1111111111111111,\"#46039f\"],[0.2222222222222222,\"#7201a8\"],[0.3333333333333333,\"#9c179e\"],[0.4444444444444444,\"#bd3786\"],[0.5555555555555556,\"#d8576b\"],[0.6666666666666666,\"#ed7953\"],[0.7777777777777778,\"#fb9f3a\"],[0.8888888888888888,\"#fdca26\"],[1.0,\"#f0f921\"]],\"sequentialminus\":[[0.0,\"#0d0887\"],[0.1111111111111111,\"#46039f\"],[0.2222222222222222,\"#7201a8\"],[0.3333333333333333,\"#9c179e\"],[0.4444444444444444,\"#bd3786\"],[0.5555555555555556,\"#d8576b\"],[0.6666666666666666,\"#ed7953\"],[0.7777777777777778,\"#fb9f3a\"],[0.8888888888888888,\"#fdca26\"],[1.0,\"#f0f921\"]]},\"colorway\":[\"#636efa\",\"#EF553B\",\"#00cc96\",\"#ab63fa\",\"#FFA15A\",\"#19d3f3\",\"#FF6692\",\"#B6E880\",\"#FF97FF\",\"#FECB52\"],\"font\":{\"color\":\"#2a3f5f\"},\"geo\":{\"bgcolor\":\"white\",\"lakecolor\":\"white\",\"landcolor\":\"#E5ECF6\",\"showlakes\":true,\"showland\":true,\"subunitcolor\":\"white\"},\"hoverlabel\":{\"align\":\"left\"},\"hovermode\":\"closest\",\"mapbox\":{\"style\":\"light\"},\"paper_bgcolor\":\"white\",\"plot_bgcolor\":\"#E5ECF6\",\"polar\":{\"angularaxis\":{\"gridcolor\":\"white\",\"linecolor\":\"white\",\"ticks\":\"\"},\"bgcolor\":\"#E5ECF6\",\"radialaxis\":{\"gridcolor\":\"white\",\"linecolor\":\"white\",\"ticks\":\"\"}},\"scene\":{\"xaxis\":{\"backgroundcolor\":\"#E5ECF6\",\"gridcolor\":\"white\",\"gridwidth\":2,\"linecolor\":\"white\",\"showbackground\":true,\"ticks\":\"\",\"zerolinecolor\":\"white\"},\"yaxis\":{\"backgroundcolor\":\"#E5ECF6\",\"gridcolor\":\"white\",\"gridwidth\":2,\"linecolor\":\"white\",\"showbackground\":true,\"ticks\":\"\",\"zerolinecolor\":\"white\"},\"zaxis\":{\"backgroundcolor\":\"#E5ECF6\",\"gridcolor\":\"white\",\"gridwidth\":2,\"linecolor\":\"white\",\"showbackground\":true,\"ticks\":\"\",\"zerolinecolor\":\"white\"}},\"shapedefaults\":{\"line\":{\"color\":\"#2a3f5f\"}},\"ternary\":{\"aaxis\":{\"gridcolor\":\"white\",\"linecolor\":\"white\",\"ticks\":\"\"},\"baxis\":{\"gridcolor\":\"white\",\"linecolor\":\"white\",\"ticks\":\"\"},\"bgcolor\":\"#E5ECF6\",\"caxis\":{\"gridcolor\":\"white\",\"linecolor\":\"white\",\"ticks\":\"\"}},\"title\":{\"x\":0.05},\"xaxis\":{\"automargin\":true,\"gridcolor\":\"white\",\"linecolor\":\"white\",\"ticks\":\"\",\"title\":{\"standoff\":15},\"zerolinecolor\":\"white\",\"zerolinewidth\":2},\"yaxis\":{\"automargin\":true,\"gridcolor\":\"white\",\"linecolor\":\"white\",\"ticks\":\"\",\"title\":{\"standoff\":15},\"zerolinecolor\":\"white\",\"zerolinewidth\":2}}}},                        {\"responsive\": true}                    ).then(function(){\n",
              "                            \n",
              "var gd = document.getElementById('156e13bd-9ecf-41dd-a0b8-5eeca902c982');\n",
              "var x = new MutationObserver(function (mutations, observer) {{\n",
              "        var display = window.getComputedStyle(gd).display;\n",
              "        if (!display || display === 'none') {{\n",
              "            console.log([gd, 'removed!']);\n",
              "            Plotly.purge(gd);\n",
              "            observer.disconnect();\n",
              "        }}\n",
              "}});\n",
              "\n",
              "// Listen for the removal of the full notebook cells\n",
              "var notebookContainer = gd.closest('#notebook-container');\n",
              "if (notebookContainer) {{\n",
              "    x.observe(notebookContainer, {childList: true});\n",
              "}}\n",
              "\n",
              "// Listen for the clearing of the current output cell\n",
              "var outputEl = gd.closest('.output');\n",
              "if (outputEl) {{\n",
              "    x.observe(outputEl, {childList: true});\n",
              "}}\n",
              "\n",
              "                        })                };                            </script>        </div>\n",
              "</body>\n",
              "</html>"
            ]
          },
          "metadata": {}
        }
      ]
    }
  ]
}