{
  "nbformat": 4,
  "nbformat_minor": 0,
  "metadata": {
    "colab": {
      "provenance": [],
      "collapsed_sections": [],
      "authorship_tag": "ABX9TyOOSRF9yqD8ss8OTEVcHRIi",
      "include_colab_link": true
    },
    "kernelspec": {
      "name": "python3",
      "display_name": "Python 3"
    },
    "language_info": {
      "name": "python"
    }
  },
  "cells": [
    {
      "cell_type": "markdown",
      "metadata": {
        "id": "view-in-github",
        "colab_type": "text"
      },
      "source": [
        "<a href=\"https://colab.research.google.com/github/Ellisetr/Intelligent-Systems-and-Technologies/blob/main/%D0%98%D0%A1%D0%A2_1_2(%D0%B4%D0%B0%D0%BD%D0%BD%D1%8B%D0%B5_%D0%B8%D0%B7_%D0%B8%D0%BD%D1%82%D0%B5%D1%80%D0%BD%D0%B5%D1%82%D0%B0).ipynb\" target=\"_parent\"><img src=\"https://colab.research.google.com/assets/colab-badge.svg\" alt=\"Open In Colab\"/></a>"
      ]
    },
    {
      "cell_type": "markdown",
      "source": [
        "# Лабораторная 1-2\n",
        "1. Применить для тестовых вариантов и вариантов из репозиториев различные алгоритмы поиска ассоциативных правил при одинаковых начальных\n",
        "условиях (при одинаковых пороговых значениях для поддержки и достоверности) и сравнить полученные результаты. Для тестовых вариантов выполнить\n",
        "ручные расчеты (например, с применением MS Excel) и расчеты с применением\n",
        "программных библиотек на языке Python. Для вариантов из репозиториев выполнить расчеты с применением программных библиотек на языке Python.\n",
        "В качестве алгоритмов поиска ассоциативных правил использовать алгоритмы:\n",
        "\n",
        "*   Apriori;\n",
        "*   Efficient Apriori;\n",
        "*   FPGrowth.\n",
        "\n",
        "2. Сформировать базы ассоциативных правил с уровнем минимальной достоверности 60% и 80%. Вычислить для ассоциативных правил поддержку, достоверность, значимость.\n",
        "3. Оценить время формирования искомых ассоциативных правил с применением различных алгоритмов и построить диаграммы, позволяющие выполнить сравнительный анализ.\n",
        "4. Выполнить визуализацию ассоциативных правил."
      ],
      "metadata": {
        "id": "ZrGekYLi0w-E"
      }
    },
    {
      "cell_type": "markdown",
      "source": [
        "Установка и импорт библиотек"
      ],
      "metadata": {
        "id": "KQQukO240zQL"
      }
    },
    {
      "cell_type": "code",
      "execution_count": null,
      "metadata": {
        "colab": {
          "base_uri": "https://localhost:8080/"
        },
        "id": "QEwXHu5mzesa",
        "outputId": "3979d3bb-bc6e-42c5-b9eb-b74fe6138cae"
      },
      "outputs": [
        {
          "output_type": "stream",
          "name": "stdout",
          "text": [
            "Looking in indexes: https://test.pypi.org/simple/, https://us-python.pkg.dev/colab-wheels/public/simple/\n",
            "Collecting PyARMViz\n",
            "  Downloading https://test-files.pythonhosted.org/packages/ab/15/879fc7ca0904e5080c9ca7fdc239c5304c1ef03fe5c9809128ec9bf6177d/PyARMViz-0.1.3-py3-none-any.whl (12.9 MB)\n",
            "\u001b[K     |████████████████████████████████| 12.9 MB 7.5 MB/s \n",
            "\u001b[?25hRequirement already satisfied: plotly in /usr/local/lib/python3.7/dist-packages (from PyARMViz) (5.5.0)\n",
            "Requirement already satisfied: numpy in /usr/local/lib/python3.7/dist-packages (from PyARMViz) (1.21.6)\n",
            "Requirement already satisfied: networkx in /usr/local/lib/python3.7/dist-packages (from PyARMViz) (2.6.3)\n",
            "Requirement already satisfied: tenacity>=6.2.0 in /usr/local/lib/python3.7/dist-packages (from plotly->PyARMViz) (8.1.0)\n",
            "Requirement already satisfied: six in /usr/local/lib/python3.7/dist-packages (from plotly->PyARMViz) (1.15.0)\n",
            "Installing collected packages: PyARMViz\n",
            "Successfully installed PyARMViz-0.1.3\n",
            "Looking in indexes: https://pypi.org/simple, https://us-python.pkg.dev/colab-wheels/public/simple/\n",
            "Collecting apriori_python\n",
            "  Downloading apriori_python-1.0.4-py3-none-any.whl (5.0 kB)\n",
            "Installing collected packages: apriori-python\n",
            "Successfully installed apriori-python-1.0.4\n",
            "Looking in indexes: https://pypi.org/simple, https://us-python.pkg.dev/colab-wheels/public/simple/\n",
            "Collecting efficient-apriori\n",
            "  Downloading efficient_apriori-2.0.1-py3-none-any.whl (14 kB)\n",
            "Installing collected packages: efficient-apriori\n",
            "Successfully installed efficient-apriori-2.0.1\n",
            "Looking in indexes: https://pypi.org/simple, https://us-python.pkg.dev/colab-wheels/public/simple/\n",
            "Collecting fpgrowth_py\n",
            "  Downloading fpgrowth_py-1.0.0-py3-none-any.whl (5.6 kB)\n",
            "Installing collected packages: fpgrowth-py\n",
            "Successfully installed fpgrowth-py-1.0.0\n"
          ]
        }
      ],
      "source": [
        "%pip install --index-url https://test.pypi.org/simple/ PyARMViz\n",
        "%pip install apriori_python\n",
        "%pip install efficient-apriori\n",
        "%pip install fpgrowth_py\n",
        "\n",
        "import PyARMViz\n",
        "import pandas as pd\n",
        "import numpy as np\n",
        "from apriori_python import apriori\n",
        "from efficient_apriori import apriori as ef_apriori\n",
        "from fpgrowth_py import fpgrowth\n",
        "import time\n",
        "import matplotlib.pyplot as plt"
      ]
    },
    {
      "cell_type": "markdown",
      "source": [
        "Открытие и получение df"
      ],
      "metadata": {
        "id": "GCpoLgnA037i"
      }
    },
    {
      "cell_type": "code",
      "source": [
        "dataset = pd.read_excel('https://archive.ics.uci.edu/ml/machine-learning-databases/00352/Online%20Retail.xlsx', usecols=['InvoiceNo', 'Description'])\n",
        "dataset['Description'] = dataset['Description'].astype(str)\n",
        "dataset"
      ],
      "metadata": {
        "colab": {
          "base_uri": "https://localhost:8080/",
          "height": 424
        },
        "id": "CZBSlBvUzlbF",
        "outputId": "c3cf5c53-367e-47df-a72d-ee6c8f4bd8ac"
      },
      "execution_count": null,
      "outputs": [
        {
          "output_type": "execute_result",
          "data": {
            "text/plain": [
              "       InvoiceNo                          Description\n",
              "0         536365   WHITE HANGING HEART T-LIGHT HOLDER\n",
              "1         536365                  WHITE METAL LANTERN\n",
              "2         536365       CREAM CUPID HEARTS COAT HANGER\n",
              "3         536365  KNITTED UNION FLAG HOT WATER BOTTLE\n",
              "4         536365       RED WOOLLY HOTTIE WHITE HEART.\n",
              "...          ...                                  ...\n",
              "541904    581587          PACK OF 20 SPACEBOY NAPKINS\n",
              "541905    581587         CHILDREN'S APRON DOLLY GIRL \n",
              "541906    581587        CHILDRENS CUTLERY DOLLY GIRL \n",
              "541907    581587      CHILDRENS CUTLERY CIRCUS PARADE\n",
              "541908    581587        BAKING SET 9 PIECE RETROSPOT \n",
              "\n",
              "[541909 rows x 2 columns]"
            ],
            "text/html": [
              "\n",
              "  <div id=\"df-20a866ec-1e39-4fab-8563-cfdb64f640d3\">\n",
              "    <div class=\"colab-df-container\">\n",
              "      <div>\n",
              "<style scoped>\n",
              "    .dataframe tbody tr th:only-of-type {\n",
              "        vertical-align: middle;\n",
              "    }\n",
              "\n",
              "    .dataframe tbody tr th {\n",
              "        vertical-align: top;\n",
              "    }\n",
              "\n",
              "    .dataframe thead th {\n",
              "        text-align: right;\n",
              "    }\n",
              "</style>\n",
              "<table border=\"1\" class=\"dataframe\">\n",
              "  <thead>\n",
              "    <tr style=\"text-align: right;\">\n",
              "      <th></th>\n",
              "      <th>InvoiceNo</th>\n",
              "      <th>Description</th>\n",
              "    </tr>\n",
              "  </thead>\n",
              "  <tbody>\n",
              "    <tr>\n",
              "      <th>0</th>\n",
              "      <td>536365</td>\n",
              "      <td>WHITE HANGING HEART T-LIGHT HOLDER</td>\n",
              "    </tr>\n",
              "    <tr>\n",
              "      <th>1</th>\n",
              "      <td>536365</td>\n",
              "      <td>WHITE METAL LANTERN</td>\n",
              "    </tr>\n",
              "    <tr>\n",
              "      <th>2</th>\n",
              "      <td>536365</td>\n",
              "      <td>CREAM CUPID HEARTS COAT HANGER</td>\n",
              "    </tr>\n",
              "    <tr>\n",
              "      <th>3</th>\n",
              "      <td>536365</td>\n",
              "      <td>KNITTED UNION FLAG HOT WATER BOTTLE</td>\n",
              "    </tr>\n",
              "    <tr>\n",
              "      <th>4</th>\n",
              "      <td>536365</td>\n",
              "      <td>RED WOOLLY HOTTIE WHITE HEART.</td>\n",
              "    </tr>\n",
              "    <tr>\n",
              "      <th>...</th>\n",
              "      <td>...</td>\n",
              "      <td>...</td>\n",
              "    </tr>\n",
              "    <tr>\n",
              "      <th>541904</th>\n",
              "      <td>581587</td>\n",
              "      <td>PACK OF 20 SPACEBOY NAPKINS</td>\n",
              "    </tr>\n",
              "    <tr>\n",
              "      <th>541905</th>\n",
              "      <td>581587</td>\n",
              "      <td>CHILDREN'S APRON DOLLY GIRL</td>\n",
              "    </tr>\n",
              "    <tr>\n",
              "      <th>541906</th>\n",
              "      <td>581587</td>\n",
              "      <td>CHILDRENS CUTLERY DOLLY GIRL</td>\n",
              "    </tr>\n",
              "    <tr>\n",
              "      <th>541907</th>\n",
              "      <td>581587</td>\n",
              "      <td>CHILDRENS CUTLERY CIRCUS PARADE</td>\n",
              "    </tr>\n",
              "    <tr>\n",
              "      <th>541908</th>\n",
              "      <td>581587</td>\n",
              "      <td>BAKING SET 9 PIECE RETROSPOT</td>\n",
              "    </tr>\n",
              "  </tbody>\n",
              "</table>\n",
              "<p>541909 rows × 2 columns</p>\n",
              "</div>\n",
              "      <button class=\"colab-df-convert\" onclick=\"convertToInteractive('df-20a866ec-1e39-4fab-8563-cfdb64f640d3')\"\n",
              "              title=\"Convert this dataframe to an interactive table.\"\n",
              "              style=\"display:none;\">\n",
              "        \n",
              "  <svg xmlns=\"http://www.w3.org/2000/svg\" height=\"24px\"viewBox=\"0 0 24 24\"\n",
              "       width=\"24px\">\n",
              "    <path d=\"M0 0h24v24H0V0z\" fill=\"none\"/>\n",
              "    <path d=\"M18.56 5.44l.94 2.06.94-2.06 2.06-.94-2.06-.94-.94-2.06-.94 2.06-2.06.94zm-11 1L8.5 8.5l.94-2.06 2.06-.94-2.06-.94L8.5 2.5l-.94 2.06-2.06.94zm10 10l.94 2.06.94-2.06 2.06-.94-2.06-.94-.94-2.06-.94 2.06-2.06.94z\"/><path d=\"M17.41 7.96l-1.37-1.37c-.4-.4-.92-.59-1.43-.59-.52 0-1.04.2-1.43.59L10.3 9.45l-7.72 7.72c-.78.78-.78 2.05 0 2.83L4 21.41c.39.39.9.59 1.41.59.51 0 1.02-.2 1.41-.59l7.78-7.78 2.81-2.81c.8-.78.8-2.07 0-2.86zM5.41 20L4 18.59l7.72-7.72 1.47 1.35L5.41 20z\"/>\n",
              "  </svg>\n",
              "      </button>\n",
              "      \n",
              "  <style>\n",
              "    .colab-df-container {\n",
              "      display:flex;\n",
              "      flex-wrap:wrap;\n",
              "      gap: 12px;\n",
              "    }\n",
              "\n",
              "    .colab-df-convert {\n",
              "      background-color: #E8F0FE;\n",
              "      border: none;\n",
              "      border-radius: 50%;\n",
              "      cursor: pointer;\n",
              "      display: none;\n",
              "      fill: #1967D2;\n",
              "      height: 32px;\n",
              "      padding: 0 0 0 0;\n",
              "      width: 32px;\n",
              "    }\n",
              "\n",
              "    .colab-df-convert:hover {\n",
              "      background-color: #E2EBFA;\n",
              "      box-shadow: 0px 1px 2px rgba(60, 64, 67, 0.3), 0px 1px 3px 1px rgba(60, 64, 67, 0.15);\n",
              "      fill: #174EA6;\n",
              "    }\n",
              "\n",
              "    [theme=dark] .colab-df-convert {\n",
              "      background-color: #3B4455;\n",
              "      fill: #D2E3FC;\n",
              "    }\n",
              "\n",
              "    [theme=dark] .colab-df-convert:hover {\n",
              "      background-color: #434B5C;\n",
              "      box-shadow: 0px 1px 3px 1px rgba(0, 0, 0, 0.15);\n",
              "      filter: drop-shadow(0px 1px 2px rgba(0, 0, 0, 0.3));\n",
              "      fill: #FFFFFF;\n",
              "    }\n",
              "  </style>\n",
              "\n",
              "      <script>\n",
              "        const buttonEl =\n",
              "          document.querySelector('#df-20a866ec-1e39-4fab-8563-cfdb64f640d3 button.colab-df-convert');\n",
              "        buttonEl.style.display =\n",
              "          google.colab.kernel.accessAllowed ? 'block' : 'none';\n",
              "\n",
              "        async function convertToInteractive(key) {\n",
              "          const element = document.querySelector('#df-20a866ec-1e39-4fab-8563-cfdb64f640d3');\n",
              "          const dataTable =\n",
              "            await google.colab.kernel.invokeFunction('convertToInteractive',\n",
              "                                                     [key], {});\n",
              "          if (!dataTable) return;\n",
              "\n",
              "          const docLinkHtml = 'Like what you see? Visit the ' +\n",
              "            '<a target=\"_blank\" href=https://colab.research.google.com/notebooks/data_table.ipynb>data table notebook</a>'\n",
              "            + ' to learn more about interactive tables.';\n",
              "          element.innerHTML = '';\n",
              "          dataTable['output_type'] = 'display_data';\n",
              "          await google.colab.output.renderOutput(dataTable, element);\n",
              "          const docLink = document.createElement('div');\n",
              "          docLink.innerHTML = docLinkHtml;\n",
              "          element.appendChild(docLink);\n",
              "        }\n",
              "      </script>\n",
              "    </div>\n",
              "  </div>\n",
              "  "
            ]
          },
          "metadata": {},
          "execution_count": 2
        }
      ]
    },
    {
      "cell_type": "markdown",
      "source": [
        "Генерация списка транзакций"
      ],
      "metadata": {
        "id": "1vUFFchd0-0R"
      }
    },
    {
      "cell_type": "code",
      "source": [
        "transactions_b = []\n",
        "current_transaction_num = None\n",
        "current_positions = []\n",
        "for i in range(dataset.shape[0]):\n",
        "    transaction = dataset.loc[i]\n",
        "    if transaction[0] != current_transaction_num:\n",
        "        transactions_b.append(current_positions)\n",
        "        current_transaction_num = transaction[0]\n",
        "        current_positions = [transaction[1]]\n",
        "    else:\n",
        "        current_positions.append(transaction[1])\n",
        "transactions_b.pop(0)\n",
        "for i in range(10):\n",
        "    print(transactions_b[i])"
      ],
      "metadata": {
        "colab": {
          "base_uri": "https://localhost:8080/"
        },
        "id": "VRRop4Dfzv4-",
        "outputId": "723861aa-1f93-47e7-f9f4-3d7634dcd2fe"
      },
      "execution_count": null,
      "outputs": [
        {
          "output_type": "stream",
          "name": "stdout",
          "text": [
            "['WHITE HANGING HEART T-LIGHT HOLDER', 'WHITE METAL LANTERN', 'CREAM CUPID HEARTS COAT HANGER', 'KNITTED UNION FLAG HOT WATER BOTTLE', 'RED WOOLLY HOTTIE WHITE HEART.', 'SET 7 BABUSHKA NESTING BOXES', 'GLASS STAR FROSTED T-LIGHT HOLDER']\n",
            "['HAND WARMER UNION JACK', 'HAND WARMER RED POLKA DOT']\n",
            "['ASSORTED COLOUR BIRD ORNAMENT', \"POPPY'S PLAYHOUSE BEDROOM \", \"POPPY'S PLAYHOUSE KITCHEN\", 'FELTCRAFT PRINCESS CHARLOTTE DOLL', 'IVORY KNITTED MUG COSY ', 'BOX OF 6 ASSORTED COLOUR TEASPOONS', 'BOX OF VINTAGE JIGSAW BLOCKS ', 'BOX OF VINTAGE ALPHABET BLOCKS', 'HOME BUILDING BLOCK WORD', 'LOVE BUILDING BLOCK WORD', 'RECIPE BOX WITH METAL HEART', 'DOORMAT NEW ENGLAND']\n",
            "['JAM MAKING SET WITH JARS', 'RED COAT RACK PARIS FASHION', 'YELLOW COAT RACK PARIS FASHION', 'BLUE COAT RACK PARIS FASHION']\n",
            "['BATH BUILDING BLOCK WORD']\n",
            "['ALARM CLOCK BAKELIKE PINK', 'ALARM CLOCK BAKELIKE RED ', 'ALARM CLOCK BAKELIKE GREEN', 'PANDA AND BUNNIES STICKER SHEET', 'STARS GIFT TAPE ', 'INFLATABLE POLITICAL GLOBE ', 'VINTAGE HEADS AND TAILS CARD GAME ', 'SET/2 RED RETROSPOT TEA TOWELS ', 'ROUND SNACK BOXES SET OF4 WOODLAND ', 'SPACEBOY LUNCH BOX ', 'LUNCH BOX I LOVE LONDON', 'CIRCUS PARADE LUNCH BOX ', 'CHARLOTTE BAG DOLLY GIRL DESIGN', 'RED TOADSTOOL LED NIGHT LIGHT', ' SET 2 TEA TOWELS I LOVE LONDON ', 'VINTAGE SEASIDE JIGSAW PUZZLES', 'MINI JIGSAW CIRCUS PARADE ', 'MINI JIGSAW SPACEBOY', 'MINI PAINT SET VINTAGE ', 'POSTAGE']\n",
            "[\"PAPER CHAIN KIT 50'S CHRISTMAS \"]\n",
            "['HAND WARMER RED POLKA DOT', 'HAND WARMER UNION JACK']\n",
            "['WHITE HANGING HEART T-LIGHT HOLDER', 'WHITE METAL LANTERN', 'CREAM CUPID HEARTS COAT HANGER', 'EDWARDIAN PARASOL RED', 'RETRO COFFEE MUGS ASSORTED', 'SAVE THE PLANET MUG', 'VINTAGE BILLBOARD DRINK ME MUG', 'VINTAGE BILLBOARD LOVE/HATE MUG', 'WOOD 2 DRAWER CABINET WHITE FINISH', 'WOOD S/3 CABINET ANT WHITE FINISH', 'WOODEN PICTURE FRAME WHITE FINISH', 'WOODEN FRAME ANTIQUE WHITE ', 'KNITTED UNION FLAG HOT WATER BOTTLE', 'RED WOOLLY HOTTIE WHITE HEART.', 'SET 7 BABUSHKA NESTING BOXES', 'GLASS STAR FROSTED T-LIGHT HOLDER']\n",
            "['VICTORIAN SEWING BOX LARGE']\n"
          ]
        }
      ]
    },
    {
      "cell_type": "markdown",
      "source": [
        "Выполнение алгоритмов: Apriori, Efficient Apriori и FPGrowth с достоверностью 60%"
      ],
      "metadata": {
        "id": "jifKNSZT1Ags"
      }
    },
    {
      "cell_type": "code",
      "source": [
        "start = time.time()\n",
        "freq_item_set, rules = apriori(transactions_b, minSup = 0.02, minConf = 0.6)\n",
        "for r in rules:\n",
        "    print(r)\n",
        "end = time.time()\n",
        "time_apriori_60 = end - start\n",
        "print(f'Time is {time_apriori_60}')"
      ],
      "metadata": {
        "colab": {
          "base_uri": "https://localhost:8080/"
        },
        "id": "_Dg3QVCgzxYG",
        "outputId": "f35c38a4-6d88-4b5b-e439-31c9f444f28b"
      },
      "execution_count": null,
      "outputs": [
        {
          "output_type": "stream",
          "name": "stdout",
          "text": [
            "[{'GREEN REGENCY TEACUP AND SAUCER'}, {'PINK REGENCY TEACUP AND SAUCER'}, 0.609271523178808]\n",
            "[{'JUMBO STORAGE BAG SUKI'}, {'JUMBO BAG RED RETROSPOT'}, 0.6103247293921732]\n",
            "[{'JUMBO BAG WOODLAND ANIMALS'}, {'JUMBO BAG RED RETROSPOT'}, 0.6169724770642202]\n",
            "[{'DOLLY GIRL LUNCH BOX'}, {'SPACEBOY LUNCH BOX '}, 0.6255813953488372]\n",
            "[{'JUMBO  BAG BAROQUE BLACK WHITE'}, {'JUMBO BAG RED RETROSPOT'}, 0.6261879619852164]\n",
            "[{'ALARM CLOCK BAKELIKE GREEN'}, {'ALARM CLOCK BAKELIKE RED '}, 0.645]\n",
            "[{'JUMBO BAG STRAWBERRY'}, {'JUMBO BAG RED RETROSPOT'}, 0.6503579952267303]\n",
            "[{'PAPER CHAIN KIT VINTAGE CHRISTMAS'}, {\"PAPER CHAIN KIT 50'S CHRISTMAS \"}, 0.6670673076923077]\n",
            "[{'JUMBO BAG PINK POLKADOT'}, {'JUMBO BAG RED RETROSPOT'}, 0.6766856214459789]\n",
            "[{'PINK REGENCY TEACUP AND SAUCER'}, {'GREEN REGENCY TEACUP AND SAUCER', 'ROSES REGENCY TEACUP AND SAUCER '}, 0.6853932584269663]\n",
            "[{'CHARLOTTE BAG PINK POLKADOT'}, {'RED RETROSPOT CHARLOTTE BAG'}, 0.6921052631578948]\n",
            "[{'ROSES REGENCY TEACUP AND SAUCER '}, {'GREEN REGENCY TEACUP AND SAUCER'}, 0.7]\n",
            "[{'GREEN REGENCY TEACUP AND SAUCER', 'ROSES REGENCY TEACUP AND SAUCER '}, {'PINK REGENCY TEACUP AND SAUCER'}, 0.7002551020408163]\n",
            "[{'GARDENERS KNEELING PAD CUP OF TEA '}, {'GARDENERS KNEELING PAD KEEP CALM '}, 0.7176470588235294]\n",
            "[{'GREEN REGENCY TEACUP AND SAUCER'}, {'ROSES REGENCY TEACUP AND SAUCER '}, 0.7417218543046358]\n",
            "[{'PINK REGENCY TEACUP AND SAUCER'}, {'ROSES REGENCY TEACUP AND SAUCER '}, 0.766541822721598]\n",
            "[{'PINK REGENCY TEACUP AND SAUCER'}, {'GREEN REGENCY TEACUP AND SAUCER'}, 0.8039950062421972]\n",
            "[{'GREEN REGENCY TEACUP AND SAUCER', 'PINK REGENCY TEACUP AND SAUCER'}, {'ROSES REGENCY TEACUP AND SAUCER '}, 0.8524844720496895]\n",
            "[{'PINK REGENCY TEACUP AND SAUCER', 'ROSES REGENCY TEACUP AND SAUCER '}, {'GREEN REGENCY TEACUP AND SAUCER'}, 0.8941368078175895]\n",
            "Time is 714.5194621086121\n"
          ]
        }
      ]
    },
    {
      "cell_type": "code",
      "source": [
        "start = time.time()\n",
        "freq_item_set, rules = ef_apriori(transactions_b, min_support = 0.02, min_confidence = 0.6)\n",
        "PyARMViz.generate_rule_graph_plotly(rules)\n",
        "end = time.time()\n",
        "time_ef_apr_60 = end - start\n",
        "print(f'Time is {time_ef_apr_60}')"
      ],
      "metadata": {
        "colab": {
          "base_uri": "https://localhost:8080/",
          "height": 559
        },
        "id": "S0JZ9UwdzyfG",
        "outputId": "e911ef5c-c54d-44cf-a15e-4b8df5ba4ca1"
      },
      "execution_count": null,
      "outputs": [
        {
          "output_type": "display_data",
          "data": {
            "text/html": [
              "<html>\n",
              "<head><meta charset=\"utf-8\" /></head>\n",
              "<body>\n",
              "    <div>            <script src=\"https://cdnjs.cloudflare.com/ajax/libs/mathjax/2.7.5/MathJax.js?config=TeX-AMS-MML_SVG\"></script><script type=\"text/javascript\">if (window.MathJax) {MathJax.Hub.Config({SVG: {font: \"STIX-Web\"}});}</script>                <script type=\"text/javascript\">window.PlotlyConfig = {MathJaxConfig: 'local'};</script>\n",
              "        <script src=\"https://cdn.plot.ly/plotly-2.8.3.min.js\"></script>                <div id=\"488d918c-2850-4e3e-a38f-e7527e76d9da\" class=\"plotly-graph-div\" style=\"height:525px; width:100%;\"></div>            <script type=\"text/javascript\">                                    window.PLOTLYENV=window.PLOTLYENV || {};                                    if (document.getElementById(\"488d918c-2850-4e3e-a38f-e7527e76d9da\")) {                    Plotly.newPlot(                        \"488d918c-2850-4e3e-a38f-e7527e76d9da\",                        [{\"hoverinfo\":\"none\",\"line\":{\"color\":\"#888\",\"width\":0.5},\"mode\":\"lines\",\"x\":[-0.962210396546191,-1.0,null,-0.867320546867009,-0.962210396546191,null,0.17237826811286783,0.17835549204468776,null,0.16293647307040401,0.17237826811286783,null,-0.3954994709511758,-0.43249277896270844,null,-0.39022468238016206,-0.3954994709511758,null,0.4870501983125907,0.5391747752243944,null,0.44306836726994525,0.4870501983125907,null,-0.5263663685493583,-0.48057638718754186,null,-0.46316399107861894,-0.5263663685493583,null,-0.46316399107861894,-0.4353121776846083,null,-0.46316399107861894,-0.4794307745528205,null,-0.46316399107861894,-0.48584265520609404,null,-0.46316399107861894,-0.4386355085931259,null,-0.48057638718754186,-0.505840142828068,null,-0.48057638718754186,-0.41567238805043955,null,-0.48057638718754186,-0.5243979765998185,null,-0.48057638718754186,-0.48584265520609404,null,-0.505840142828068,-0.46316399107861894,null,-0.4463367904071763,-0.48057638718754186,null,-0.478444780045012,-0.4463367904071763,null,-0.478444780045012,-0.4794307745528205,null,-0.478444780045012,-0.5243979765998185,null,-0.41567238805043955,-0.478444780045012,null,0.8544691220187091,0.9218344420273981,null,0.8642912070295146,0.8544691220187091,null,0.9146572008783418,0.9218344420273981,null,0.8392891392467806,0.9146572008783418,null,0.9092503533177674,0.9218344420273981,null,0.8412327782601184,0.9092503533177674,null,0.8683145848262168,0.9218344420273981,null,0.8340824792804729,0.8683145848262168,null,0.9037175734052602,0.9218344420273981,null,0.8001555764113073,0.9037175734052602,null,-0.5774465699866249,-0.6331629411002833,null,-0.5958807031599407,-0.5774465699866249,null,-0.4353121776846083,-0.478444780045012,null,-0.4794307745528205,-0.48057638718754186,null,-0.5243979765998185,-0.46316399107861894,null,-0.48584265520609404,-0.478444780045012,null,-0.4386355085931259,-0.48057638718754186,null,-0.4386355085931259,-0.478444780045012,null],\"y\":[0.3458413191060824,0.33142239971323556,null,0.3457708910127113,0.3458413191060824,null,0.8094960741528606,0.8666379167179884,null,0.7153467380631172,0.8094960741528606,null,0.7342305306658483,0.8181193444729358,null,0.7012729922117603,0.7342305306658483,null,-0.8191982885838001,-0.9013835450443258,null,-0.7498622973547805,-0.8191982885838001,null,-0.2690068790597353,-0.3077980758777915,null,-0.31205906386024435,-0.2690068790597353,null,-0.31205906386024435,-0.3686305011370772,null,-0.31205906386024435,-0.36938831646161574,null,-0.31205906386024435,-0.2629625022564224,null,-0.31205906386024435,-0.29687716700383365,null,-0.3077980758777915,-0.3560991256285669,null,-0.3077980758777915,-0.3349704047541621,null,-0.3077980758777915,-0.3166252411162336,null,-0.3077980758777915,-0.2629625022564224,null,-0.3560991256285669,-0.31205906386024435,null,-0.25366851788396494,-0.3077980758777915,null,-0.32125637588274303,-0.25366851788396494,null,-0.32125637588274303,-0.36938831646161574,null,-0.32125637588274303,-0.3166252411162336,null,-0.3349704047541621,-0.32125637588274303,null,0.3003400431324609,0.29150309614003217,null,0.3509714261455264,0.3003400431324609,null,0.33223023712266503,0.29150309614003217,null,0.3517411959320834,0.33223023712266503,null,0.2564074860671465,0.29150309614003217,null,0.242138876567602,0.2564074860671465,null,0.27467061018778505,0.29150309614003217,null,0.2250978204970503,0.27467061018778505,null,0.23188120128664258,0.29150309614003217,null,0.191699281329824,0.23188120128664258,null,-0.8254402686402496,-0.8469628334307533,null,-0.804630076549058,-0.8254402686402496,null,-0.3686305011370772,-0.32125637588274303,null,-0.36938831646161574,-0.3077980758777915,null,-0.3166252411162336,-0.31205906386024435,null,-0.2629625022564224,-0.32125637588274303,null,-0.29687716700383365,-0.3077980758777915,null,-0.29687716700383365,-0.32125637588274303,null],\"type\":\"scatter\"},{\"hoverinfo\":\"text\",\"marker\":{\"color\":[],\"colorbar\":{\"thickness\":15,\"title\":{\"side\":\"right\",\"text\":\"Node Connections\"},\"xanchor\":\"left\"},\"colorscale\":[[0.0,\"rgb(255,255,217)\"],[0.125,\"rgb(237,248,177)\"],[0.25,\"rgb(199,233,180)\"],[0.375,\"rgb(127,205,187)\"],[0.5,\"rgb(65,182,196)\"],[0.625,\"rgb(29,145,192)\"],[0.75,\"rgb(34,94,168)\"],[0.875,\"rgb(37,52,148)\"],[1.0,\"rgb(8,29,88)\"]],\"line\":{\"width\":2},\"reversescale\":true,\"showscale\":true,\"size\":10},\"mode\":\"markers\",\"text\":[\"0\",\"ALARM CLOCK BAKELIKE GREEN\",\"ALARM CLOCK BAKELIKE RED \",\"1\",\"CHARLOTTE BAG PINK POLKADOT\",\"RED RETROSPOT CHARLOTTE BAG\",\"2\",\"DOLLY GIRL LUNCH BOX\",\"SPACEBOY LUNCH BOX \",\"3\",\"GARDENERS KNEELING PAD CUP OF TEA \",\"GARDENERS KNEELING PAD KEEP CALM \",\"4\",\"PINK REGENCY TEACUP AND SAUCER\",\"GREEN REGENCY TEACUP AND SAUCER\",\"5\",\"6\",\"ROSES REGENCY TEACUP AND SAUCER \",\"7\",\"8\",\"JUMBO  BAG BAROQUE BLACK WHITE\",\"JUMBO BAG RED RETROSPOT\",\"9\",\"JUMBO BAG PINK POLKADOT\",\"10\",\"JUMBO BAG STRAWBERRY\",\"11\",\"JUMBO BAG WOODLAND ANIMALS\",\"12\",\"JUMBO STORAGE BAG SUKI\",\"13\",\"PAPER CHAIN KIT VINTAGE CHRISTMAS\",\"PAPER CHAIN KIT 50'S CHRISTMAS \",\"14\",\"15\",\"16\",\"17\",\"18\"],\"x\":[-0.962210396546191,-0.867320546867009,-1.0,0.17237826811286783,0.16293647307040401,0.17835549204468776,-0.3954994709511758,-0.39022468238016206,-0.43249277896270844,0.4870501983125907,0.44306836726994525,0.5391747752243944,-0.5263663685493583,-0.46316399107861894,-0.48057638718754186,-0.505840142828068,-0.4463367904071763,-0.478444780045012,-0.41567238805043955,0.8544691220187091,0.8642912070295146,0.9218344420273981,0.9146572008783418,0.8392891392467806,0.9092503533177674,0.8412327782601184,0.8683145848262168,0.8340824792804729,0.9037175734052602,0.8001555764113073,-0.5774465699866249,-0.5958807031599407,-0.6331629411002833,-0.4353121776846083,-0.4794307745528205,-0.5243979765998185,-0.48584265520609404,-0.4386355085931259],\"y\":[0.3458413191060824,0.3457708910127113,0.33142239971323556,0.8094960741528606,0.7153467380631172,0.8666379167179884,0.7342305306658483,0.7012729922117603,0.8181193444729358,-0.8191982885838001,-0.7498622973547805,-0.9013835450443258,-0.2690068790597353,-0.31205906386024435,-0.3077980758777915,-0.3560991256285669,-0.25366851788396494,-0.32125637588274303,-0.3349704047541621,0.3003400431324609,0.3509714261455264,0.29150309614003217,0.33223023712266503,0.3517411959320834,0.2564074860671465,0.242138876567602,0.27467061018778505,0.2250978204970503,0.23188120128664258,0.191699281329824,-0.8254402686402496,-0.804630076549058,-0.8469628334307533,-0.3686305011370772,-0.36938831646161574,-0.3166252411162336,-0.2629625022564224,-0.29687716700383365],\"type\":\"scatter\"}],                        {\"annotations\":[{\"showarrow\":false,\"text\":\"Python code: <a href='https://plotly.com/ipython-notebooks/network-graphs/'> https://plotly.com/ipython-notebooks/network-graphs/</a>\",\"x\":0.005,\"xref\":\"paper\",\"y\":-0.002,\"yref\":\"paper\"}],\"hovermode\":\"closest\",\"margin\":{\"b\":20,\"l\":5,\"r\":5,\"t\":40},\"showlegend\":false,\"title\":{\"font\":{\"size\":16},\"text\":\"<br>Network graph made with Python\"},\"xaxis\":{\"showgrid\":false,\"showticklabels\":false,\"zeroline\":false},\"yaxis\":{\"showgrid\":false,\"showticklabels\":false,\"zeroline\":false},\"template\":{\"data\":{\"bar\":[{\"error_x\":{\"color\":\"#2a3f5f\"},\"error_y\":{\"color\":\"#2a3f5f\"},\"marker\":{\"line\":{\"color\":\"#E5ECF6\",\"width\":0.5},\"pattern\":{\"fillmode\":\"overlay\",\"size\":10,\"solidity\":0.2}},\"type\":\"bar\"}],\"barpolar\":[{\"marker\":{\"line\":{\"color\":\"#E5ECF6\",\"width\":0.5},\"pattern\":{\"fillmode\":\"overlay\",\"size\":10,\"solidity\":0.2}},\"type\":\"barpolar\"}],\"carpet\":[{\"aaxis\":{\"endlinecolor\":\"#2a3f5f\",\"gridcolor\":\"white\",\"linecolor\":\"white\",\"minorgridcolor\":\"white\",\"startlinecolor\":\"#2a3f5f\"},\"baxis\":{\"endlinecolor\":\"#2a3f5f\",\"gridcolor\":\"white\",\"linecolor\":\"white\",\"minorgridcolor\":\"white\",\"startlinecolor\":\"#2a3f5f\"},\"type\":\"carpet\"}],\"choropleth\":[{\"colorbar\":{\"outlinewidth\":0,\"ticks\":\"\"},\"type\":\"choropleth\"}],\"contour\":[{\"colorbar\":{\"outlinewidth\":0,\"ticks\":\"\"},\"colorscale\":[[0.0,\"#0d0887\"],[0.1111111111111111,\"#46039f\"],[0.2222222222222222,\"#7201a8\"],[0.3333333333333333,\"#9c179e\"],[0.4444444444444444,\"#bd3786\"],[0.5555555555555556,\"#d8576b\"],[0.6666666666666666,\"#ed7953\"],[0.7777777777777778,\"#fb9f3a\"],[0.8888888888888888,\"#fdca26\"],[1.0,\"#f0f921\"]],\"type\":\"contour\"}],\"contourcarpet\":[{\"colorbar\":{\"outlinewidth\":0,\"ticks\":\"\"},\"type\":\"contourcarpet\"}],\"heatmap\":[{\"colorbar\":{\"outlinewidth\":0,\"ticks\":\"\"},\"colorscale\":[[0.0,\"#0d0887\"],[0.1111111111111111,\"#46039f\"],[0.2222222222222222,\"#7201a8\"],[0.3333333333333333,\"#9c179e\"],[0.4444444444444444,\"#bd3786\"],[0.5555555555555556,\"#d8576b\"],[0.6666666666666666,\"#ed7953\"],[0.7777777777777778,\"#fb9f3a\"],[0.8888888888888888,\"#fdca26\"],[1.0,\"#f0f921\"]],\"type\":\"heatmap\"}],\"heatmapgl\":[{\"colorbar\":{\"outlinewidth\":0,\"ticks\":\"\"},\"colorscale\":[[0.0,\"#0d0887\"],[0.1111111111111111,\"#46039f\"],[0.2222222222222222,\"#7201a8\"],[0.3333333333333333,\"#9c179e\"],[0.4444444444444444,\"#bd3786\"],[0.5555555555555556,\"#d8576b\"],[0.6666666666666666,\"#ed7953\"],[0.7777777777777778,\"#fb9f3a\"],[0.8888888888888888,\"#fdca26\"],[1.0,\"#f0f921\"]],\"type\":\"heatmapgl\"}],\"histogram\":[{\"marker\":{\"pattern\":{\"fillmode\":\"overlay\",\"size\":10,\"solidity\":0.2}},\"type\":\"histogram\"}],\"histogram2d\":[{\"colorbar\":{\"outlinewidth\":0,\"ticks\":\"\"},\"colorscale\":[[0.0,\"#0d0887\"],[0.1111111111111111,\"#46039f\"],[0.2222222222222222,\"#7201a8\"],[0.3333333333333333,\"#9c179e\"],[0.4444444444444444,\"#bd3786\"],[0.5555555555555556,\"#d8576b\"],[0.6666666666666666,\"#ed7953\"],[0.7777777777777778,\"#fb9f3a\"],[0.8888888888888888,\"#fdca26\"],[1.0,\"#f0f921\"]],\"type\":\"histogram2d\"}],\"histogram2dcontour\":[{\"colorbar\":{\"outlinewidth\":0,\"ticks\":\"\"},\"colorscale\":[[0.0,\"#0d0887\"],[0.1111111111111111,\"#46039f\"],[0.2222222222222222,\"#7201a8\"],[0.3333333333333333,\"#9c179e\"],[0.4444444444444444,\"#bd3786\"],[0.5555555555555556,\"#d8576b\"],[0.6666666666666666,\"#ed7953\"],[0.7777777777777778,\"#fb9f3a\"],[0.8888888888888888,\"#fdca26\"],[1.0,\"#f0f921\"]],\"type\":\"histogram2dcontour\"}],\"mesh3d\":[{\"colorbar\":{\"outlinewidth\":0,\"ticks\":\"\"},\"type\":\"mesh3d\"}],\"parcoords\":[{\"line\":{\"colorbar\":{\"outlinewidth\":0,\"ticks\":\"\"}},\"type\":\"parcoords\"}],\"pie\":[{\"automargin\":true,\"type\":\"pie\"}],\"scatter\":[{\"marker\":{\"colorbar\":{\"outlinewidth\":0,\"ticks\":\"\"}},\"type\":\"scatter\"}],\"scatter3d\":[{\"line\":{\"colorbar\":{\"outlinewidth\":0,\"ticks\":\"\"}},\"marker\":{\"colorbar\":{\"outlinewidth\":0,\"ticks\":\"\"}},\"type\":\"scatter3d\"}],\"scattercarpet\":[{\"marker\":{\"colorbar\":{\"outlinewidth\":0,\"ticks\":\"\"}},\"type\":\"scattercarpet\"}],\"scattergeo\":[{\"marker\":{\"colorbar\":{\"outlinewidth\":0,\"ticks\":\"\"}},\"type\":\"scattergeo\"}],\"scattergl\":[{\"marker\":{\"colorbar\":{\"outlinewidth\":0,\"ticks\":\"\"}},\"type\":\"scattergl\"}],\"scattermapbox\":[{\"marker\":{\"colorbar\":{\"outlinewidth\":0,\"ticks\":\"\"}},\"type\":\"scattermapbox\"}],\"scatterpolar\":[{\"marker\":{\"colorbar\":{\"outlinewidth\":0,\"ticks\":\"\"}},\"type\":\"scatterpolar\"}],\"scatterpolargl\":[{\"marker\":{\"colorbar\":{\"outlinewidth\":0,\"ticks\":\"\"}},\"type\":\"scatterpolargl\"}],\"scatterternary\":[{\"marker\":{\"colorbar\":{\"outlinewidth\":0,\"ticks\":\"\"}},\"type\":\"scatterternary\"}],\"surface\":[{\"colorbar\":{\"outlinewidth\":0,\"ticks\":\"\"},\"colorscale\":[[0.0,\"#0d0887\"],[0.1111111111111111,\"#46039f\"],[0.2222222222222222,\"#7201a8\"],[0.3333333333333333,\"#9c179e\"],[0.4444444444444444,\"#bd3786\"],[0.5555555555555556,\"#d8576b\"],[0.6666666666666666,\"#ed7953\"],[0.7777777777777778,\"#fb9f3a\"],[0.8888888888888888,\"#fdca26\"],[1.0,\"#f0f921\"]],\"type\":\"surface\"}],\"table\":[{\"cells\":{\"fill\":{\"color\":\"#EBF0F8\"},\"line\":{\"color\":\"white\"}},\"header\":{\"fill\":{\"color\":\"#C8D4E3\"},\"line\":{\"color\":\"white\"}},\"type\":\"table\"}]},\"layout\":{\"annotationdefaults\":{\"arrowcolor\":\"#2a3f5f\",\"arrowhead\":0,\"arrowwidth\":1},\"autotypenumbers\":\"strict\",\"coloraxis\":{\"colorbar\":{\"outlinewidth\":0,\"ticks\":\"\"}},\"colorscale\":{\"diverging\":[[0,\"#8e0152\"],[0.1,\"#c51b7d\"],[0.2,\"#de77ae\"],[0.3,\"#f1b6da\"],[0.4,\"#fde0ef\"],[0.5,\"#f7f7f7\"],[0.6,\"#e6f5d0\"],[0.7,\"#b8e186\"],[0.8,\"#7fbc41\"],[0.9,\"#4d9221\"],[1,\"#276419\"]],\"sequential\":[[0.0,\"#0d0887\"],[0.1111111111111111,\"#46039f\"],[0.2222222222222222,\"#7201a8\"],[0.3333333333333333,\"#9c179e\"],[0.4444444444444444,\"#bd3786\"],[0.5555555555555556,\"#d8576b\"],[0.6666666666666666,\"#ed7953\"],[0.7777777777777778,\"#fb9f3a\"],[0.8888888888888888,\"#fdca26\"],[1.0,\"#f0f921\"]],\"sequentialminus\":[[0.0,\"#0d0887\"],[0.1111111111111111,\"#46039f\"],[0.2222222222222222,\"#7201a8\"],[0.3333333333333333,\"#9c179e\"],[0.4444444444444444,\"#bd3786\"],[0.5555555555555556,\"#d8576b\"],[0.6666666666666666,\"#ed7953\"],[0.7777777777777778,\"#fb9f3a\"],[0.8888888888888888,\"#fdca26\"],[1.0,\"#f0f921\"]]},\"colorway\":[\"#636efa\",\"#EF553B\",\"#00cc96\",\"#ab63fa\",\"#FFA15A\",\"#19d3f3\",\"#FF6692\",\"#B6E880\",\"#FF97FF\",\"#FECB52\"],\"font\":{\"color\":\"#2a3f5f\"},\"geo\":{\"bgcolor\":\"white\",\"lakecolor\":\"white\",\"landcolor\":\"#E5ECF6\",\"showlakes\":true,\"showland\":true,\"subunitcolor\":\"white\"},\"hoverlabel\":{\"align\":\"left\"},\"hovermode\":\"closest\",\"mapbox\":{\"style\":\"light\"},\"paper_bgcolor\":\"white\",\"plot_bgcolor\":\"#E5ECF6\",\"polar\":{\"angularaxis\":{\"gridcolor\":\"white\",\"linecolor\":\"white\",\"ticks\":\"\"},\"bgcolor\":\"#E5ECF6\",\"radialaxis\":{\"gridcolor\":\"white\",\"linecolor\":\"white\",\"ticks\":\"\"}},\"scene\":{\"xaxis\":{\"backgroundcolor\":\"#E5ECF6\",\"gridcolor\":\"white\",\"gridwidth\":2,\"linecolor\":\"white\",\"showbackground\":true,\"ticks\":\"\",\"zerolinecolor\":\"white\"},\"yaxis\":{\"backgroundcolor\":\"#E5ECF6\",\"gridcolor\":\"white\",\"gridwidth\":2,\"linecolor\":\"white\",\"showbackground\":true,\"ticks\":\"\",\"zerolinecolor\":\"white\"},\"zaxis\":{\"backgroundcolor\":\"#E5ECF6\",\"gridcolor\":\"white\",\"gridwidth\":2,\"linecolor\":\"white\",\"showbackground\":true,\"ticks\":\"\",\"zerolinecolor\":\"white\"}},\"shapedefaults\":{\"line\":{\"color\":\"#2a3f5f\"}},\"ternary\":{\"aaxis\":{\"gridcolor\":\"white\",\"linecolor\":\"white\",\"ticks\":\"\"},\"baxis\":{\"gridcolor\":\"white\",\"linecolor\":\"white\",\"ticks\":\"\"},\"bgcolor\":\"#E5ECF6\",\"caxis\":{\"gridcolor\":\"white\",\"linecolor\":\"white\",\"ticks\":\"\"}},\"title\":{\"x\":0.05},\"xaxis\":{\"automargin\":true,\"gridcolor\":\"white\",\"linecolor\":\"white\",\"ticks\":\"\",\"title\":{\"standoff\":15},\"zerolinecolor\":\"white\",\"zerolinewidth\":2},\"yaxis\":{\"automargin\":true,\"gridcolor\":\"white\",\"linecolor\":\"white\",\"ticks\":\"\",\"title\":{\"standoff\":15},\"zerolinecolor\":\"white\",\"zerolinewidth\":2}}}},                        {\"responsive\": true}                    ).then(function(){\n",
              "                            \n",
              "var gd = document.getElementById('488d918c-2850-4e3e-a38f-e7527e76d9da');\n",
              "var x = new MutationObserver(function (mutations, observer) {{\n",
              "        var display = window.getComputedStyle(gd).display;\n",
              "        if (!display || display === 'none') {{\n",
              "            console.log([gd, 'removed!']);\n",
              "            Plotly.purge(gd);\n",
              "            observer.disconnect();\n",
              "        }}\n",
              "}});\n",
              "\n",
              "// Listen for the removal of the full notebook cells\n",
              "var notebookContainer = gd.closest('#notebook-container');\n",
              "if (notebookContainer) {{\n",
              "    x.observe(notebookContainer, {childList: true});\n",
              "}}\n",
              "\n",
              "// Listen for the clearing of the current output cell\n",
              "var outputEl = gd.closest('.output');\n",
              "if (outputEl) {{\n",
              "    x.observe(outputEl, {childList: true});\n",
              "}}\n",
              "\n",
              "                        })                };                            </script>        </div>\n",
              "</body>\n",
              "</html>"
            ]
          },
          "metadata": {}
        },
        {
          "output_type": "stream",
          "name": "stdout",
          "text": [
            "Time is 1.2387535572052002\n"
          ]
        }
      ]
    },
    {
      "cell_type": "code",
      "source": [
        "rules_rhs = filter(lambda rule: len(rule.lhs) == 1 and len(rule.rhs) == 1, rules)\n",
        "for rule in sorted(rules_rhs, key=lambda rule: rule.lift):\n",
        "  print(rule)\n",
        "rules_rhs = filter(lambda rule: len(rule.lhs) == 2 and len(rule.rhs) == 1, rules)\n",
        "for rule in sorted(rules_rhs, key=lambda rule: rule.lift):\n",
        "  print(rule)"
      ],
      "metadata": {
        "colab": {
          "base_uri": "https://localhost:8080/"
        },
        "id": "e9AaUtfkzzZA",
        "outputId": "7dfcb9ab-7b56-4f28-85b9-3975bc499194"
      },
      "execution_count": null,
      "outputs": [
        {
          "output_type": "stream",
          "name": "stdout",
          "text": [
            "{JUMBO STORAGE BAG SUKI} -> {JUMBO BAG RED RETROSPOT} (conf: 0.610, supp: 0.028, lift: 7.404, conv: 2.355)\n",
            "{JUMBO BAG WOODLAND ANIMALS} -> {JUMBO BAG RED RETROSPOT} (conf: 0.617, supp: 0.021, lift: 7.485, conv: 2.396)\n",
            "{JUMBO  BAG BAROQUE BLACK WHITE} -> {JUMBO BAG RED RETROSPOT} (conf: 0.626, supp: 0.023, lift: 7.596, conv: 2.455)\n",
            "{JUMBO BAG STRAWBERRY} -> {JUMBO BAG RED RETROSPOT} (conf: 0.650, supp: 0.021, lift: 7.890, conv: 2.624)\n",
            "{JUMBO BAG PINK POLKADOT} -> {JUMBO BAG RED RETROSPOT} (conf: 0.677, supp: 0.032, lift: 8.209, conv: 2.838)\n",
            "{PAPER CHAIN KIT VINTAGE CHRISTMAS} -> {PAPER CHAIN KIT 50'S CHRISTMAS } (conf: 0.667, supp: 0.021, lift: 14.767, conv: 2.868)\n",
            "{ALARM CLOCK BAKELIKE GREEN} -> {ALARM CLOCK BAKELIKE RED } (conf: 0.645, supp: 0.025, lift: 15.468, conv: 2.699)\n",
            "{CHARLOTTE BAG PINK POLKADOT} -> {RED RETROSPOT CHARLOTTE BAG} (conf: 0.692, supp: 0.020, lift: 17.072, conv: 3.116)\n",
            "{ROSES REGENCY TEACUP AND SAUCER } -> {GREEN REGENCY TEACUP AND SAUCER} (conf: 0.700, supp: 0.030, lift: 17.152, conv: 3.197)\n",
            "{GREEN REGENCY TEACUP AND SAUCER} -> {ROSES REGENCY TEACUP AND SAUCER } (conf: 0.742, supp: 0.030, lift: 17.152, conv: 3.704)\n",
            "{PINK REGENCY TEACUP AND SAUCER} -> {ROSES REGENCY TEACUP AND SAUCER } (conf: 0.767, supp: 0.024, lift: 17.726, conv: 4.098)\n",
            "{DOLLY GIRL LUNCH BOX} -> {SPACEBOY LUNCH BOX } (conf: 0.626, supp: 0.021, lift: 17.864, conv: 2.577)\n",
            "{PINK REGENCY TEACUP AND SAUCER} -> {GREEN REGENCY TEACUP AND SAUCER} (conf: 0.804, supp: 0.025, lift: 19.701, conv: 4.894)\n",
            "{GREEN REGENCY TEACUP AND SAUCER} -> {PINK REGENCY TEACUP AND SAUCER} (conf: 0.609, supp: 0.025, lift: 19.701, conv: 2.480)\n",
            "{GARDENERS KNEELING PAD CUP OF TEA } -> {GARDENERS KNEELING PAD KEEP CALM } (conf: 0.718, supp: 0.021, lift: 20.116, conv: 3.415)\n",
            "{GREEN REGENCY TEACUP AND SAUCER, PINK REGENCY TEACUP AND SAUCER} -> {ROSES REGENCY TEACUP AND SAUCER } (conf: 0.852, supp: 0.021, lift: 19.714, conv: 6.486)\n",
            "{PINK REGENCY TEACUP AND SAUCER, ROSES REGENCY TEACUP AND SAUCER } -> {GREEN REGENCY TEACUP AND SAUCER} (conf: 0.894, supp: 0.021, lift: 21.909, conv: 9.061)\n",
            "{GREEN REGENCY TEACUP AND SAUCER, ROSES REGENCY TEACUP AND SAUCER } -> {PINK REGENCY TEACUP AND SAUCER} (conf: 0.700, supp: 0.021, lift: 22.642, conv: 3.233)\n"
          ]
        }
      ]
    },
    {
      "cell_type": "code",
      "source": [
        "start = time.time()\n",
        "freq_items_set, rules = fpgrowth(transactions_b, minSupRatio=0.02, minConf=0.6)\n",
        "rules_set = []\n",
        "for r in rules:\n",
        "    if r not in rules_set:\n",
        "        rules_set.append(r)\n",
        "for r in rules_set:\n",
        "    print(r)\n",
        "end = time.time()\n",
        "time_fpg_60 = end - start\n",
        "print(f'Time is {time_fpg_60}')"
      ],
      "metadata": {
        "colab": {
          "base_uri": "https://localhost:8080/"
        },
        "id": "NLVtmRX4z1Ds",
        "outputId": "403a9051-951c-467e-9f50-3bfd0fbdfb32"
      },
      "execution_count": null,
      "outputs": [
        {
          "output_type": "stream",
          "name": "stdout",
          "text": [
            "[{'RED HANGING HEART T-LIGHT HOLDER'}, {'WHITE HANGING HEART T-LIGHT HOLDER'}, 0.6631299734748011]\n",
            "[{'CHARLOTTE BAG PINK POLKADOT'}, {'RED RETROSPOT CHARLOTTE BAG'}, 0.6921052631578948]\n",
            "[{'GARDENERS KNEELING PAD CUP OF TEA '}, {'GARDENERS KNEELING PAD KEEP CALM '}, 0.7176470588235294]\n",
            "[{'PINK REGENCY TEACUP AND SAUCER'}, {'ROSES REGENCY TEACUP AND SAUCER '}, 0.766541822721598]\n",
            "[{'PINK REGENCY TEACUP AND SAUCER'}, {'GREEN REGENCY TEACUP AND SAUCER', 'ROSES REGENCY TEACUP AND SAUCER '}, 0.6853932584269663]\n",
            "[{'GREEN REGENCY TEACUP AND SAUCER', 'PINK REGENCY TEACUP AND SAUCER'}, {'ROSES REGENCY TEACUP AND SAUCER '}, 0.8524844720496895]\n",
            "[{'GREEN REGENCY TEACUP AND SAUCER', 'ROSES REGENCY TEACUP AND SAUCER '}, {'PINK REGENCY TEACUP AND SAUCER'}, 0.7002551020408163]\n",
            "[{'PINK REGENCY TEACUP AND SAUCER', 'ROSES REGENCY TEACUP AND SAUCER '}, {'GREEN REGENCY TEACUP AND SAUCER'}, 0.8941368078175895]\n",
            "[{'GREEN REGENCY TEACUP AND SAUCER'}, {'PINK REGENCY TEACUP AND SAUCER'}, 0.609271523178808]\n",
            "[{'PINK REGENCY TEACUP AND SAUCER'}, {'GREEN REGENCY TEACUP AND SAUCER'}, 0.8039950062421972]\n",
            "[{'PAPER CHAIN KIT VINTAGE CHRISTMAS'}, {\"PAPER CHAIN KIT 50'S CHRISTMAS \"}, 0.6670673076923077]\n",
            "[{'JUMBO BAG STRAWBERRY'}, {'JUMBO BAG RED RETROSPOT'}, 0.6503579952267303]\n",
            "[{'WOODLAND CHARLOTTE BAG'}, {'RED RETROSPOT CHARLOTTE BAG'}, 0.6014234875444839]\n",
            "[{'JUMBO BAG WOODLAND ANIMALS'}, {'JUMBO BAG RED RETROSPOT'}, 0.6169724770642202]\n",
            "[{'DOLLY GIRL LUNCH BOX'}, {'SPACEBOY LUNCH BOX '}, 0.6255813953488372]\n",
            "[{'JUMBO  BAG BAROQUE BLACK WHITE'}, {'JUMBO BAG RED RETROSPOT'}, 0.6261879619852164]\n",
            "[{'ALARM CLOCK BAKELIKE GREEN'}, {'ALARM CLOCK BAKELIKE RED '}, 0.645]\n",
            "[{'GREEN REGENCY TEACUP AND SAUCER'}, {'ROSES REGENCY TEACUP AND SAUCER '}, 0.7417218543046358]\n",
            "[{'ROSES REGENCY TEACUP AND SAUCER '}, {'GREEN REGENCY TEACUP AND SAUCER'}, 0.7]\n",
            "[{'JUMBO STORAGE BAG SUKI'}, {'JUMBO BAG RED RETROSPOT'}, 0.6103247293921732]\n",
            "[{'JUMBO BAG PINK POLKADOT'}, {'JUMBO BAG RED RETROSPOT'}, 0.6766856214459789]\n",
            "Time is 32.34721875190735\n"
          ]
        }
      ]
    },
    {
      "cell_type": "code",
      "source": [
        "fig, ax = plt.subplots()\n",
        "\n",
        "ax.bar('Apriori',time_apriori_60, label=\"Apriori\", color='r')\n",
        "ax.bar('Efficient Apriori',time_ef_apr_60, label=\"Efficient Apriori\", color='g')\n",
        "ax.bar('FPGrowth',time_fpg_60, label=\"FPGrowth\", color='b')\n",
        "\n",
        "ax.set_ylabel('Time')\n",
        "ax.set_title('Comparison')\n",
        "ax.legend(title='Method')\n",
        "\n",
        "plt.show()"
      ],
      "metadata": {
        "colab": {
          "base_uri": "https://localhost:8080/",
          "height": 281
        },
        "id": "cvi7lsF2z2HH",
        "outputId": "0e520fd8-969a-4ce3-b3e5-0d97fa95049a"
      },
      "execution_count": null,
      "outputs": [
        {
          "output_type": "display_data",
          "data": {
            "text/plain": [
              "<Figure size 432x288 with 1 Axes>"
            ],
            "image/png": "[encoded data removed]"
          },
          "metadata": {
            "needs_background": "light"
          }
        }
      ]
    },
    {
      "cell_type": "markdown",
      "source": [
        "Выполнение алгоритмов: Apriori, Efficient Apriori и FPGrowth с достоверностью 80%"
      ],
      "metadata": {
        "id": "DL8vnMGv1Lx6"
      }
    },
    {
      "cell_type": "code",
      "source": [
        "start = time.time()\n",
        "freq_item_set, rules = apriori(transactions_b, minSup = 0.02, minConf = 0.8)\n",
        "for r in rules:\n",
        "    print(r)\n",
        "end = time.time()\n",
        "time_apriori_80 = end - start\n",
        "print(f'Time is {time_apriori_80}')"
      ],
      "metadata": {
        "colab": {
          "base_uri": "https://localhost:8080/"
        },
        "id": "Wj_0t7l4z298",
        "outputId": "bb3757df-991f-42a5-bd0e-1c63e41daf72"
      },
      "execution_count": null,
      "outputs": [
        {
          "output_type": "stream",
          "name": "stdout",
          "text": [
            "[{'PINK REGENCY TEACUP AND SAUCER'}, {'GREEN REGENCY TEACUP AND SAUCER'}, 0.8039950062421972]\n",
            "[{'GREEN REGENCY TEACUP AND SAUCER', 'PINK REGENCY TEACUP AND SAUCER'}, {'ROSES REGENCY TEACUP AND SAUCER '}, 0.8524844720496895]\n",
            "[{'PINK REGENCY TEACUP AND SAUCER', 'ROSES REGENCY TEACUP AND SAUCER '}, {'GREEN REGENCY TEACUP AND SAUCER'}, 0.8941368078175895]\n",
            "Time is 711.6560328006744\n"
          ]
        }
      ]
    },
    {
      "cell_type": "code",
      "source": [
        "start = time.time()\n",
        "freq_item_set, rules = ef_apriori(transactions_b, min_support = 0.02, min_confidence = 0.8)\n",
        "PyARMViz.generate_rule_graph_plotly(rules)\n",
        "end = time.time()\n",
        "time_ef_apr_80 = end - start\n",
        "print(f'Time is {time_ef_apr_80}')"
      ],
      "metadata": {
        "colab": {
          "base_uri": "https://localhost:8080/",
          "height": 559
        },
        "id": "rAGSW1Rqz42O",
        "outputId": "b1ec238d-1184-42ab-f4ff-9036af58d77a"
      },
      "execution_count": null,
      "outputs": [
        {
          "output_type": "display_data",
          "data": {
            "text/html": [
              "<html>\n",
              "<head><meta charset=\"utf-8\" /></head>\n",
              "<body>\n",
              "    <div>            <script src=\"https://cdnjs.cloudflare.com/ajax/libs/mathjax/2.7.5/MathJax.js?config=TeX-AMS-MML_SVG\"></script><script type=\"text/javascript\">if (window.MathJax) {MathJax.Hub.Config({SVG: {font: \"STIX-Web\"}});}</script>                <script type=\"text/javascript\">window.PlotlyConfig = {MathJaxConfig: 'local'};</script>\n",
              "        <script src=\"https://cdn.plot.ly/plotly-2.8.3.min.js\"></script>                <div id=\"7249b2f9-e500-4f9f-9134-51ef27c84651\" class=\"plotly-graph-div\" style=\"height:525px; width:100%;\"></div>            <script type=\"text/javascript\">                                    window.PLOTLYENV=window.PLOTLYENV || {};                                    if (document.getElementById(\"7249b2f9-e500-4f9f-9134-51ef27c84651\")) {                    Plotly.newPlot(                        \"7249b2f9-e500-4f9f-9134-51ef27c84651\",                        [{\"hoverinfo\":\"none\",\"line\":{\"color\":\"#888\",\"width\":0.5},\"mode\":\"lines\",\"x\":[0.11498042897788438,0.47066019595113384,null,0.05004169984078821,0.11498042897788438,null,0.05004169984078821,0.8869682912145304,null,0.05004169984078821,-0.8851955284192953,null,0.47066019595113384,-0.8851955284192953,null,0.8869682912145304,0.47066019595113384,null,-0.6374550875650403,0.8869682912145304,null,-0.8851955284192953,-0.6374550875650403,null],\"y\":[-0.42213365121700375,1.0,null,0.19756095956302472,-0.42213365121700375,null,0.19756095956302472,-0.6614702939299416,null,0.19756095956302472,0.7539240487934066,null,1.0,0.7539240487934066,null,-0.6614702939299416,1.0,null,-0.8678810632094861,-0.6614702939299416,null,0.7539240487934066,-0.8678810632094861,null],\"type\":\"scatter\"},{\"hoverinfo\":\"text\",\"marker\":{\"color\":[],\"colorbar\":{\"thickness\":15,\"title\":{\"side\":\"right\",\"text\":\"Node Connections\"},\"xanchor\":\"left\"},\"colorscale\":[[0.0,\"rgb(255,255,217)\"],[0.125,\"rgb(237,248,177)\"],[0.25,\"rgb(199,233,180)\"],[0.375,\"rgb(127,205,187)\"],[0.5,\"rgb(65,182,196)\"],[0.625,\"rgb(29,145,192)\"],[0.75,\"rgb(34,94,168)\"],[0.875,\"rgb(37,52,148)\"],[1.0,\"rgb(8,29,88)\"]],\"line\":{\"width\":2},\"reversescale\":true,\"showscale\":true,\"size\":10},\"mode\":\"markers\",\"text\":[\"0\",\"PINK REGENCY TEACUP AND SAUCER\",\"GREEN REGENCY TEACUP AND SAUCER\",\"1\",\"ROSES REGENCY TEACUP AND SAUCER \",\"2\"],\"x\":[0.11498042897788438,0.05004169984078821,0.47066019595113384,0.8869682912145304,-0.6374550875650403,-0.8851955284192953],\"y\":[-0.42213365121700375,0.19756095956302472,1.0,-0.6614702939299416,-0.8678810632094861,0.7539240487934066],\"type\":\"scatter\"}],                        {\"annotations\":[{\"showarrow\":false,\"text\":\"Python code: <a href='https://plotly.com/ipython-notebooks/network-graphs/'> https://plotly.com/ipython-notebooks/network-graphs/</a>\",\"x\":0.005,\"xref\":\"paper\",\"y\":-0.002,\"yref\":\"paper\"}],\"hovermode\":\"closest\",\"margin\":{\"b\":20,\"l\":5,\"r\":5,\"t\":40},\"showlegend\":false,\"title\":{\"font\":{\"size\":16},\"text\":\"<br>Network graph made with Python\"},\"xaxis\":{\"showgrid\":false,\"showticklabels\":false,\"zeroline\":false},\"yaxis\":{\"showgrid\":false,\"showticklabels\":false,\"zeroline\":false},\"template\":{\"data\":{\"bar\":[{\"error_x\":{\"color\":\"#2a3f5f\"},\"error_y\":{\"color\":\"#2a3f5f\"},\"marker\":{\"line\":{\"color\":\"#E5ECF6\",\"width\":0.5},\"pattern\":{\"fillmode\":\"overlay\",\"size\":10,\"solidity\":0.2}},\"type\":\"bar\"}],\"barpolar\":[{\"marker\":{\"line\":{\"color\":\"#E5ECF6\",\"width\":0.5},\"pattern\":{\"fillmode\":\"overlay\",\"size\":10,\"solidity\":0.2}},\"type\":\"barpolar\"}],\"carpet\":[{\"aaxis\":{\"endlinecolor\":\"#2a3f5f\",\"gridcolor\":\"white\",\"linecolor\":\"white\",\"minorgridcolor\":\"white\",\"startlinecolor\":\"#2a3f5f\"},\"baxis\":{\"endlinecolor\":\"#2a3f5f\",\"gridcolor\":\"white\",\"linecolor\":\"white\",\"minorgridcolor\":\"white\",\"startlinecolor\":\"#2a3f5f\"},\"type\":\"carpet\"}],\"choropleth\":[{\"colorbar\":{\"outlinewidth\":0,\"ticks\":\"\"},\"type\":\"choropleth\"}],\"contour\":[{\"colorbar\":{\"outlinewidth\":0,\"ticks\":\"\"},\"colorscale\":[[0.0,\"#0d0887\"],[0.1111111111111111,\"#46039f\"],[0.2222222222222222,\"#7201a8\"],[0.3333333333333333,\"#9c179e\"],[0.4444444444444444,\"#bd3786\"],[0.5555555555555556,\"#d8576b\"],[0.6666666666666666,\"#ed7953\"],[0.7777777777777778,\"#fb9f3a\"],[0.8888888888888888,\"#fdca26\"],[1.0,\"#f0f921\"]],\"type\":\"contour\"}],\"contourcarpet\":[{\"colorbar\":{\"outlinewidth\":0,\"ticks\":\"\"},\"type\":\"contourcarpet\"}],\"heatmap\":[{\"colorbar\":{\"outlinewidth\":0,\"ticks\":\"\"},\"colorscale\":[[0.0,\"#0d0887\"],[0.1111111111111111,\"#46039f\"],[0.2222222222222222,\"#7201a8\"],[0.3333333333333333,\"#9c179e\"],[0.4444444444444444,\"#bd3786\"],[0.5555555555555556,\"#d8576b\"],[0.6666666666666666,\"#ed7953\"],[0.7777777777777778,\"#fb9f3a\"],[0.8888888888888888,\"#fdca26\"],[1.0,\"#f0f921\"]],\"type\":\"heatmap\"}],\"heatmapgl\":[{\"colorbar\":{\"outlinewidth\":0,\"ticks\":\"\"},\"colorscale\":[[0.0,\"#0d0887\"],[0.1111111111111111,\"#46039f\"],[0.2222222222222222,\"#7201a8\"],[0.3333333333333333,\"#9c179e\"],[0.4444444444444444,\"#bd3786\"],[0.5555555555555556,\"#d8576b\"],[0.6666666666666666,\"#ed7953\"],[0.7777777777777778,\"#fb9f3a\"],[0.8888888888888888,\"#fdca26\"],[1.0,\"#f0f921\"]],\"type\":\"heatmapgl\"}],\"histogram\":[{\"marker\":{\"pattern\":{\"fillmode\":\"overlay\",\"size\":10,\"solidity\":0.2}},\"type\":\"histogram\"}],\"histogram2d\":[{\"colorbar\":{\"outlinewidth\":0,\"ticks\":\"\"},\"colorscale\":[[0.0,\"#0d0887\"],[0.1111111111111111,\"#46039f\"],[0.2222222222222222,\"#7201a8\"],[0.3333333333333333,\"#9c179e\"],[0.4444444444444444,\"#bd3786\"],[0.5555555555555556,\"#d8576b\"],[0.6666666666666666,\"#ed7953\"],[0.7777777777777778,\"#fb9f3a\"],[0.8888888888888888,\"#fdca26\"],[1.0,\"#f0f921\"]],\"type\":\"histogram2d\"}],\"histogram2dcontour\":[{\"colorbar\":{\"outlinewidth\":0,\"ticks\":\"\"},\"colorscale\":[[0.0,\"#0d0887\"],[0.1111111111111111,\"#46039f\"],[0.2222222222222222,\"#7201a8\"],[0.3333333333333333,\"#9c179e\"],[0.4444444444444444,\"#bd3786\"],[0.5555555555555556,\"#d8576b\"],[0.6666666666666666,\"#ed7953\"],[0.7777777777777778,\"#fb9f3a\"],[0.8888888888888888,\"#fdca26\"],[1.0,\"#f0f921\"]],\"type\":\"histogram2dcontour\"}],\"mesh3d\":[{\"colorbar\":{\"outlinewidth\":0,\"ticks\":\"\"},\"type\":\"mesh3d\"}],\"parcoords\":[{\"line\":{\"colorbar\":{\"outlinewidth\":0,\"ticks\":\"\"}},\"type\":\"parcoords\"}],\"pie\":[{\"automargin\":true,\"type\":\"pie\"}],\"scatter\":[{\"marker\":{\"colorbar\":{\"outlinewidth\":0,\"ticks\":\"\"}},\"type\":\"scatter\"}],\"scatter3d\":[{\"line\":{\"colorbar\":{\"outlinewidth\":0,\"ticks\":\"\"}},\"marker\":{\"colorbar\":{\"outlinewidth\":0,\"ticks\":\"\"}},\"type\":\"scatter3d\"}],\"scattercarpet\":[{\"marker\":{\"colorbar\":{\"outlinewidth\":0,\"ticks\":\"\"}},\"type\":\"scattercarpet\"}],\"scattergeo\":[{\"marker\":{\"colorbar\":{\"outlinewidth\":0,\"ticks\":\"\"}},\"type\":\"scattergeo\"}],\"scattergl\":[{\"marker\":{\"colorbar\":{\"outlinewidth\":0,\"ticks\":\"\"}},\"type\":\"scattergl\"}],\"scattermapbox\":[{\"marker\":{\"colorbar\":{\"outlinewidth\":0,\"ticks\":\"\"}},\"type\":\"scattermapbox\"}],\"scatterpolar\":[{\"marker\":{\"colorbar\":{\"outlinewidth\":0,\"ticks\":\"\"}},\"type\":\"scatterpolar\"}],\"scatterpolargl\":[{\"marker\":{\"colorbar\":{\"outlinewidth\":0,\"ticks\":\"\"}},\"type\":\"scatterpolargl\"}],\"scatterternary\":[{\"marker\":{\"colorbar\":{\"outlinewidth\":0,\"ticks\":\"\"}},\"type\":\"scatterternary\"}],\"surface\":[{\"colorbar\":{\"outlinewidth\":0,\"ticks\":\"\"},\"colorscale\":[[0.0,\"#0d0887\"],[0.1111111111111111,\"#46039f\"],[0.2222222222222222,\"#7201a8\"],[0.3333333333333333,\"#9c179e\"],[0.4444444444444444,\"#bd3786\"],[0.5555555555555556,\"#d8576b\"],[0.6666666666666666,\"#ed7953\"],[0.7777777777777778,\"#fb9f3a\"],[0.8888888888888888,\"#fdca26\"],[1.0,\"#f0f921\"]],\"type\":\"surface\"}],\"table\":[{\"cells\":{\"fill\":{\"color\":\"#EBF0F8\"},\"line\":{\"color\":\"white\"}},\"header\":{\"fill\":{\"color\":\"#C8D4E3\"},\"line\":{\"color\":\"white\"}},\"type\":\"table\"}]},\"layout\":{\"annotationdefaults\":{\"arrowcolor\":\"#2a3f5f\",\"arrowhead\":0,\"arrowwidth\":1},\"autotypenumbers\":\"strict\",\"coloraxis\":{\"colorbar\":{\"outlinewidth\":0,\"ticks\":\"\"}},\"colorscale\":{\"diverging\":[[0,\"#8e0152\"],[0.1,\"#c51b7d\"],[0.2,\"#de77ae\"],[0.3,\"#f1b6da\"],[0.4,\"#fde0ef\"],[0.5,\"#f7f7f7\"],[0.6,\"#e6f5d0\"],[0.7,\"#b8e186\"],[0.8,\"#7fbc41\"],[0.9,\"#4d9221\"],[1,\"#276419\"]],\"sequential\":[[0.0,\"#0d0887\"],[0.1111111111111111,\"#46039f\"],[0.2222222222222222,\"#7201a8\"],[0.3333333333333333,\"#9c179e\"],[0.4444444444444444,\"#bd3786\"],[0.5555555555555556,\"#d8576b\"],[0.6666666666666666,\"#ed7953\"],[0.7777777777777778,\"#fb9f3a\"],[0.8888888888888888,\"#fdca26\"],[1.0,\"#f0f921\"]],\"sequentialminus\":[[0.0,\"#0d0887\"],[0.1111111111111111,\"#46039f\"],[0.2222222222222222,\"#7201a8\"],[0.3333333333333333,\"#9c179e\"],[0.4444444444444444,\"#bd3786\"],[0.5555555555555556,\"#d8576b\"],[0.6666666666666666,\"#ed7953\"],[0.7777777777777778,\"#fb9f3a\"],[0.8888888888888888,\"#fdca26\"],[1.0,\"#f0f921\"]]},\"colorway\":[\"#636efa\",\"#EF553B\",\"#00cc96\",\"#ab63fa\",\"#FFA15A\",\"#19d3f3\",\"#FF6692\",\"#B6E880\",\"#FF97FF\",\"#FECB52\"],\"font\":{\"color\":\"#2a3f5f\"},\"geo\":{\"bgcolor\":\"white\",\"lakecolor\":\"white\",\"landcolor\":\"#E5ECF6\",\"showlakes\":true,\"showland\":true,\"subunitcolor\":\"white\"},\"hoverlabel\":{\"align\":\"left\"},\"hovermode\":\"closest\",\"mapbox\":{\"style\":\"light\"},\"paper_bgcolor\":\"white\",\"plot_bgcolor\":\"#E5ECF6\",\"polar\":{\"angularaxis\":{\"gridcolor\":\"white\",\"linecolor\":\"white\",\"ticks\":\"\"},\"bgcolor\":\"#E5ECF6\",\"radialaxis\":{\"gridcolor\":\"white\",\"linecolor\":\"white\",\"ticks\":\"\"}},\"scene\":{\"xaxis\":{\"backgroundcolor\":\"#E5ECF6\",\"gridcolor\":\"white\",\"gridwidth\":2,\"linecolor\":\"white\",\"showbackground\":true,\"ticks\":\"\",\"zerolinecolor\":\"white\"},\"yaxis\":{\"backgroundcolor\":\"#E5ECF6\",\"gridcolor\":\"white\",\"gridwidth\":2,\"linecolor\":\"white\",\"showbackground\":true,\"ticks\":\"\",\"zerolinecolor\":\"white\"},\"zaxis\":{\"backgroundcolor\":\"#E5ECF6\",\"gridcolor\":\"white\",\"gridwidth\":2,\"linecolor\":\"white\",\"showbackground\":true,\"ticks\":\"\",\"zerolinecolor\":\"white\"}},\"shapedefaults\":{\"line\":{\"color\":\"#2a3f5f\"}},\"ternary\":{\"aaxis\":{\"gridcolor\":\"white\",\"linecolor\":\"white\",\"ticks\":\"\"},\"baxis\":{\"gridcolor\":\"white\",\"linecolor\":\"white\",\"ticks\":\"\"},\"bgcolor\":\"#E5ECF6\",\"caxis\":{\"gridcolor\":\"white\",\"linecolor\":\"white\",\"ticks\":\"\"}},\"title\":{\"x\":0.05},\"xaxis\":{\"automargin\":true,\"gridcolor\":\"white\",\"linecolor\":\"white\",\"ticks\":\"\",\"title\":{\"standoff\":15},\"zerolinecolor\":\"white\",\"zerolinewidth\":2},\"yaxis\":{\"automargin\":true,\"gridcolor\":\"white\",\"linecolor\":\"white\",\"ticks\":\"\",\"title\":{\"standoff\":15},\"zerolinecolor\":\"white\",\"zerolinewidth\":2}}}},                        {\"responsive\": true}                    ).then(function(){\n",
              "                            \n",
              "var gd = document.getElementById('7249b2f9-e500-4f9f-9134-51ef27c84651');\n",
              "var x = new MutationObserver(function (mutations, observer) {{\n",
              "        var display = window.getComputedStyle(gd).display;\n",
              "        if (!display || display === 'none') {{\n",
              "            console.log([gd, 'removed!']);\n",
              "            Plotly.purge(gd);\n",
              "            observer.disconnect();\n",
              "        }}\n",
              "}});\n",
              "\n",
              "// Listen for the removal of the full notebook cells\n",
              "var notebookContainer = gd.closest('#notebook-container');\n",
              "if (notebookContainer) {{\n",
              "    x.observe(notebookContainer, {childList: true});\n",
              "}}\n",
              "\n",
              "// Listen for the clearing of the current output cell\n",
              "var outputEl = gd.closest('.output');\n",
              "if (outputEl) {{\n",
              "    x.observe(outputEl, {childList: true});\n",
              "}}\n",
              "\n",
              "                        })                };                            </script>        </div>\n",
              "</body>\n",
              "</html>"
            ]
          },
          "metadata": {}
        },
        {
          "output_type": "stream",
          "name": "stdout",
          "text": [
            "Time is 0.8660614490509033\n"
          ]
        }
      ]
    },
    {
      "cell_type": "code",
      "source": [
        "rules_rhs = filter(lambda rule: len(rule.lhs) == 1 and len(rule.rhs) == 1, rules)\n",
        "for rule in sorted(rules_rhs, key=lambda rule: rule.lift):\n",
        "  print(rule)\n",
        "rules_rhs = filter(lambda rule: len(rule.lhs) == 2 and len(rule.rhs) == 1, rules)\n",
        "for rule in sorted(rules_rhs, key=lambda rule: rule.lift):\n",
        "  print(rule)"
      ],
      "metadata": {
        "colab": {
          "base_uri": "https://localhost:8080/"
        },
        "id": "1p6NYfqYz6OF",
        "outputId": "a523e4b6-dd5f-4966-deca-83bd1c281370"
      },
      "execution_count": null,
      "outputs": [
        {
          "output_type": "stream",
          "name": "stdout",
          "text": [
            "{PINK REGENCY TEACUP AND SAUCER} -> {GREEN REGENCY TEACUP AND SAUCER} (conf: 0.804, supp: 0.025, lift: 19.701, conv: 4.894)\n",
            "{GREEN REGENCY TEACUP AND SAUCER, PINK REGENCY TEACUP AND SAUCER} -> {ROSES REGENCY TEACUP AND SAUCER } (conf: 0.852, supp: 0.021, lift: 19.714, conv: 6.486)\n",
            "{PINK REGENCY TEACUP AND SAUCER, ROSES REGENCY TEACUP AND SAUCER } -> {GREEN REGENCY TEACUP AND SAUCER} (conf: 0.894, supp: 0.021, lift: 21.909, conv: 9.061)\n"
          ]
        }
      ]
    },
    {
      "cell_type": "code",
      "source": [
        "start = time.time()\n",
        "freq_items_set, rules = fpgrowth(transactions_b, minSupRatio=0.02, minConf=0.8)\n",
        "rules_set = []\n",
        "for r in rules:\n",
        "    if r not in rules_set:\n",
        "        rules_set.append(r)\n",
        "for r in rules_set:\n",
        "    print(r)\n",
        "end = time.time()\n",
        "time_fpg_80 = end - start\n",
        "print(f'Time is {time_fpg_80}')"
      ],
      "metadata": {
        "colab": {
          "base_uri": "https://localhost:8080/"
        },
        "id": "LD6mY1rhz60p",
        "outputId": "e45e6501-1bb7-4caf-e504-3179ae2a1cdb"
      },
      "execution_count": null,
      "outputs": [
        {
          "output_type": "stream",
          "name": "stdout",
          "text": [
            "[{'GREEN REGENCY TEACUP AND SAUCER', 'PINK REGENCY TEACUP AND SAUCER'}, {'ROSES REGENCY TEACUP AND SAUCER '}, 0.8524844720496895]\n",
            "[{'PINK REGENCY TEACUP AND SAUCER', 'ROSES REGENCY TEACUP AND SAUCER '}, {'GREEN REGENCY TEACUP AND SAUCER'}, 0.8941368078175895]\n",
            "[{'PINK REGENCY TEACUP AND SAUCER'}, {'GREEN REGENCY TEACUP AND SAUCER'}, 0.8039950062421972]\n",
            "Time is 33.64589977264404\n"
          ]
        }
      ]
    },
    {
      "cell_type": "code",
      "source": [
        "fig, ax = plt.subplots()\n",
        "\n",
        "ax.bar('Apriori',time_apriori_80, label=\"Apriori\", color='r')\n",
        "ax.bar('Efficient Apriori',time_ef_apr_80, label=\"Efficient Apriori\", color='g')\n",
        "ax.bar('FPGrowth',time_fpg_80, label=\"FPGrowth\", color='b')\n",
        "\n",
        "ax.set_ylabel('Time')\n",
        "ax.set_title('Comparison')\n",
        "ax.legend(title='Method')\n",
        "\n",
        "plt.show()"
      ],
      "metadata": {
        "colab": {
          "base_uri": "https://localhost:8080/",
          "height": 281
        },
        "id": "fl7l4T8YGX-c",
        "outputId": "894c73fc-19ca-41c1-81b5-bef46492f055"
      },
      "execution_count": null,
      "outputs": [
        {
          "output_type": "display_data",
          "data": {
            "text/plain": [
              "<Figure size 432x288 with 1 Axes>"
            ],
            "image/png": "[encoded data removed]"
          },
          "metadata": {
            "needs_background": "light"
          }
        }
      ]
    }
  ]
}